{
 "cells": [
  {
   "cell_type": "markdown",
   "metadata": {},
   "source": [
    "# Evaluacón de modelos"
   ]
  },
  {
   "cell_type": "code",
   "execution_count": 23,
   "metadata": {},
   "outputs": [],
   "source": [
    "import joblib\n",
    "import os\n",
    "\n",
    "import pandas as pd\n",
    "from sklearn.linear_model._logistic import LogisticRegression\n",
    "from sklearn.model_selection import GridSearchCV\n",
    "from sklearn.naive_bayes import MultinomialNB\n",
    "from sklearn.svm import SVC\n",
    "from sklearn.metrics import classification_report, confusion_matrix\n",
    "\n",
    "\n",
    "from config import MODELS_PATH"
   ]
  },
  {
   "cell_type": "code",
   "execution_count": 4,
   "metadata": {},
   "outputs": [],
   "source": [
    "MODELS = os.path.join(MODELS_PATH, \"refit\")\n",
    "TESTSETS = os.path.join(MODELS_PATH, \"testsets\")"
   ]
  },
  {
   "cell_type": "code",
   "execution_count": 16,
   "metadata": {},
   "outputs": [],
   "source": [
    "models_predictions = dict()\n",
    "\n",
    "for model in os.listdir(MODELS):\n",
    "    name, _ = os.path.splitext(model)\n",
    "    _, dataset = name.split(\"_\")\n",
    "\n",
    "    dataset_path = os.path.join(TESTSETS, F\"X_test_{dataset}.csv\")\n",
    "    X = pd.read_csv(dataset_path)\n",
    "\n",
    "    model_path = os.path.join(MODELS, model)\n",
    "    trained_model = joblib.load(model_path)\n",
    "    predictions = {\"y_hat\": trained_model.predict(X)}\n",
    "\n",
    "    for method in [\"predict_proba\", \"predict_log_proba\", \"predict_joint_log_proba\"]:\n",
    "        if hasattr(trained_model, method):\n",
    "            key = method.replace(\"predict_\", \"\").strip()\n",
    "            predictions.update(\n",
    "                {f\"y_hat_{key}\": getattr(trained_model, method)(X)}\n",
    "            )\n",
    "\n",
    "    models_predictions[name] = predictions"
   ]
  },
  {
   "cell_type": "code",
   "execution_count": 19,
   "metadata": {},
   "outputs": [
    {
     "name": "stdout",
     "output_type": "stream",
     "text": [
      "svm_log-odds       --- ['y_hat', 'y_hat_proba', 'y_hat_log_proba']\n",
      "nb_log-odds        --- ['y_hat', 'y_hat_proba', 'y_hat_log_proba', 'y_hat_joint_log_proba']\n",
      "lr_log-odds        --- ['y_hat', 'y_hat_proba', 'y_hat_log_proba']\n",
      "lr_proporciones    --- ['y_hat', 'y_hat_proba', 'y_hat_log_proba']\n",
      "nb_proporciones    --- ['y_hat', 'y_hat_proba', 'y_hat_log_proba', 'y_hat_joint_log_proba']\n",
      "svm_proporciones   --- ['y_hat', 'y_hat_proba', 'y_hat_log_proba']\n"
     ]
    }
   ],
   "source": [
    "for key, value in models_predictions.items():\n",
    "    print(\"{0:18} --- {1}\".format(key, list(value.keys())))"
   ]
  },
  {
   "cell_type": "markdown",
   "metadata": {},
   "source": [
    "## Reportes"
   ]
  },
  {
   "cell_type": "code",
   "execution_count": null,
   "metadata": {},
   "outputs": [],
   "source": [
    "y_path = os.path.join(TESTSETS, \"y_test.csv\")\n",
    "y = pd.read_csv(y_path, header=None)"
   ]
  },
  {
   "cell_type": "code",
   "execution_count": 24,
   "metadata": {},
   "outputs": [
    {
     "name": "stdout",
     "output_type": "stream",
     "text": [
      "Reporte para modelo svm con dataset log-odds\n",
      "              precision    recall  f1-score   support\n",
      "\n",
      "           0       0.88      0.39      0.54        18\n",
      "           1       0.66      0.95      0.78        22\n",
      "\n",
      "    accuracy                           0.70        40\n",
      "   macro avg       0.77      0.67      0.66        40\n",
      "weighted avg       0.75      0.70      0.67        40\n",
      "\n",
      "Reporte para modelo nb con dataset log-odds\n",
      "              precision    recall  f1-score   support\n",
      "\n",
      "           0       0.59      0.89      0.71        18\n",
      "           1       0.85      0.50      0.63        22\n",
      "\n",
      "    accuracy                           0.68        40\n",
      "   macro avg       0.72      0.69      0.67        40\n",
      "weighted avg       0.73      0.68      0.67        40\n",
      "\n",
      "Reporte para modelo lr con dataset log-odds\n",
      "              precision    recall  f1-score   support\n",
      "\n",
      "           0       1.00      0.44      0.62        18\n",
      "           1       0.69      1.00      0.81        22\n",
      "\n",
      "    accuracy                           0.75        40\n",
      "   macro avg       0.84      0.72      0.72        40\n",
      "weighted avg       0.83      0.75      0.73        40\n",
      "\n",
      "Reporte para modelo lr con dataset proporciones\n",
      "              precision    recall  f1-score   support\n",
      "\n",
      "           0       0.70      0.78      0.74        18\n",
      "           1       0.80      0.73      0.76        22\n",
      "\n",
      "    accuracy                           0.75        40\n",
      "   macro avg       0.75      0.75      0.75        40\n",
      "weighted avg       0.76      0.75      0.75        40\n",
      "\n",
      "Reporte para modelo nb con dataset proporciones\n",
      "              precision    recall  f1-score   support\n",
      "\n",
      "           0       0.63      0.94      0.76        18\n",
      "           1       0.92      0.55      0.69        22\n",
      "\n",
      "    accuracy                           0.73        40\n",
      "   macro avg       0.78      0.74      0.72        40\n",
      "weighted avg       0.79      0.72      0.72        40\n",
      "\n",
      "Reporte para modelo svm con dataset proporciones\n",
      "              precision    recall  f1-score   support\n",
      "\n",
      "           0       0.00      0.00      0.00        18\n",
      "           1       0.55      1.00      0.71        22\n",
      "\n",
      "    accuracy                           0.55        40\n",
      "   macro avg       0.28      0.50      0.35        40\n",
      "weighted avg       0.30      0.55      0.39        40\n",
      "\n"
     ]
    },
    {
     "name": "stderr",
     "output_type": "stream",
     "text": [
      "/home/macarena/.pyenv/versions/3.11.4/envs/eddc-tp/lib/python3.11/site-packages/sklearn/metrics/_classification.py:1469: UndefinedMetricWarning: Precision and F-score are ill-defined and being set to 0.0 in labels with no predicted samples. Use `zero_division` parameter to control this behavior.\n",
      "  _warn_prf(average, modifier, msg_start, len(result))\n",
      "/home/macarena/.pyenv/versions/3.11.4/envs/eddc-tp/lib/python3.11/site-packages/sklearn/metrics/_classification.py:1469: UndefinedMetricWarning: Precision and F-score are ill-defined and being set to 0.0 in labels with no predicted samples. Use `zero_division` parameter to control this behavior.\n",
      "  _warn_prf(average, modifier, msg_start, len(result))\n",
      "/home/macarena/.pyenv/versions/3.11.4/envs/eddc-tp/lib/python3.11/site-packages/sklearn/metrics/_classification.py:1469: UndefinedMetricWarning: Precision and F-score are ill-defined and being set to 0.0 in labels with no predicted samples. Use `zero_division` parameter to control this behavior.\n",
      "  _warn_prf(average, modifier, msg_start, len(result))\n",
      "/home/macarena/.pyenv/versions/3.11.4/envs/eddc-tp/lib/python3.11/site-packages/sklearn/metrics/_classification.py:1469: UndefinedMetricWarning: Precision and F-score are ill-defined and being set to 0.0 in labels with no predicted samples. Use `zero_division` parameter to control this behavior.\n",
      "  _warn_prf(average, modifier, msg_start, len(result))\n",
      "/home/macarena/.pyenv/versions/3.11.4/envs/eddc-tp/lib/python3.11/site-packages/sklearn/metrics/_classification.py:1469: UndefinedMetricWarning: Precision and F-score are ill-defined and being set to 0.0 in labels with no predicted samples. Use `zero_division` parameter to control this behavior.\n",
      "  _warn_prf(average, modifier, msg_start, len(result))\n",
      "/home/macarena/.pyenv/versions/3.11.4/envs/eddc-tp/lib/python3.11/site-packages/sklearn/metrics/_classification.py:1469: UndefinedMetricWarning: Precision and F-score are ill-defined and being set to 0.0 in labels with no predicted samples. Use `zero_division` parameter to control this behavior.\n",
      "  _warn_prf(average, modifier, msg_start, len(result))\n"
     ]
    }
   ],
   "source": [
    "report = dict()\n",
    "\n",
    "for key, value in models_predictions.items():\n",
    "    model, dataset = key.split(\"_\")\n",
    "    print(f\"Reporte para modelo {model} con dataset {dataset}\")\n",
    "    print(classification_report(y, value[\"y_hat\"]))\n",
    "    report[key] = classification_report(y, value[\"y_hat\"], output_dict=True)"
   ]
  },
  {
   "cell_type": "markdown",
   "metadata": {},
   "source": [
    "## Visualizaciones"
   ]
  },
  {
   "cell_type": "code",
   "execution_count": null,
   "metadata": {},
   "outputs": [],
   "source": [
    "# hacer matriz de confusión por ahora nomás"
   ]
  }
 ],
 "metadata": {
  "kernelspec": {
   "display_name": "eddc-tp",
   "language": "python",
   "name": "python3"
  },
  "language_info": {
   "codemirror_mode": {
    "name": "ipython",
    "version": 3
   },
   "file_extension": ".py",
   "mimetype": "text/x-python",
   "name": "python",
   "nbconvert_exporter": "python",
   "pygments_lexer": "ipython3",
   "version": "3.11.4"
  }
 },
 "nbformat": 4,
 "nbformat_minor": 2
}
