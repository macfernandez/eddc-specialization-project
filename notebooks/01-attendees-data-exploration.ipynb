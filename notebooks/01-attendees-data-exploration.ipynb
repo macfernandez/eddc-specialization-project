{
 "cells": [
  {
   "attachments": {},
   "cell_type": "markdown",
   "metadata": {},
   "source": [
    "# Session attendees exploration"
   ]
  },
  {
   "attachments": {},
   "cell_type": "markdown",
   "metadata": {},
   "source": [
    "Notebook for merging two datasets:\n",
    "\n",
    "- [../data/session_29-12-2020_attendees.csv](../data/session_29-12-2020_attendees.csv): dataset with the list of attendees to the session (including not only senators but also the session's president and secretaires). This dataset was manually enhanced with the senators vote decission.\n",
    "- [../data/senators_data.csv](../data/senators_data.csv): dataset downloaded form the [Senate webpage](https://www.senado.gob.ar/), with information about the senators (their labor period, their party, etc)."
   ]
  },
  {
   "cell_type": "code",
   "execution_count": null,
   "metadata": {},
   "outputs": [],
   "source": [
    "import os\n",
    "import pandas as pd"
   ]
  },
  {
   "cell_type": "code",
   "execution_count": null,
   "metadata": {},
   "outputs": [],
   "source": [
    "here = os.getcwd()\n",
    "project_path = os.path.dirname(here)\n",
    "data_path = os.path.join(project_path, \"data\")"
   ]
  },
  {
   "cell_type": "code",
   "execution_count": null,
   "metadata": {},
   "outputs": [],
   "source": [
    "session_attendees_path = os.path.join(data_path, \"session_29-12-2020_attendees.csv\")\n",
    "session_attendees = pd.read_csv(\n",
    "    session_attendees_path, sep=\"|\", names=[\"rol\", \"name\", \"vote\"]\n",
    "    )\n",
    "session_attendees.head(2)"
   ]
  },
  {
   "cell_type": "code",
   "execution_count": null,
   "metadata": {},
   "outputs": [],
   "source": [
    "session_attendees.shape"
   ]
  },
  {
   "cell_type": "code",
   "execution_count": null,
   "metadata": {},
   "outputs": [],
   "source": [
    "senators_data_path = os.path.join(data_path, \"senators_data.csv\")\n",
    "senators_data = pd.read_csv(senators_data_path,)\n",
    "senators_data.head(2)"
   ]
  },
  {
   "cell_type": "code",
   "execution_count": null,
   "metadata": {},
   "outputs": [],
   "source": [
    "senators_data.shape"
   ]
  },
  {
   "cell_type": "code",
   "execution_count": null,
   "metadata": {},
   "outputs": [],
   "source": [
    "def preprocess_name(name: str) -> str:\n",
    "    name = name.lower()\n",
    "    name = name.translate(\n",
    "        str.maketrans(\"áéíóúàèìòùäëïöü\",\"aeiou\"*3)\n",
    "    )\n",
    "    tokens = sorted(name.split())\n",
    "    return \" \".join(tokens)"
   ]
  },
  {
   "cell_type": "code",
   "execution_count": null,
   "metadata": {},
   "outputs": [],
   "source": [
    "session_attendees[\"prep_name\"] = session_attendees.name.apply(preprocess_name)\n",
    "senators_data[\"prep_senador\"] = senators_data.Senador.apply(preprocess_name) "
   ]
  },
  {
   "cell_type": "code",
   "execution_count": null,
   "metadata": {},
   "outputs": [],
   "source": [
    "names_mapping = (\n",
    "    senators_data[[\"prep_senador\",\"Senador\"]]\n",
    "    .set_index(\"prep_senador\")\n",
    "    .to_dict(\"index\")\n",
    ")"
   ]
  },
  {
   "cell_type": "code",
   "execution_count": null,
   "metadata": {},
   "outputs": [],
   "source": [
    "def map_name(name: str, mapping: dict=names_mapping) -> str:\n",
    "    canon = list()\n",
    "    name_set = set(name.split())\n",
    "    for key, value in mapping.items():\n",
    "        key_set = set(key.split())\n",
    "        if name_set.issubset(key_set) or key_set.issubset(name_set):\n",
    "            canon.append(value[\"Senador\"])\n",
    "    return canon"
   ]
  },
  {
   "cell_type": "code",
   "execution_count": null,
   "metadata": {},
   "outputs": [],
   "source": [
    "def postprocess_name(name: list):\n",
    "    if name:\n",
    "        assert len(name)==1, f\"{name} with several matches.\"\n",
    "        return \" \".join(name)\n",
    "    else:\n",
    "        return None"
   ]
  },
  {
   "cell_type": "code",
   "execution_count": null,
   "metadata": {},
   "outputs": [],
   "source": [
    "session_attendees[\"senador\"] = session_attendees.prep_name.apply(map_name)\n",
    "session_attendees[\"senador\"] = session_attendees.senador.apply(postprocess_name)\n",
    "session_attendees.head(2)"
   ]
  },
  {
   "cell_type": "code",
   "execution_count": null,
   "metadata": {},
   "outputs": [],
   "source": [
    "session_attendees = (\n",
    "    session_attendees\n",
    "    .merge(\n",
    "        senators_data,\n",
    "        how= \"left\",\n",
    "        left_on = \"senador\",\n",
    "        right_on = \"Senador\"\n",
    "    )\n",
    "    .drop(columns=[\"prep_name\", \"prep_senador\", \"senador\"])\n",
    ")\n",
    "session_attendees.head(2)"
   ]
  },
  {
   "cell_type": "code",
   "execution_count": null,
   "metadata": {},
   "outputs": [],
   "source": [
    "session_attendees = (\n",
    "    session_attendees.loc[\n",
    "        session_attendees.rol==\"PRESENTES\",\n",
    "        [\"name\", \"vote\", \"Senador\", \"Provincia\", \"Partido Político o alianza\"]\n",
    "    ]\n",
    "    .rename(columns={\n",
    "        \"Senador\": \"senator\",\n",
    "        \"Provincia\": \"province\",\n",
    "        \"Partido Político o alianza\": \"party\"\n",
    "    })\n",
    ")"
   ]
  },
  {
   "cell_type": "code",
   "execution_count": null,
   "metadata": {},
   "outputs": [],
   "source": [
    "session_senators_path = session_attendees_path.replace(\"_attendees.csv\", \"_senators.csv\")\n",
    "session_attendees.to_csv(session_senators_path, index=False)"
   ]
  }
 ],
 "metadata": {
  "kernelspec": {
   "display_name": "venv",
   "language": "python",
   "name": "python3"
  },
  "language_info": {
   "codemirror_mode": {
    "name": "ipython",
    "version": 3
   },
   "file_extension": ".py",
   "mimetype": "text/x-python",
   "name": "python",
   "nbconvert_exporter": "python",
   "pygments_lexer": "ipython3",
   "version": "3.10.10"
  },
  "orig_nbformat": 4
 },
 "nbformat": 4,
 "nbformat_minor": 2
}
