{
 "cells": [
  {
   "cell_type": "markdown",
   "metadata": {},
   "source": [
    "# Non model based"
   ]
  },
  {
   "cell_type": "code",
   "execution_count": null,
   "metadata": {},
   "outputs": [],
   "source": [
    "import os\n",
    "import pandas as pd\n",
    "import seaborn as sns\n",
    "import matplotlib.pyplot as plt"
   ]
  },
  {
   "cell_type": "code",
   "execution_count": null,
   "metadata": {},
   "outputs": [],
   "source": [
    "here = os.getcwd()\n",
    "project_path = os.path.dirname(here)\n",
    "data_path = os.path.join(project_path, \"data\", \"session_speech.csv\")"
   ]
  },
  {
   "cell_type": "code",
   "execution_count": null,
   "metadata": {},
   "outputs": [],
   "source": [
    "data = pd.read_csv(data_path, converters={\"speech\":eval})\n",
    "data.columns"
   ]
  },
  {
   "cell_type": "code",
   "execution_count": null,
   "metadata": {},
   "outputs": [],
   "source": [
    "data.shape"
   ]
  },
  {
   "cell_type": "code",
   "execution_count": null,
   "metadata": {},
   "outputs": [],
   "source": [
    "data = data.explode(column=\"speech\")\n",
    "data = data[(data.speech.notna()) & (~data.vote.isin([\"abstención\", \"ausente\"]))]\n",
    "data.shape"
   ]
  },
  {
   "cell_type": "markdown",
   "metadata": {},
   "source": [
    "## Difference of frequencies"
   ]
  },
  {
   "cell_type": "code",
   "execution_count": null,
   "metadata": {},
   "outputs": [],
   "source": [
    "from sklearn.feature_extraction.text import CountVectorizer"
   ]
  },
  {
   "cell_type": "code",
   "execution_count": null,
   "metadata": {},
   "outputs": [],
   "source": [
    "vectorizer = CountVectorizer(lowercase=True)\n",
    "X = vectorizer.fit_transform(data.speech)\n",
    "X = X.toarray()\n",
    "frequencies = (\n",
    "    pd\n",
    "    .DataFrame(\n",
    "        X, columns=vectorizer.get_feature_names_out(), index=data[\"vote\"]\n",
    "    )\n",
    "    .rename_axis(\"senator_vote\", axis=0)\n",
    "    .reset_index()\n",
    "    .groupby(\"senator_vote\")\n",
    "    .sum()\n",
    ")"
   ]
  },
  {
   "cell_type": "code",
   "execution_count": null,
   "metadata": {},
   "outputs": [],
   "source": [
    "frequencies"
   ]
  },
  {
   "cell_type": "code",
   "execution_count": null,
   "metadata": {},
   "outputs": [],
   "source": [
    "count_total = frequencies.sum(axis=0)\n",
    "count_difference = frequencies.loc[\"positivo\"]-frequencies.loc[\"negativo\"]\n",
    "count_diff = (\n",
    "    pd\n",
    "    .DataFrame({\n",
    "        \"diff\": count_difference,\n",
    "        \"total\": count_total,\n",
    "        \"pos\": frequencies.loc[\"positivo\"],\n",
    "        \"neg\": frequencies.loc[\"negativo\"]\n",
    "    })\n",
    "    .rename_axis(\"word\", axis=0)\n",
    "    .reset_index()\n",
    ")\n",
    "count_diff.head()"
   ]
  },
  {
   "cell_type": "markdown",
   "metadata": {},
   "source": [
    "## Difference of proportions"
   ]
  },
  {
   "cell_type": "code",
   "execution_count": null,
   "metadata": {},
   "outputs": [],
   "source": [
    "proportions = frequencies/frequencies.sum(axis=0)\n",
    "proportions_difference = proportions.loc[\"positivo\"]-proportions.loc[\"negativo\"]\n",
    "proportions_diff = (\n",
    "    pd\n",
    "    .DataFrame({\n",
    "        \"diff\": proportions_difference,\n",
    "        \"pos\": proportions.loc[\"positivo\"],\n",
    "        \"neg\": proportions.loc[\"negativo\"]\n",
    "    })\n",
    "    .rename_axis(\"word\", axis=0)\n",
    "    .reset_index()\n",
    ")\n",
    "proportions_diff.head()"
   ]
  },
  {
   "cell_type": "markdown",
   "metadata": {},
   "source": [
    "## Correction: removing stop words"
   ]
  },
  {
   "cell_type": "markdown",
   "metadata": {},
   "source": [
    "## Odds"
   ]
  },
  {
   "cell_type": "code",
   "execution_count": null,
   "metadata": {},
   "outputs": [],
   "source": [
    "odds_pos = frequencies.loc[\"positivo\"]/frequencies.loc[\"negativo\"]\n",
    "odds_neg = frequencies.loc[\"negativo\"]/frequencies.loc[\"positivo\"]\n",
    "odds_difference = odds_pos/odds_neg\n",
    "odds_diff = (\n",
    "    pd\n",
    "    .DataFrame({\n",
    "        \"diff\": odds_difference,\n",
    "        \"pos\": odds_pos,\n",
    "        \"neg\": odds_neg\n",
    "    })\n",
    "    .rename_axis(\"word\", axis=0)\n",
    "    .reset_index()\n",
    ")\n",
    "odds_diff.head()"
   ]
  },
  {
   "cell_type": "markdown",
   "metadata": {},
   "source": [
    "## Log-odds-ratio"
   ]
  },
  {
   "cell_type": "markdown",
   "metadata": {},
   "source": [
    "Agregar suavizado, pero cuidado: no se puede agregar peso sin más a una frecuencia (la suma ya no va a dar 1)."
   ]
  },
  {
   "cell_type": "code",
   "execution_count": null,
   "metadata": {},
   "outputs": [],
   "source": [
    "from numpy import log"
   ]
  },
  {
   "cell_type": "code",
   "execution_count": null,
   "metadata": {},
   "outputs": [],
   "source": [
    "odds_diff[\"log_odds\"] = log(odds_diff[\"diff\"])\n",
    "odds_diff.head()"
   ]
  },
  {
   "cell_type": "markdown",
   "metadata": {},
   "source": [
    "## Correction: elimating low-frequency words"
   ]
  },
  {
   "cell_type": "markdown",
   "metadata": {},
   "source": [
    "## TF-IDF"
   ]
  },
  {
   "cell_type": "code",
   "execution_count": null,
   "metadata": {},
   "outputs": [],
   "source": [
    "from sklearn.feature_extraction.text import TfidfVectorizer"
   ]
  },
  {
   "cell_type": "code",
   "execution_count": null,
   "metadata": {},
   "outputs": [],
   "source": [
    "vectorizer = TfidfVectorizer(lowercase=True)\n",
    "X = vectorizer.fit_transform(data.speech)\n",
    "X = X.toarray()\n",
    "tfidf = (\n",
    "    pd\n",
    "    .DataFrame(\n",
    "        X, columns=vectorizer.get_feature_names_out(), index=data[\"vote\"]\n",
    "    )\n",
    "    .rename_axis(\"senator_vote\", axis=0)\n",
    "    .reset_index()\n",
    "    .groupby(\"senator_vote\")\n",
    "    .sum()\n",
    ")\n",
    "tfidf.head()"
   ]
  },
  {
   "cell_type": "code",
   "execution_count": null,
   "metadata": {},
   "outputs": [],
   "source": [
    "corr_pos = tfidf.loc[\"positivo\"].corr(proportions_total)\n",
    "corr_neg = tfidf.loc[\"negativo\"].corr(proportions_total)\n",
    "print(f\"\"\"\n",
    "Correlación con proporciones:\n",
    "    - POSITIVO: {round(corr_pos,2)}\n",
    "    - NEGATIVO: {round(corr_neg,2)}\n",
    "\"\"\")"
   ]
  },
  {
   "cell_type": "code",
   "execution_count": null,
   "metadata": {},
   "outputs": [],
   "source": [
    "tfidf.loc[\"negativo\"].corr(proportions_total)"
   ]
  },
  {
   "cell_type": "markdown",
   "metadata": {},
   "source": [
    "## WordScores"
   ]
  },
  {
   "cell_type": "markdown",
   "metadata": {},
   "source": [
    "Ideas:\n",
    "- en esta nb, hacer las visualizaciones propuestas por el paper para todos los casos\n",
    "- en la nb de clasificación voy a necesitar features, puedo elegir alguna de estas técnicas visualizando con \n",
    "- "
   ]
  }
 ],
 "metadata": {
  "kernelspec": {
   "display_name": "venv",
   "language": "python",
   "name": "python3"
  },
  "language_info": {
   "codemirror_mode": {
    "name": "ipython",
    "version": 3
   },
   "file_extension": ".py",
   "mimetype": "text/x-python",
   "name": "python",
   "nbconvert_exporter": "python",
   "pygments_lexer": "ipython3",
   "version": "3.10.10"
  },
  "orig_nbformat": 4
 },
 "nbformat": 4,
 "nbformat_minor": 2
}
