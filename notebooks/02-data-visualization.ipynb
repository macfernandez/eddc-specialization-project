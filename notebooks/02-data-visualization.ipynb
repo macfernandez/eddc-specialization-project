{
 "cells": [
  {
   "cell_type": "markdown",
   "metadata": {},
   "source": [
    "# Data description"
   ]
  },
  {
   "cell_type": "code",
   "execution_count": null,
   "metadata": {},
   "outputs": [],
   "source": [
    "import os\n",
    "import json\n",
    "import bs4 as bs\n",
    "import numpy as np\n",
    "import pandas as pd\n",
    "import seaborn as sns\n",
    "from itertools import chain\n",
    "import matplotlib.pyplot as plt\n",
    "\n",
    "from utilities import *"
   ]
  },
  {
   "cell_type": "code",
   "execution_count": null,
   "metadata": {},
   "outputs": [],
   "source": [
    "here = os.getcwd()\n",
    "project_path = os.path.dirname(here)\n",
    "data_path = os.path.join(project_path, \"data\")\n",
    "visualizations_path = os.path.join(project_path, \"visualizations\")"
   ]
  },
  {
   "cell_type": "markdown",
   "metadata": {},
   "source": [
    "## Senators distribution"
   ]
  },
  {
   "cell_type": "code",
   "execution_count": null,
   "metadata": {},
   "outputs": [],
   "source": [
    "senators_path = os.path.join(data_path, \"session_29-12-2020_senators.csv\")\n",
    "senators = pd.read_csv(senators_path)\n",
    "senators.head(2)"
   ]
  },
  {
   "cell_type": "code",
   "execution_count": null,
   "metadata": {},
   "outputs": [],
   "source": [
    "party_correction = {\"FRENTE TODOS\": \"FRENTE DE TODOS\"}\n",
    "senators[\"party\"] = senators.party.map(\n",
    "    lambda x: party_correction.get(x, x)\n",
    ")"
   ]
  },
  {
   "cell_type": "code",
   "execution_count": null,
   "metadata": {},
   "outputs": [],
   "source": [
    "senators.describe()"
   ]
  },
  {
   "cell_type": "code",
   "execution_count": null,
   "metadata": {},
   "outputs": [],
   "source": [
    "senators_party_count = senators.party.value_counts().to_frame().reset_index()\n",
    "save_dataframe(\n",
    "    senators_party_count, folder=visualizations_path, filename=\"senators_party_count\"\n",
    ")\n",
    "senators_province_count = senators.province.value_counts().to_frame().reset_index()\n",
    "save_dataframe(\n",
    "    senators_province_count, folder=visualizations_path, filename=\"senators_province_count\"\n",
    ")"
   ]
  },
  {
   "cell_type": "markdown",
   "metadata": {},
   "source": [
    "## Vote information"
   ]
  },
  {
   "cell_type": "code",
   "execution_count": null,
   "metadata": {},
   "outputs": [],
   "source": [
    "senators_vote = (\n",
    "    senators\n",
    "    .groupby([\"party\", \"vote\"])\n",
    "    .size()\n",
    "    .reset_index()\n",
    "    .merge(senators_count)\n",
    "    .assign(party=lambda x: x.party.str.title())\n",
    "    .rename(columns={0:\"n_votes\", \"count\":\"n_senators\"})\n",
    "    .sort_values(by=[\"n_senators\",\"party\"], ascending=[False,True])\n",
    "    .reset_index(drop=True)\n",
    "    .pivot_table(\n",
    "        index=[\"party\"], columns=[\"vote\"],\n",
    "        values=[\"n_votes\"],fill_value=0, margins_name=[\"chicho\", \"cacho\"])\n",
    ")\n",
    "senators_vote.columns = senators_vote.columns.get_level_values(1)\n",
    "senators_vote.columns.name = \"\""
   ]
  },
  {
   "cell_type": "code",
   "execution_count": null,
   "metadata": {},
   "outputs": [],
   "source": [
    "fig, ax = plt.subplots(figsize=(10,5))\n",
    "senators_vote.plot(kind='bar', stacked=True, ax=ax)\n",
    "ax.set_xlabel(\"\")\n",
    "ax.set_ylabel(\"Cantidad de senadores\")\n",
    "ax.set_xticklabels(ax.get_xticklabels(), rotation=45, ha='right')\n",
    "ax.legend(title=\"Voto\")\n",
    "plt.title(\"Voto por alianza o partido\")\n",
    "plt.tight_layout()\n",
    "plt.savefig(os.path.join(visualizations_path,\"senators_vote.png\"))"
   ]
  },
  {
   "cell_type": "code",
   "execution_count": null,
   "metadata": {},
   "outputs": [],
   "source": [
    "senators_vote.reset_index(inplace=True)\n",
    "save_dataframe(\n",
    "    senators_vote[[\"party\",\"positivo\", \"negativo\", \"ausente\", \"abstención\"]],\n",
    "    folder=visualizations_path, filename=\"senators_vote\"\n",
    ")"
   ]
  },
  {
   "cell_type": "markdown",
   "metadata": {},
   "source": [
    "## Speech data"
   ]
  },
  {
   "cell_type": "code",
   "execution_count": null,
   "metadata": {},
   "outputs": [],
   "source": [
    "speech_path = os.path.join(data_path, \"session_29-12-2020_discourse.xml\")\n",
    "\n",
    "with open(speech_path, \"r\") as f:\n",
    "    speech_text = f.read() \n",
    "\n",
    "speech = bs.BeautifulSoup(speech_text, \"lxml\")"
   ]
  },
  {
   "cell_type": "code",
   "execution_count": null,
   "metadata": {},
   "outputs": [],
   "source": [
    "speakers = [s.get_attribute_list(\"speaker\") for s in speech.find_all(\"discourse\", {\"speech\":\"true\"})]\n",
    "speakers = list(set(chain(*speakers)))\n",
    "speakers_map = dict(zip(list(map(preprocess_name,speakers)), speakers))"
   ]
  },
  {
   "cell_type": "code",
   "execution_count": null,
   "metadata": {},
   "outputs": [],
   "source": [
    "# check that each speaker match with only one senator\n",
    "senators[\"speaker\"] = senators.name.apply(\n",
    "    lambda x: match_senator_name(x, list(speakers_map.keys()))\n",
    ")\n",
    "senators[\"n_speaker\"] = senators.speaker.str.len().sort_values()\n",
    "senators.sort_values(by=[\"n_speaker\"], ascending=True, inplace=True)"
   ]
  },
  {
   "cell_type": "code",
   "execution_count": null,
   "metadata": {},
   "outputs": [],
   "source": [
    "# data to review\n",
    "#senators[[\"name\", \"speaker\"]].set_index(\"name\").to_json(\n",
    "#    \"map_name2speaker.json\", orient=\"index\", indent=4, force_ascii=False\n",
    "#)\n",
    "#senators.drop(columns=[\"speaker\", \"n_speaker\"], inplace=True)"
   ]
  },
  {
   "cell_type": "code",
   "execution_count": null,
   "metadata": {},
   "outputs": [],
   "source": [
    "with open(\"map_name2speaker.json\", \"r\") as f:\n",
    "    map_name2speaker = json.load(f)"
   ]
  },
  {
   "cell_type": "code",
   "execution_count": null,
   "metadata": {},
   "outputs": [],
   "source": [
    "senators[\"speaker\"] = senators.name.apply(lambda x:\n",
    "    speakers_map.get(map_name2speaker.get(x).get(\"speaker\"))\n",
    ")\n",
    "senators.sort_index(inplace=True)"
   ]
  },
  {
   "cell_type": "code",
   "execution_count": null,
   "metadata": {},
   "outputs": [],
   "source": [
    "senators[\"speech\"] = senators.speaker.apply(lambda x: assign_speech(x, speech))\n",
    "senators[\"speech_prep\"] = senators.speech.apply(lambda x: list(map(preprocess_text, x)))\n",
    "senators[\"n_interventions\"] = senators.speech_prep.str.len()\n",
    "senators[\"n_tokens_interventions\"] = senators.speech_prep.apply(\n",
    "    lambda x: list(map(count_tokens, x))\n",
    ")\n",
    "senators[\"n_unique_tokens_interventions\"] = senators.speech_prep.apply(\n",
    "    lambda x: list(map(lambda z: count_tokens(z, unique=True), x))\n",
    ")\n",
    "senators[\"mean_tokens_interventions\"] = senators[\"n_tokens_interventions\"].apply(\n",
    "    lambda x: np.mean(x) if len(x)>0 else 0\n",
    ")\n",
    "senators[\"mean_unique_tokens_interventions\"] = senators[\"n_unique_tokens_interventions\"].apply(\n",
    "    lambda x: np.mean(x) if len(x)>0 else 0\n",
    ")"
   ]
  },
  {
   "cell_type": "code",
   "execution_count": null,
   "metadata": {},
   "outputs": [],
   "source": [
    "cols = [\"mean_tokens_interventions\", \"mean_unique_tokens_interventions\"]\n",
    "titles = [\"Tokens totales\", \"Tokens únicos\"]\n",
    "\n",
    "fig, axs = plt.subplots(2,1)\n",
    "\n",
    "i = 0\n",
    "for col,title in zip(cols, titles):\n",
    "    sns.boxplot(data=senators, x=col, ax=axs[i])\n",
    "    axs[i].set_title(title)\n",
    "    axs[i].set_xlabel(\"Tokens\")\n",
    "    axs[i].tick_params(left=False)\n",
    "    i += 1\n",
    "plt.suptitle(\"Promedio de tokens por intervención\")\n",
    "plt.tight_layout()\n",
    "plt.savefig(os.path.join(visualizations_path,\"tokens_global.png\"))"
   ]
  },
  {
   "cell_type": "code",
   "execution_count": null,
   "metadata": {},
   "outputs": [],
   "source": [
    "cols = [\"mean_tokens_interventions\", \"mean_unique_tokens_interventions\"]\n",
    "titles = [\"Tokens totales\", \"Tokens únicos\"]\n",
    "\n",
    "fig, axs = plt.subplots(2,1, figsize=(10,8), sharex=True)\n",
    "\n",
    "i = 0\n",
    "for col,title in zip(cols, titles):\n",
    "    sns.boxplot(data=senators, x=\"party\", y=col, ax=axs[i])\n",
    "    axs[i].set_title(title)\n",
    "    axs[i].set_xlabel(\"\")\n",
    "    axs[i].set_ylabel(\"Tokens\")\n",
    "    axs[i].tick_params(left=False)\n",
    "    i += 1\n",
    "plt.xticks(rotation=45, horizontalalignment=\"right\")\n",
    "plt.suptitle(\"Promedio de tokens por intervención por partido\")\n",
    "plt.tight_layout()\n",
    "plt.savefig(os.path.join(visualizations_path,\"tokens_party.png\"))"
   ]
  },
  {
   "cell_type": "code",
   "execution_count": null,
   "metadata": {},
   "outputs": [],
   "source": [
    "cols = [\"mean_tokens_interventions\", \"mean_unique_tokens_interventions\"]\n",
    "titles = [\"Tokens totales\", \"Tokens únicos\"]\n",
    "\n",
    "fig, axs = plt.subplots(1,2, figsize=(8,4))\n",
    "\n",
    "i = 0\n",
    "for col,title in zip(cols, titles):\n",
    "    sns.boxplot(data=senators, x=\"vote\", y=col, ax=axs[i])\n",
    "    axs[i].set_title(title)\n",
    "    axs[i].set_xlabel(\"Voto\")\n",
    "    axs[i].set_ylabel(\"Tokens\")\n",
    "    axs[i].tick_params(left=False)\n",
    "    i += 1\n",
    "plt.suptitle(\"Promedio de tokens por intervención por voto\")\n",
    "plt.tight_layout()\n",
    "plt.savefig(os.path.join(visualizations_path,\"tokens_vote.png\"))"
   ]
  }
 ],
 "metadata": {
  "kernelspec": {
   "display_name": "venv",
   "language": "python",
   "name": "python3"
  },
  "language_info": {
   "codemirror_mode": {
    "name": "ipython",
    "version": 3
   },
   "file_extension": ".py",
   "mimetype": "text/x-python",
   "name": "python",
   "nbconvert_exporter": "python",
   "pygments_lexer": "ipython3",
   "version": "3.10.10"
  },
  "orig_nbformat": 4
 },
 "nbformat": 4,
 "nbformat_minor": 2
}
