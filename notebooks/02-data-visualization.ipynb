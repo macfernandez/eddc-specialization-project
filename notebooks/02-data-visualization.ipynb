{
 "cells": [
  {
   "cell_type": "markdown",
   "metadata": {},
   "source": [
    "# Data description"
   ]
  },
  {
   "cell_type": "code",
   "execution_count": null,
   "metadata": {},
   "outputs": [],
   "source": [
    "import os\n",
    "import pandas as pd\n",
    "import seaborn as sns\n",
    "import matplotlib.pyplot as plt\n",
    "\n",
    "from utilities import save_dataframe"
   ]
  },
  {
   "cell_type": "code",
   "execution_count": null,
   "metadata": {},
   "outputs": [],
   "source": [
    "here = os.getcwd()\n",
    "project_path = os.path.dirname(here)\n",
    "data_path = os.path.join(project_path, \"data\")\n",
    "visualizations_path = os.path.join(project_path, \"visualizations\")"
   ]
  },
  {
   "cell_type": "code",
   "execution_count": null,
   "metadata": {},
   "outputs": [],
   "source": [
    "senators_path = os.path.join(data_path, \"session_29-12-2020_senators.csv\")\n",
    "senators = pd.read_csv(senators_path)\n",
    "senators.head(2)"
   ]
  },
  {
   "cell_type": "code",
   "execution_count": null,
   "metadata": {},
   "outputs": [],
   "source": [
    "senators.describe()"
   ]
  },
  {
   "cell_type": "code",
   "execution_count": null,
   "metadata": {},
   "outputs": [],
   "source": [
    "senators_count = senators.party.value_counts().to_frame().reset_index()\n",
    "save_dataframe(\n",
    "    senators_count, folder=visualizations_path, filename=\"senators_count\"\n",
    ")"
   ]
  },
  {
   "cell_type": "code",
   "execution_count": null,
   "metadata": {},
   "outputs": [],
   "source": [
    "senators_vote = (\n",
    "    senators\n",
    "    .groupby([\"party\", \"vote\"])\n",
    "    .size()\n",
    "    .reset_index()\n",
    "    .merge(senators_count)\n",
    "    .assign(party=lambda x: x.party.str.title())\n",
    "    .rename(columns={0:\"n_votes\", \"count\":\"n_senators\"})\n",
    "    .sort_values(by=[\"n_senators\",\"party\"], ascending=[False,True])\n",
    "    .reset_index(drop=True)\n",
    "    .pivot_table(\n",
    "        index=[\"party\"], columns=[\"vote\"],\n",
    "        values=[\"n_votes\"],fill_value=0, margins_name=[\"chicho\", \"cacho\"])\n",
    ")\n",
    "senators_vote.columns = senators_vote.columns.get_level_values(1)\n",
    "senators_vote.columns.name = \"\""
   ]
  },
  {
   "cell_type": "code",
   "execution_count": null,
   "metadata": {},
   "outputs": [],
   "source": [
    "fig, ax = plt.subplots(figsize=(10,5))\n",
    "senators_vote.plot(kind='bar', stacked=True, ax=ax)\n",
    "ax.set_xlabel(\"\")\n",
    "ax.set_ylabel(\"Cantidad de senadores\")\n",
    "ax.set_xticklabels(ax.get_xticklabels(), rotation=45, ha='right')\n",
    "ax.legend(title=\"Voto\")\n",
    "plt.title(\"Voto por alianza o partido\")\n",
    "plt.tight_layout()\n",
    "plt.savefig(os.path.join(visualizations_path,\"senators_vote.png\"))"
   ]
  },
  {
   "cell_type": "code",
   "execution_count": null,
   "metadata": {},
   "outputs": [],
   "source": [
    "senators_vote.reset_index(inplace=True)\n",
    "save_dataframe(\n",
    "    senators_vote[[\"party\",\"positivo\", \"negativo\", \"ausente\", \"abstención\"]],\n",
    "    folder=visualizations_path, filename=\"senators_vote\"\n",
    ")"
   ]
  }
 ],
 "metadata": {
  "kernelspec": {
   "display_name": "venv",
   "language": "python",
   "name": "python3"
  },
  "language_info": {
   "codemirror_mode": {
    "name": "ipython",
    "version": 3
   },
   "file_extension": ".py",
   "mimetype": "text/x-python",
   "name": "python",
   "nbconvert_exporter": "python",
   "pygments_lexer": "ipython3",
   "version": "3.10.10"
  },
  "orig_nbformat": 4
 },
 "nbformat": 4,
 "nbformat_minor": 2
}
