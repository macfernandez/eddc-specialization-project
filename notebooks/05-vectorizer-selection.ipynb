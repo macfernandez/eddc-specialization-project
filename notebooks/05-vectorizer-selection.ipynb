{
 "cells": [
  {
   "cell_type": "markdown",
   "metadata": {},
   "source": [
    "# Selección de vectorizador"
   ]
  },
  {
   "cell_type": "code",
   "execution_count": 1,
   "metadata": {},
   "outputs": [],
   "source": [
    "import math\n",
    "import os\n",
    "\n",
    "import joblib\n",
    "from nltk.corpus import stopwords\n",
    "import pandas as pd\n",
    "from sklearn.linear_model import LogisticRegression\n",
    "from sklearn.metrics import (\n",
    "    accuracy_score, f1_score, precision_score, recall_score, roc_auc_score\n",
    ")\n",
    "from sklearn.model_selection import cross_validate, train_test_split, StratifiedKFold\n",
    "from sklearn.pipeline import Pipeline\n",
    "from sklearn.preprocessing import LabelEncoder\n",
    "\n",
    "from config import DATA_PATH, MODELS_PATH, VISUALIZATIONS_PATH\n",
    "from vectorizers import *"
   ]
  },
  {
   "cell_type": "code",
   "execution_count": 2,
   "metadata": {},
   "outputs": [],
   "source": [
    "os.makedirs(MODELS_PATH, exist_ok=True)"
   ]
  },
  {
   "cell_type": "code",
   "execution_count": 3,
   "metadata": {},
   "outputs": [
    {
     "data": {
      "text/plain": [
       "Index(['name', 'vote', 'senator', 'province', 'party', 'party_family',\n",
       "       'speaker', 'speech', 'speech_preprocessed', 'speech_lemmas',\n",
       "       'speech_pos', 'speech_lemma_pos', 'speech_preprocessed_count',\n",
       "       'speech_preprocessed_count_unique', 'speech_lemmas_count',\n",
       "       'speech_lemmas_count_unique', 'speech_pos_count',\n",
       "       'speech_pos_count_unique', 'speech_lemma_pos_count_unique'],\n",
       "      dtype='object')"
      ]
     },
     "execution_count": 3,
     "metadata": {},
     "output_type": "execute_result"
    }
   ],
   "source": [
    "data_path = os.path.join(DATA_PATH, \"session_speech.csv\")\n",
    "data = pd.read_csv(data_path, converters={\"speech_lemma_pos\":eval})\n",
    "data.columns"
   ]
  },
  {
   "cell_type": "code",
   "execution_count": 4,
   "metadata": {},
   "outputs": [
    {
     "data": {
      "text/html": [
       "<div>\n",
       "<style scoped>\n",
       "    .dataframe tbody tr th:only-of-type {\n",
       "        vertical-align: middle;\n",
       "    }\n",
       "\n",
       "    .dataframe tbody tr th {\n",
       "        vertical-align: top;\n",
       "    }\n",
       "\n",
       "    .dataframe thead th {\n",
       "        text-align: right;\n",
       "    }\n",
       "</style>\n",
       "<table border=\"1\" class=\"dataframe\">\n",
       "  <thead>\n",
       "    <tr style=\"text-align: right;\">\n",
       "      <th></th>\n",
       "      <th>speech_lemma_pos</th>\n",
       "      <th>vote</th>\n",
       "    </tr>\n",
       "  </thead>\n",
       "  <tbody>\n",
       "    <tr>\n",
       "      <th>0</th>\n",
       "      <td>hacer_VERB año_NOUN tener_VERB una_DET sesión_...</td>\n",
       "      <td>positivo</td>\n",
       "    </tr>\n",
       "    <tr>\n",
       "      <th>1</th>\n",
       "      <td>gracia_NOUN señor_NOUN presidente_NOUN hoy_ADV...</td>\n",
       "      <td>negativo</td>\n",
       "    </tr>\n",
       "    <tr>\n",
       "      <th>2</th>\n",
       "      <td>como_SCONJ ir_VERB a_ADP pedir_VERB la_DET ins...</td>\n",
       "      <td>negativo</td>\n",
       "    </tr>\n",
       "    <tr>\n",
       "      <th>3</th>\n",
       "      <td>gracia_NOUN presidenta_NOUN nuevamente_ADV yo_...</td>\n",
       "      <td>negativo</td>\n",
       "    </tr>\n",
       "    <tr>\n",
       "      <th>4</th>\n",
       "      <td>gracia_NOUN señora_NOUN presidenta_NOUN realme...</td>\n",
       "      <td>negativo</td>\n",
       "    </tr>\n",
       "    <tr>\n",
       "      <th>...</th>\n",
       "      <td>...</td>\n",
       "      <td>...</td>\n",
       "    </tr>\n",
       "    <tr>\n",
       "      <th>194</th>\n",
       "      <td>gracia_NOUN presidenta_NOUN antes_ADV de_ADP c...</td>\n",
       "      <td>positivo</td>\n",
       "    </tr>\n",
       "    <tr>\n",
       "      <th>195</th>\n",
       "      <td>mucha_ADJ gracia_NOUN señora_NOUN presidenta_N...</td>\n",
       "      <td>positivo</td>\n",
       "    </tr>\n",
       "    <tr>\n",
       "      <th>196</th>\n",
       "      <td>ya_ADV presidenta_NOUN</td>\n",
       "      <td>positivo</td>\n",
       "    </tr>\n",
       "    <tr>\n",
       "      <th>197</th>\n",
       "      <td>en_ADP cuanto_ADJ al_ADP artículo_NOUN propone...</td>\n",
       "      <td>positivo</td>\n",
       "    </tr>\n",
       "    <tr>\n",
       "      <th>198</th>\n",
       "      <td>gracia_NOUN señora_NOUN presidenta_NOUN sin_AD...</td>\n",
       "      <td>negativo</td>\n",
       "    </tr>\n",
       "  </tbody>\n",
       "</table>\n",
       "<p>199 rows × 2 columns</p>\n",
       "</div>"
      ],
      "text/plain": [
       "                                      speech_lemma_pos      vote\n",
       "0    hacer_VERB año_NOUN tener_VERB una_DET sesión_...  positivo\n",
       "1    gracia_NOUN señor_NOUN presidente_NOUN hoy_ADV...  negativo\n",
       "2    como_SCONJ ir_VERB a_ADP pedir_VERB la_DET ins...  negativo\n",
       "3    gracia_NOUN presidenta_NOUN nuevamente_ADV yo_...  negativo\n",
       "4    gracia_NOUN señora_NOUN presidenta_NOUN realme...  negativo\n",
       "..                                                 ...       ...\n",
       "194  gracia_NOUN presidenta_NOUN antes_ADV de_ADP c...  positivo\n",
       "195  mucha_ADJ gracia_NOUN señora_NOUN presidenta_N...  positivo\n",
       "196                             ya_ADV presidenta_NOUN  positivo\n",
       "197  en_ADP cuanto_ADJ al_ADP artículo_NOUN propone...  positivo\n",
       "198  gracia_NOUN señora_NOUN presidenta_NOUN sin_AD...  negativo\n",
       "\n",
       "[199 rows x 2 columns]"
      ]
     },
     "execution_count": 4,
     "metadata": {},
     "output_type": "execute_result"
    }
   ],
   "source": [
    "data = (\n",
    "    data[(data.speech.notna()) & (~data.vote.isin([\"abstención\", \"ausente\"]))]\n",
    "    .reset_index(drop=True)\n",
    "    .assign(\n",
    "        speech_lemma_pos=lambda x: x.speech_lemma_pos.apply(\n",
    "            lambda z: \" \".join([\"_\".join(i) for i in z])\n",
    "        )\n",
    "    )\n",
    ")\n",
    "data[[\"speech_lemma_pos\", \"vote\"]]"
   ]
  },
  {
   "cell_type": "code",
   "execution_count": 5,
   "metadata": {},
   "outputs": [
    {
     "data": {
      "text/plain": [
       "vote\n",
       "positivo    0.557789\n",
       "negativo    0.442211\n",
       "Name: proportion, dtype: float64"
      ]
     },
     "execution_count": 5,
     "metadata": {},
     "output_type": "execute_result"
    }
   ],
   "source": [
    "data.vote.value_counts(normalize=True)"
   ]
  },
  {
   "cell_type": "markdown",
   "metadata": {},
   "source": [
    "## Separación en _train_ y _test_"
   ]
  },
  {
   "cell_type": "code",
   "execution_count": 6,
   "metadata": {},
   "outputs": [],
   "source": [
    "X_train_index, X_test_index = train_test_split(\n",
    "    data.index,\n",
    "    test_size=.2,\n",
    "    random_state=6300,\n",
    "    shuffle=True,\n",
    "    stratify=data.vote\n",
    ")"
   ]
  },
  {
   "cell_type": "code",
   "execution_count": 7,
   "metadata": {},
   "outputs": [
    {
     "name": "stdout",
     "output_type": "stream",
     "text": [
      "** Cantidad de datos en conjunto de entrenamiento: 159\n",
      "** Distribución de la variable target:\n",
      "          proportion\n",
      "vote                \n",
      "positivo    0.559748\n",
      "negativo    0.440252\n",
      "\n",
      "** Cantidad de datos en conjunto de testeo: 40\n",
      "** Distribución de la variable target:\n",
      "          proportion\n",
      "vote                \n",
      "positivo        0.55\n",
      "negativo        0.45\n",
      "\n"
     ]
    }
   ],
   "source": [
    "for index, name in zip([X_train_index, X_test_index], [\"entrenamiento\", \"testeo\"]):\n",
    "    print(f\"** Cantidad de datos en conjunto de {name}: {index.shape[0]}\")\n",
    "    print(\"** Distribución de la variable target:\")\n",
    "    print(f\"{data.loc[index, 'vote'].value_counts(normalize=True).to_frame()}\", end=\"\\n\\n\")"
   ]
  },
  {
   "cell_type": "code",
   "execution_count": 8,
   "metadata": {},
   "outputs": [],
   "source": [
    "INDEX = os.path.join(MODELS_PATH, \"index\")\n",
    "os.makedirs(INDEX, exist_ok=True)\n",
    "\n",
    "for file in [\"X_train_index\", \"X_test_index\"]:\n",
    "    dataset = eval(file)\n",
    "    dataset.to_series().to_csv(os.path.join(INDEX, f\"{file}.csv\"), header=None, index=False)"
   ]
  },
  {
   "cell_type": "markdown",
   "metadata": {},
   "source": [
    "## _Encoding_ de variables"
   ]
  },
  {
   "cell_type": "markdown",
   "metadata": {},
   "source": [
    "### Variable _target_"
   ]
  },
  {
   "cell_type": "code",
   "execution_count": 9,
   "metadata": {},
   "outputs": [],
   "source": [
    "le = LabelEncoder()\n",
    "\n",
    "data[\"target\"] = le.fit_transform(data.vote)"
   ]
  },
  {
   "cell_type": "code",
   "execution_count": 10,
   "metadata": {},
   "outputs": [
    {
     "name": "stdout",
     "output_type": "stream",
     "text": [
      "Categoría positivo ---> 1\n",
      "Categoría negativo ---> 0\n"
     ]
    }
   ],
   "source": [
    "for value in data.vote.unique():\n",
    "    print(f\"Categoría {value} ---> {le.transform([value])[0]}\")"
   ]
  },
  {
   "cell_type": "code",
   "execution_count": 11,
   "metadata": {},
   "outputs": [],
   "source": [
    "le_path = os.path.join(MODELS_PATH, \"labelencoder.pkl\")\n",
    "_ = joblib.dump(le, le_path)"
   ]
  },
  {
   "cell_type": "markdown",
   "metadata": {},
   "source": [
    "## Selección de vectorizador"
   ]
  },
  {
   "cell_type": "code",
   "execution_count": 12,
   "metadata": {},
   "outputs": [],
   "source": [
    "vectorizers = [\n",
    "    {\"class\": CustomFrequenciesVectorizer, \"kwargs\": {}},\n",
    "    {\"class\": CustomProportionsVectorizer, \"kwargs\": {}},\n",
    "    {\"class\": CustomProportionsVectorizer, \"kwargs\": {\"stop_words\": stopwords.words(\"spanish\")}},\n",
    "    {\"class\": CustomProportionsVectorizer, \"kwargs\": {\"custom_stop_words\": \"zipf\"}},\n",
    "    {\"class\": CustomOddsRatioVectorizer, \"kwargs\": {}},\n",
    "    {\"class\": CustomLogOddsRatioVectorizer, \"kwargs\": {}},\n",
    "    {\"class\": CustomLogOddsRatioVectorizer, \"kwargs\": {\"smooth\": .5}},\n",
    "    {\"class\": CustomTfidfVectorizer, \"kwargs\": {}},\n",
    "    {\"class\": CustomWordScoresVectorizer, \"kwargs\": {}},\n",
    "]"
   ]
  },
  {
   "cell_type": "code",
   "execution_count": 13,
   "metadata": {},
   "outputs": [],
   "source": [
    "SEED = 6300\n",
    "\n",
    "X_trainset, y_trainset = (\n",
    "    data.loc[X_train_index, \"speech_lemma_pos\"], data.loc[X_train_index, \"target\"]\n",
    ")\n",
    "cv_method = StratifiedKFold(n_splits=5, shuffle=True, random_state=SEED)\n",
    "scoring_method = {\n",
    "    \"accuracy\": accuracy_score,\n",
    "    \"f1\": f1_score,\n",
    "    \"precision\": precision_score,\n",
    "    \"recall\": recall_score,\n",
    "    \"roc_auc\": roc_auc_score,\n",
    "}\n",
    "\n",
    "for vectorizer in vectorizers:\n",
    "    pipeline = Pipeline([\n",
    "        (\n",
    "            'vectorizer',\n",
    "            vectorizer[\"class\"](positive_values=\"positivo\", **vectorizer[\"kwargs\"])\n",
    "        ),\n",
    "        (\n",
    "            'clf',\n",
    "            LogisticRegression(random_state=SEED)\n",
    "        )\n",
    "    ])\n",
    "    cv_results = cross_validate(\n",
    "        pipeline, X_trainset, y_trainset, cv=cv_method, \n",
    "        n_jobs=-1, return_train_score=True, verbose=0,\n",
    "        scoring=scoring_method\n",
    "    )"
   ]
  }
 ],
 "metadata": {
  "kernelspec": {
   "display_name": "eddc-tp",
   "language": "python",
   "name": "python3"
  },
  "language_info": {
   "codemirror_mode": {
    "name": "ipython",
    "version": 3
   },
   "file_extension": ".py",
   "mimetype": "text/x-python",
   "name": "python",
   "nbconvert_exporter": "python",
   "pygments_lexer": "ipython3",
   "version": "3.11.4"
  },
  "orig_nbformat": 4
 },
 "nbformat": 4,
 "nbformat_minor": 2
}
