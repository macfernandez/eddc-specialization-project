{
 "cells": [
  {
   "cell_type": "markdown",
   "metadata": {},
   "source": [
    "# Entrenamineto y evaluacón de modelos"
   ]
  },
  {
   "cell_type": "code",
   "execution_count": 2,
   "metadata": {},
   "outputs": [],
   "source": [
    "import os\n",
    "import re\n",
    "\n",
    "import joblib\n",
    "import matplotlib.pyplot as plt\n",
    "import pandas as pd\n",
    "import seaborn as sns\n",
    "from sklearn.linear_model._logistic import LogisticRegression\n",
    "from sklearn.metrics import (\n",
    "    classification_report, confusion_matrix,\n",
    "    make_scorer, f1_score, precision_score, recall_score, roc_auc_score\n",
    ")\n",
    "from sklearn.model_selection import GridSearchCV, StratifiedKFold\n",
    "from sklearn.pipeline import Pipeline\n",
    "from sklearn.preprocessing import LabelEncoder\n",
    "\n",
    "from config import DATA_PATH, MODELS_PATH, VISUALIZATIONS_PATH\n",
    "from notebooks.src.vectorizers import CustomTfidfVectorizer"
   ]
  },
  {
   "cell_type": "code",
   "execution_count": 3,
   "metadata": {},
   "outputs": [],
   "source": [
    "TESTSETS = os.path.join(MODELS_PATH, \"testsets\")"
   ]
  },
  {
   "cell_type": "markdown",
   "metadata": {},
   "source": [
    "## Carga de datos"
   ]
  },
  {
   "cell_type": "code",
   "execution_count": 4,
   "metadata": {},
   "outputs": [
    {
     "data": {
      "text/plain": [
       "Index(['name', 'vote', 'senator', 'province', 'party', 'party_family',\n",
       "       'speaker', 'speech', 'speech_preprocessed', 'speech_lemmas',\n",
       "       'speech_pos', 'speech_lemma_pos', 'speech_preprocessed_count',\n",
       "       'speech_preprocessed_count_unique', 'speech_lemmas_count',\n",
       "       'speech_lemmas_count_unique', 'speech_pos_count',\n",
       "       'speech_pos_count_unique', 'speech_lemma_pos_count_unique'],\n",
       "      dtype='object')"
      ]
     },
     "execution_count": 4,
     "metadata": {},
     "output_type": "execute_result"
    }
   ],
   "source": [
    "data_path = os.path.join(DATA_PATH, \"session_speech.csv\")\n",
    "data = pd.read_csv(data_path, converters={\"speech_lemma_pos\":eval})\n",
    "data.columns"
   ]
  },
  {
   "cell_type": "code",
   "execution_count": 5,
   "metadata": {},
   "outputs": [
    {
     "data": {
      "text/html": [
       "<div>\n",
       "<style scoped>\n",
       "    .dataframe tbody tr th:only-of-type {\n",
       "        vertical-align: middle;\n",
       "    }\n",
       "\n",
       "    .dataframe tbody tr th {\n",
       "        vertical-align: top;\n",
       "    }\n",
       "\n",
       "    .dataframe thead th {\n",
       "        text-align: right;\n",
       "    }\n",
       "</style>\n",
       "<table border=\"1\" class=\"dataframe\">\n",
       "  <thead>\n",
       "    <tr style=\"text-align: right;\">\n",
       "      <th></th>\n",
       "      <th>speech_lemma_pos</th>\n",
       "      <th>vote</th>\n",
       "    </tr>\n",
       "  </thead>\n",
       "  <tbody>\n",
       "    <tr>\n",
       "      <th>0</th>\n",
       "      <td>hacer_VERB año_NOUN tener_VERB una_DET sesión_...</td>\n",
       "      <td>positivo</td>\n",
       "    </tr>\n",
       "    <tr>\n",
       "      <th>1</th>\n",
       "      <td>gracia_NOUN señor_NOUN presidente_NOUN hoy_ADV...</td>\n",
       "      <td>negativo</td>\n",
       "    </tr>\n",
       "    <tr>\n",
       "      <th>2</th>\n",
       "      <td>como_SCONJ ir_VERB a_ADP pedir_VERB la_DET ins...</td>\n",
       "      <td>negativo</td>\n",
       "    </tr>\n",
       "    <tr>\n",
       "      <th>3</th>\n",
       "      <td>gracia_NOUN presidenta_NOUN nuevamente_ADV yo_...</td>\n",
       "      <td>negativo</td>\n",
       "    </tr>\n",
       "    <tr>\n",
       "      <th>4</th>\n",
       "      <td>gracia_NOUN señora_NOUN presidenta_NOUN realme...</td>\n",
       "      <td>negativo</td>\n",
       "    </tr>\n",
       "    <tr>\n",
       "      <th>...</th>\n",
       "      <td>...</td>\n",
       "      <td>...</td>\n",
       "    </tr>\n",
       "    <tr>\n",
       "      <th>194</th>\n",
       "      <td>gracia_NOUN presidenta_NOUN antes_ADV de_ADP c...</td>\n",
       "      <td>positivo</td>\n",
       "    </tr>\n",
       "    <tr>\n",
       "      <th>195</th>\n",
       "      <td>mucha_ADJ gracia_NOUN señora_NOUN presidenta_N...</td>\n",
       "      <td>positivo</td>\n",
       "    </tr>\n",
       "    <tr>\n",
       "      <th>196</th>\n",
       "      <td>ya_ADV presidenta_NOUN</td>\n",
       "      <td>positivo</td>\n",
       "    </tr>\n",
       "    <tr>\n",
       "      <th>197</th>\n",
       "      <td>en_ADP cuanto_ADJ al_ADP artículo_NOUN propone...</td>\n",
       "      <td>positivo</td>\n",
       "    </tr>\n",
       "    <tr>\n",
       "      <th>198</th>\n",
       "      <td>gracia_NOUN señora_NOUN presidenta_NOUN sin_AD...</td>\n",
       "      <td>negativo</td>\n",
       "    </tr>\n",
       "  </tbody>\n",
       "</table>\n",
       "<p>199 rows × 2 columns</p>\n",
       "</div>"
      ],
      "text/plain": [
       "                                      speech_lemma_pos      vote\n",
       "0    hacer_VERB año_NOUN tener_VERB una_DET sesión_...  positivo\n",
       "1    gracia_NOUN señor_NOUN presidente_NOUN hoy_ADV...  negativo\n",
       "2    como_SCONJ ir_VERB a_ADP pedir_VERB la_DET ins...  negativo\n",
       "3    gracia_NOUN presidenta_NOUN nuevamente_ADV yo_...  negativo\n",
       "4    gracia_NOUN señora_NOUN presidenta_NOUN realme...  negativo\n",
       "..                                                 ...       ...\n",
       "194  gracia_NOUN presidenta_NOUN antes_ADV de_ADP c...  positivo\n",
       "195  mucha_ADJ gracia_NOUN señora_NOUN presidenta_N...  positivo\n",
       "196                             ya_ADV presidenta_NOUN  positivo\n",
       "197  en_ADP cuanto_ADJ al_ADP artículo_NOUN propone...  positivo\n",
       "198  gracia_NOUN señora_NOUN presidenta_NOUN sin_AD...  negativo\n",
       "\n",
       "[199 rows x 2 columns]"
      ]
     },
     "execution_count": 5,
     "metadata": {},
     "output_type": "execute_result"
    }
   ],
   "source": [
    "data = (\n",
    "    data[(data.speech.notna()) & (~data.vote.isin([\"abstención\", \"ausente\"]))]\n",
    "    .reset_index(drop=True)\n",
    "    .assign(\n",
    "        speech_lemma_pos=lambda x: x.speech_lemma_pos.apply(\n",
    "            lambda z: \" \".join([\"_\".join(i) for i in z])\n",
    "        )\n",
    "    )\n",
    ")\n",
    "data[[\"speech_lemma_pos\", \"vote\"]]"
   ]
  },
  {
   "cell_type": "code",
   "execution_count": 6,
   "metadata": {},
   "outputs": [
    {
     "data": {
      "text/plain": [
       "vote\n",
       "positivo    0.557789\n",
       "negativo    0.442211\n",
       "Name: proportion, dtype: float64"
      ]
     },
     "execution_count": 6,
     "metadata": {},
     "output_type": "execute_result"
    }
   ],
   "source": [
    "data.vote.value_counts(normalize=True)"
   ]
  },
  {
   "cell_type": "markdown",
   "metadata": {},
   "source": [
    "## Preprocesamiento"
   ]
  },
  {
   "cell_type": "code",
   "execution_count": 7,
   "metadata": {},
   "outputs": [
    {
     "data": {
      "text/plain": [
       "((159,), (159,))"
      ]
     },
     "execution_count": 7,
     "metadata": {},
     "output_type": "execute_result"
    }
   ],
   "source": [
    "INDEX = os.path.join(MODELS_PATH, \"index\")\n",
    "X_train_index = (\n",
    "    pd\n",
    "    .read_csv(os.path.join(INDEX, f\"X_train_index.csv\"), header=None, index_col=0)\n",
    "    .index\n",
    ")\n",
    "X_test_index = (\n",
    "    pd\n",
    "    .read_csv(os.path.join(INDEX, f\"X_test_index.csv\"), header=None, index_col=0)\n",
    "    .index\n",
    ")\n",
    "X_train_index.shape, X_train_index.shape"
   ]
  },
  {
   "cell_type": "code",
   "execution_count": 8,
   "metadata": {},
   "outputs": [
    {
     "data": {
      "text/plain": [
       "array([1, 0])"
      ]
     },
     "execution_count": 8,
     "metadata": {},
     "output_type": "execute_result"
    }
   ],
   "source": [
    "le = joblib.load(os.path.join(MODELS_PATH, \"labelencoder.pkl\"))\n",
    "\n",
    "data[\"target\"] = le.fit_transform(data.vote)\n",
    "data.target.unique()"
   ]
  },
  {
   "cell_type": "code",
   "execution_count": 9,
   "metadata": {},
   "outputs": [
    {
     "data": {
      "text/plain": [
       "((159,), (159,), (40,), (40,))"
      ]
     },
     "execution_count": 9,
     "metadata": {},
     "output_type": "execute_result"
    }
   ],
   "source": [
    "train, test = data.loc[X_train_index], data.loc[X_test_index] \n",
    "\n",
    "X_train, y_train = train.speech_lemma_pos, train.target\n",
    "X_test, y_test= test.speech_lemma_pos, test.target\n",
    "\n",
    "(X_train.shape, y_train.shape, X_test.shape, y_test.shape)"
   ]
  },
  {
   "cell_type": "markdown",
   "metadata": {},
   "source": [
    "## Selección de hiperparámetros"
   ]
  },
  {
   "cell_type": "code",
   "execution_count": 10,
   "metadata": {},
   "outputs": [],
   "source": [
    "SEED = 6300"
   ]
  },
  {
   "cell_type": "code",
   "execution_count": 11,
   "metadata": {},
   "outputs": [],
   "source": [
    "pipeline = Pipeline([\n",
    "    (\"vectorizer\", CustomTfidfVectorizer(positive_values=1, dimension=300, log_idf=True)),\n",
    "    (\"clf\", LogisticRegression(random_state=SEED))\n",
    "])\n",
    "\n",
    "score_methods = StratifiedKFold(n_splits=5, shuffle=True, random_state=SEED)\n",
    "\n",
    "scoring_method = {\n",
    "    \"accuracy\": \"accuracy\",\n",
    "    \"f1\": \"f1\",\n",
    "    \"f1_weighted\": make_scorer(f1_score, average=\"weighted\"),\n",
    "    \"f1_macro\": make_scorer(f1_score, average=\"macro\"),\n",
    "    \"precision\": make_scorer(precision_score),\n",
    "    \"precision_weighted\": make_scorer(precision_score, average=\"weighted\"),\n",
    "    \"precision_macro\": make_scorer(precision_score, average=\"macro\"),\n",
    "    \"recall\": make_scorer(recall_score),\n",
    "    \"recall_weighted\": make_scorer(recall_score, average=\"weighted\"),\n",
    "    \"recall_macro\": make_scorer(recall_score, average=\"macro\"),\n",
    "    \"roc_auc_weighted\": make_scorer(roc_auc_score, average=\"weighted\"),\n",
    "    \"roc_auc_macro\": make_scorer(roc_auc_score, average=\"macro\"),\n",
    "}"
   ]
  },
  {
   "cell_type": "code",
   "execution_count": 12,
   "metadata": {},
   "outputs": [
    {
     "name": "stderr",
     "output_type": "stream",
     "text": [
      "/home/macarena/.pyenv/versions/3.11.4/envs/eddc-tp/lib/python3.11/site-packages/sklearn/linear_model/_logistic.py:460: ConvergenceWarning: lbfgs failed to converge (status=1):\n",
      "STOP: TOTAL NO. of ITERATIONS REACHED LIMIT.\n",
      "\n",
      "Increase the number of iterations (max_iter) or scale the data as shown in:\n",
      "    https://scikit-learn.org/stable/modules/preprocessing.html\n",
      "Please also refer to the documentation for alternative solver options:\n",
      "    https://scikit-learn.org/stable/modules/linear_model.html#logistic-regression\n",
      "  n_iter_i = _check_optimize_result(\n",
      "/home/macarena/.pyenv/versions/3.11.4/envs/eddc-tp/lib/python3.11/site-packages/sklearn/linear_model/_logistic.py:460: ConvergenceWarning: lbfgs failed to converge (status=1):\n",
      "STOP: TOTAL NO. of ITERATIONS REACHED LIMIT.\n",
      "\n",
      "Increase the number of iterations (max_iter) or scale the data as shown in:\n",
      "    https://scikit-learn.org/stable/modules/preprocessing.html\n",
      "Please also refer to the documentation for alternative solver options:\n",
      "    https://scikit-learn.org/stable/modules/linear_model.html#logistic-regression\n",
      "  n_iter_i = _check_optimize_result(\n",
      "/home/macarena/.pyenv/versions/3.11.4/envs/eddc-tp/lib/python3.11/site-packages/sklearn/linear_model/_logistic.py:460: ConvergenceWarning: lbfgs failed to converge (status=1):\n",
      "STOP: TOTAL NO. of ITERATIONS REACHED LIMIT.\n",
      "\n",
      "Increase the number of iterations (max_iter) or scale the data as shown in:\n",
      "    https://scikit-learn.org/stable/modules/preprocessing.html\n",
      "Please also refer to the documentation for alternative solver options:\n",
      "    https://scikit-learn.org/stable/modules/linear_model.html#logistic-regression\n",
      "  n_iter_i = _check_optimize_result(\n",
      "/home/macarena/.pyenv/versions/3.11.4/envs/eddc-tp/lib/python3.11/site-packages/sklearn/linear_model/_logistic.py:460: ConvergenceWarning: lbfgs failed to converge (status=1):\n",
      "STOP: TOTAL NO. of ITERATIONS REACHED LIMIT.\n",
      "\n",
      "Increase the number of iterations (max_iter) or scale the data as shown in:\n",
      "    https://scikit-learn.org/stable/modules/preprocessing.html\n",
      "Please also refer to the documentation for alternative solver options:\n",
      "    https://scikit-learn.org/stable/modules/linear_model.html#logistic-regression\n",
      "  n_iter_i = _check_optimize_result(\n",
      "/home/macarena/.pyenv/versions/3.11.4/envs/eddc-tp/lib/python3.11/site-packages/sklearn/linear_model/_logistic.py:460: ConvergenceWarning: lbfgs failed to converge (status=1):\n",
      "STOP: TOTAL NO. of ITERATIONS REACHED LIMIT.\n",
      "\n",
      "Increase the number of iterations (max_iter) or scale the data as shown in:\n",
      "    https://scikit-learn.org/stable/modules/preprocessing.html\n",
      "Please also refer to the documentation for alternative solver options:\n",
      "    https://scikit-learn.org/stable/modules/linear_model.html#logistic-regression\n",
      "  n_iter_i = _check_optimize_result(\n",
      "/home/macarena/.pyenv/versions/3.11.4/envs/eddc-tp/lib/python3.11/site-packages/sklearn/linear_model/_logistic.py:460: ConvergenceWarning: lbfgs failed to converge (status=1):\n",
      "STOP: TOTAL NO. of ITERATIONS REACHED LIMIT.\n",
      "\n",
      "Increase the number of iterations (max_iter) or scale the data as shown in:\n",
      "    https://scikit-learn.org/stable/modules/preprocessing.html\n",
      "Please also refer to the documentation for alternative solver options:\n",
      "    https://scikit-learn.org/stable/modules/linear_model.html#logistic-regression\n",
      "  n_iter_i = _check_optimize_result(\n",
      "/home/macarena/.pyenv/versions/3.11.4/envs/eddc-tp/lib/python3.11/site-packages/sklearn/linear_model/_logistic.py:460: ConvergenceWarning: lbfgs failed to converge (status=1):\n",
      "STOP: TOTAL NO. of ITERATIONS REACHED LIMIT.\n",
      "\n",
      "Increase the number of iterations (max_iter) or scale the data as shown in:\n",
      "    https://scikit-learn.org/stable/modules/preprocessing.html\n",
      "Please also refer to the documentation for alternative solver options:\n",
      "    https://scikit-learn.org/stable/modules/linear_model.html#logistic-regression\n",
      "  n_iter_i = _check_optimize_result(\n",
      "/home/macarena/.pyenv/versions/3.11.4/envs/eddc-tp/lib/python3.11/site-packages/sklearn/linear_model/_logistic.py:460: ConvergenceWarning: lbfgs failed to converge (status=1):\n",
      "STOP: TOTAL NO. of ITERATIONS REACHED LIMIT.\n",
      "\n",
      "Increase the number of iterations (max_iter) or scale the data as shown in:\n",
      "    https://scikit-learn.org/stable/modules/preprocessing.html\n",
      "Please also refer to the documentation for alternative solver options:\n",
      "    https://scikit-learn.org/stable/modules/linear_model.html#logistic-regression\n",
      "  n_iter_i = _check_optimize_result(\n",
      "/home/macarena/.pyenv/versions/3.11.4/envs/eddc-tp/lib/python3.11/site-packages/sklearn/model_selection/_validation.py:425: FitFailedWarning: \n",
      "15 fits failed out of a total of 30.\n",
      "The score on these train-test partitions for these parameters will be set to nan.\n",
      "If these failures are not expected, you can try to debug them by setting error_score='raise'.\n",
      "\n",
      "Below are more details about the failures:\n",
      "--------------------------------------------------------------------------------\n",
      "15 fits failed with the following error:\n",
      "Traceback (most recent call last):\n",
      "  File \"/home/macarena/.pyenv/versions/3.11.4/envs/eddc-tp/lib/python3.11/site-packages/sklearn/model_selection/_validation.py\", line 732, in _fit_and_score\n",
      "    estimator.fit(X_train, y_train, **fit_params)\n",
      "  File \"/home/macarena/.pyenv/versions/3.11.4/envs/eddc-tp/lib/python3.11/site-packages/sklearn/base.py\", line 1151, in wrapper\n",
      "    return fit_method(estimator, *args, **kwargs)\n",
      "           ^^^^^^^^^^^^^^^^^^^^^^^^^^^^^^^^^^^^^^\n",
      "  File \"/home/macarena/.pyenv/versions/3.11.4/envs/eddc-tp/lib/python3.11/site-packages/sklearn/pipeline.py\", line 420, in fit\n",
      "    self._final_estimator.fit(Xt, y, **fit_params_last_step)\n",
      "  File \"/home/macarena/.pyenv/versions/3.11.4/envs/eddc-tp/lib/python3.11/site-packages/sklearn/base.py\", line 1151, in wrapper\n",
      "    return fit_method(estimator, *args, **kwargs)\n",
      "           ^^^^^^^^^^^^^^^^^^^^^^^^^^^^^^^^^^^^^^\n",
      "  File \"/home/macarena/.pyenv/versions/3.11.4/envs/eddc-tp/lib/python3.11/site-packages/sklearn/linear_model/_logistic.py\", line 1168, in fit\n",
      "    solver = _check_solver(self.solver, self.penalty, self.dual)\n",
      "             ^^^^^^^^^^^^^^^^^^^^^^^^^^^^^^^^^^^^^^^^^^^^^^^^^^^\n",
      "  File \"/home/macarena/.pyenv/versions/3.11.4/envs/eddc-tp/lib/python3.11/site-packages/sklearn/linear_model/_logistic.py\", line 56, in _check_solver\n",
      "    raise ValueError(\n",
      "ValueError: Solver lbfgs supports only 'l2' or 'none' penalties, got l1 penalty.\n",
      "\n",
      "  warnings.warn(some_fits_failed_message, FitFailedWarning)\n",
      "/home/macarena/.pyenv/versions/3.11.4/envs/eddc-tp/lib/python3.11/site-packages/sklearn/model_selection/_search.py:976: UserWarning: One or more of the test scores are non-finite: [       nan 0.69778226        nan 0.64758065        nan 0.62237903]\n",
      "  warnings.warn(\n",
      "/home/macarena/.pyenv/versions/3.11.4/envs/eddc-tp/lib/python3.11/site-packages/sklearn/model_selection/_search.py:976: UserWarning: One or more of the train scores are non-finite: [       nan 0.81286909        nan 0.8742003         nan 0.89623524]\n",
      "  warnings.warn(\n",
      "/home/macarena/.pyenv/versions/3.11.4/envs/eddc-tp/lib/python3.11/site-packages/sklearn/model_selection/_search.py:976: UserWarning: One or more of the test scores are non-finite: [       nan 0.74324042        nan 0.66522112        nan 0.6310654 ]\n",
      "  warnings.warn(\n",
      "/home/macarena/.pyenv/versions/3.11.4/envs/eddc-tp/lib/python3.11/site-packages/sklearn/model_selection/_search.py:976: UserWarning: One or more of the train scores are non-finite: [       nan 0.83793974        nan 0.88709281        nan 0.90505167]\n",
      "  warnings.warn(\n",
      "/home/macarena/.pyenv/versions/3.11.4/envs/eddc-tp/lib/python3.11/site-packages/sklearn/model_selection/_search.py:976: UserWarning: One or more of the test scores are non-finite: [       nan 0.69271428        nan 0.64693316        nan 0.62160809]\n",
      "  warnings.warn(\n",
      "/home/macarena/.pyenv/versions/3.11.4/envs/eddc-tp/lib/python3.11/site-packages/sklearn/model_selection/_search.py:976: UserWarning: One or more of the train scores are non-finite: [       nan 0.81177056        nan 0.8742394         nan 0.89641904]\n",
      "  warnings.warn(\n",
      "/home/macarena/.pyenv/versions/3.11.4/envs/eddc-tp/lib/python3.11/site-packages/sklearn/model_selection/_search.py:976: UserWarning: One or more of the test scores are non-finite: [       nan 0.68579665        nan 0.64423995        nan 0.62008176]\n",
      "  warnings.warn(\n",
      "/home/macarena/.pyenv/versions/3.11.4/envs/eddc-tp/lib/python3.11/site-packages/sklearn/model_selection/_search.py:976: UserWarning: One or more of the train scores are non-finite: [       nan 0.80821358        nan 0.87249321        nan 0.89524118]\n",
      "  warnings.warn(\n",
      "/home/macarena/.pyenv/versions/3.11.4/envs/eddc-tp/lib/python3.11/site-packages/sklearn/model_selection/_search.py:976: UserWarning: One or more of the test scores are non-finite: [       nan 0.7088274         nan 0.71536775        nan 0.69502262]\n",
      "  warnings.warn(\n",
      "/home/macarena/.pyenv/versions/3.11.4/envs/eddc-tp/lib/python3.11/site-packages/sklearn/model_selection/_search.py:976: UserWarning: One or more of the train scores are non-finite: [       nan 0.81266216        nan 0.89272154        nan 0.92741757]\n",
      "  warnings.warn(\n",
      "/home/macarena/.pyenv/versions/3.11.4/envs/eddc-tp/lib/python3.11/site-packages/sklearn/model_selection/_search.py:976: UserWarning: One or more of the test scores are non-finite: [       nan 0.70047238        nan 0.65894754        nan 0.63608813]\n",
      "  warnings.warn(\n",
      "/home/macarena/.pyenv/versions/3.11.4/envs/eddc-tp/lib/python3.11/site-packages/sklearn/model_selection/_search.py:976: UserWarning: One or more of the train scores are non-finite: [       nan 0.8131966         nan 0.87485719        nan 0.89895977]\n",
      "  warnings.warn(\n",
      "/home/macarena/.pyenv/versions/3.11.4/envs/eddc-tp/lib/python3.11/site-packages/sklearn/model_selection/_search.py:976: UserWarning: One or more of the test scores are non-finite: [       nan 0.69944423        nan 0.65132864        nan 0.62812166]\n",
      "  warnings.warn(\n",
      "/home/macarena/.pyenv/versions/3.11.4/envs/eddc-tp/lib/python3.11/site-packages/sklearn/model_selection/_search.py:976: UserWarning: One or more of the train scores are non-finite: [       nan 0.81330072        nan 0.87245083        nan 0.89512675]\n",
      "  warnings.warn(\n",
      "/home/macarena/.pyenv/versions/3.11.4/envs/eddc-tp/lib/python3.11/site-packages/sklearn/model_selection/_search.py:976: UserWarning: One or more of the test scores are non-finite: [       nan 0.78562092        nan 0.62810458        nan 0.58300654]\n",
      "  warnings.warn(\n",
      "/home/macarena/.pyenv/versions/3.11.4/envs/eddc-tp/lib/python3.11/site-packages/sklearn/model_selection/_search.py:976: UserWarning: One or more of the train scores are non-finite: [       nan 0.8650626         nan 0.88196401        nan 0.88478091]\n",
      "  warnings.warn(\n",
      "/home/macarena/.pyenv/versions/3.11.4/envs/eddc-tp/lib/python3.11/site-packages/sklearn/model_selection/_search.py:976: UserWarning: One or more of the test scores are non-finite: [       nan 0.6856676         nan 0.64976657        nan 0.62721755]\n",
      "  warnings.warn(\n",
      "/home/macarena/.pyenv/versions/3.11.4/envs/eddc-tp/lib/python3.11/site-packages/sklearn/model_selection/_search.py:976: UserWarning: One or more of the train scores are non-finite: [       nan 0.80574558        nan 0.87312486        nan 0.8977476 ]\n",
      "  warnings.warn(\n"
     ]
    },
    {
     "data": {
      "text/html": [
       "<style>#sk-container-id-1 {color: black;}#sk-container-id-1 pre{padding: 0;}#sk-container-id-1 div.sk-toggleable {background-color: white;}#sk-container-id-1 label.sk-toggleable__label {cursor: pointer;display: block;width: 100%;margin-bottom: 0;padding: 0.3em;box-sizing: border-box;text-align: center;}#sk-container-id-1 label.sk-toggleable__label-arrow:before {content: \"▸\";float: left;margin-right: 0.25em;color: #696969;}#sk-container-id-1 label.sk-toggleable__label-arrow:hover:before {color: black;}#sk-container-id-1 div.sk-estimator:hover label.sk-toggleable__label-arrow:before {color: black;}#sk-container-id-1 div.sk-toggleable__content {max-height: 0;max-width: 0;overflow: hidden;text-align: left;background-color: #f0f8ff;}#sk-container-id-1 div.sk-toggleable__content pre {margin: 0.2em;color: black;border-radius: 0.25em;background-color: #f0f8ff;}#sk-container-id-1 input.sk-toggleable__control:checked~div.sk-toggleable__content {max-height: 200px;max-width: 100%;overflow: auto;}#sk-container-id-1 input.sk-toggleable__control:checked~label.sk-toggleable__label-arrow:before {content: \"▾\";}#sk-container-id-1 div.sk-estimator input.sk-toggleable__control:checked~label.sk-toggleable__label {background-color: #d4ebff;}#sk-container-id-1 div.sk-label input.sk-toggleable__control:checked~label.sk-toggleable__label {background-color: #d4ebff;}#sk-container-id-1 input.sk-hidden--visually {border: 0;clip: rect(1px 1px 1px 1px);clip: rect(1px, 1px, 1px, 1px);height: 1px;margin: -1px;overflow: hidden;padding: 0;position: absolute;width: 1px;}#sk-container-id-1 div.sk-estimator {font-family: monospace;background-color: #f0f8ff;border: 1px dotted black;border-radius: 0.25em;box-sizing: border-box;margin-bottom: 0.5em;}#sk-container-id-1 div.sk-estimator:hover {background-color: #d4ebff;}#sk-container-id-1 div.sk-parallel-item::after {content: \"\";width: 100%;border-bottom: 1px solid gray;flex-grow: 1;}#sk-container-id-1 div.sk-label:hover label.sk-toggleable__label {background-color: #d4ebff;}#sk-container-id-1 div.sk-serial::before {content: \"\";position: absolute;border-left: 1px solid gray;box-sizing: border-box;top: 0;bottom: 0;left: 50%;z-index: 0;}#sk-container-id-1 div.sk-serial {display: flex;flex-direction: column;align-items: center;background-color: white;padding-right: 0.2em;padding-left: 0.2em;position: relative;}#sk-container-id-1 div.sk-item {position: relative;z-index: 1;}#sk-container-id-1 div.sk-parallel {display: flex;align-items: stretch;justify-content: center;background-color: white;position: relative;}#sk-container-id-1 div.sk-item::before, #sk-container-id-1 div.sk-parallel-item::before {content: \"\";position: absolute;border-left: 1px solid gray;box-sizing: border-box;top: 0;bottom: 0;left: 50%;z-index: -1;}#sk-container-id-1 div.sk-parallel-item {display: flex;flex-direction: column;z-index: 1;position: relative;background-color: white;}#sk-container-id-1 div.sk-parallel-item:first-child::after {align-self: flex-end;width: 50%;}#sk-container-id-1 div.sk-parallel-item:last-child::after {align-self: flex-start;width: 50%;}#sk-container-id-1 div.sk-parallel-item:only-child::after {width: 0;}#sk-container-id-1 div.sk-dashed-wrapped {border: 1px dashed gray;margin: 0 0.4em 0.5em 0.4em;box-sizing: border-box;padding-bottom: 0.4em;background-color: white;}#sk-container-id-1 div.sk-label label {font-family: monospace;font-weight: bold;display: inline-block;line-height: 1.2em;}#sk-container-id-1 div.sk-label-container {text-align: center;}#sk-container-id-1 div.sk-container {/* jupyter's `normalize.less` sets `[hidden] { display: none; }` but bootstrap.min.css set `[hidden] { display: none !important; }` so we also need the `!important` here to be able to override the default hidden behavior on the sphinx rendered scikit-learn.org. See: https://github.com/scikit-learn/scikit-learn/issues/21755 */display: inline-block !important;position: relative;}#sk-container-id-1 div.sk-text-repr-fallback {display: none;}</style><div id=\"sk-container-id-1\" class=\"sk-top-container\"><div class=\"sk-text-repr-fallback\"><pre>GridSearchCV(cv=5,\n",
       "             estimator=Pipeline(steps=[(&#x27;vectorizer&#x27;,\n",
       "                                        CustomTfidfVectorizer(log_idf=True,\n",
       "                                                              positive_values=1)),\n",
       "                                       (&#x27;clf&#x27;,\n",
       "                                        LogisticRegression(random_state=6300))]),\n",
       "             n_jobs=-1,\n",
       "             param_grid={&#x27;clf__C&#x27;: [0.1, 0.5, 1], &#x27;clf__penalty&#x27;: [&#x27;l1&#x27;, &#x27;l2&#x27;]},\n",
       "             refit=&#x27;f1&#x27;, return_train_score=True,\n",
       "             scoring={&#x27;accuracy&#x27;: &#x27;accuracy&#x27;, &#x27;f1&#x27;: &#x27;f1&#x27;,\n",
       "                      &#x27;f1_macro&#x27;: make_scorer(f1_score, average=ma...\n",
       "                      &#x27;precision_macro&#x27;: make_scorer(precision_score, average=macro),\n",
       "                      &#x27;precision_weighted&#x27;: make_scorer(precision_score, average=weighted),\n",
       "                      &#x27;recall&#x27;: make_scorer(recall_score),\n",
       "                      &#x27;recall_macro&#x27;: make_scorer(recall_score, average=macro),\n",
       "                      &#x27;recall_weighted&#x27;: make_scorer(recall_score, average=weighted),\n",
       "                      &#x27;roc_auc_macro&#x27;: make_scorer(roc_auc_score, average=macro),\n",
       "                      &#x27;roc_auc_weighted&#x27;: make_scorer(roc_auc_score, average=weighted)})</pre><b>In a Jupyter environment, please rerun this cell to show the HTML representation or trust the notebook. <br />On GitHub, the HTML representation is unable to render, please try loading this page with nbviewer.org.</b></div><div class=\"sk-container\" hidden><div class=\"sk-item sk-dashed-wrapped\"><div class=\"sk-label-container\"><div class=\"sk-label sk-toggleable\"><input class=\"sk-toggleable__control sk-hidden--visually\" id=\"sk-estimator-id-1\" type=\"checkbox\" ><label for=\"sk-estimator-id-1\" class=\"sk-toggleable__label sk-toggleable__label-arrow\">GridSearchCV</label><div class=\"sk-toggleable__content\"><pre>GridSearchCV(cv=5,\n",
       "             estimator=Pipeline(steps=[(&#x27;vectorizer&#x27;,\n",
       "                                        CustomTfidfVectorizer(log_idf=True,\n",
       "                                                              positive_values=1)),\n",
       "                                       (&#x27;clf&#x27;,\n",
       "                                        LogisticRegression(random_state=6300))]),\n",
       "             n_jobs=-1,\n",
       "             param_grid={&#x27;clf__C&#x27;: [0.1, 0.5, 1], &#x27;clf__penalty&#x27;: [&#x27;l1&#x27;, &#x27;l2&#x27;]},\n",
       "             refit=&#x27;f1&#x27;, return_train_score=True,\n",
       "             scoring={&#x27;accuracy&#x27;: &#x27;accuracy&#x27;, &#x27;f1&#x27;: &#x27;f1&#x27;,\n",
       "                      &#x27;f1_macro&#x27;: make_scorer(f1_score, average=ma...\n",
       "                      &#x27;precision_macro&#x27;: make_scorer(precision_score, average=macro),\n",
       "                      &#x27;precision_weighted&#x27;: make_scorer(precision_score, average=weighted),\n",
       "                      &#x27;recall&#x27;: make_scorer(recall_score),\n",
       "                      &#x27;recall_macro&#x27;: make_scorer(recall_score, average=macro),\n",
       "                      &#x27;recall_weighted&#x27;: make_scorer(recall_score, average=weighted),\n",
       "                      &#x27;roc_auc_macro&#x27;: make_scorer(roc_auc_score, average=macro),\n",
       "                      &#x27;roc_auc_weighted&#x27;: make_scorer(roc_auc_score, average=weighted)})</pre></div></div></div><div class=\"sk-parallel\"><div class=\"sk-parallel-item\"><div class=\"sk-item\"><div class=\"sk-label-container\"><div class=\"sk-label sk-toggleable\"><input class=\"sk-toggleable__control sk-hidden--visually\" id=\"sk-estimator-id-2\" type=\"checkbox\" ><label for=\"sk-estimator-id-2\" class=\"sk-toggleable__label sk-toggleable__label-arrow\">estimator: Pipeline</label><div class=\"sk-toggleable__content\"><pre>Pipeline(steps=[(&#x27;vectorizer&#x27;,\n",
       "                 CustomTfidfVectorizer(log_idf=True, positive_values=1)),\n",
       "                (&#x27;clf&#x27;, LogisticRegression(random_state=6300))])</pre></div></div></div><div class=\"sk-serial\"><div class=\"sk-item\"><div class=\"sk-serial\"><div class=\"sk-item\"><div class=\"sk-estimator sk-toggleable\"><input class=\"sk-toggleable__control sk-hidden--visually\" id=\"sk-estimator-id-3\" type=\"checkbox\" ><label for=\"sk-estimator-id-3\" class=\"sk-toggleable__label sk-toggleable__label-arrow\">CustomTfidfVectorizer</label><div class=\"sk-toggleable__content\"><pre>CustomTfidfVectorizer(log_idf=True, positive_values=1)</pre></div></div></div><div class=\"sk-item\"><div class=\"sk-estimator sk-toggleable\"><input class=\"sk-toggleable__control sk-hidden--visually\" id=\"sk-estimator-id-4\" type=\"checkbox\" ><label for=\"sk-estimator-id-4\" class=\"sk-toggleable__label sk-toggleable__label-arrow\">LogisticRegression</label><div class=\"sk-toggleable__content\"><pre>LogisticRegression(random_state=6300)</pre></div></div></div></div></div></div></div></div></div></div></div></div>"
      ],
      "text/plain": [
       "GridSearchCV(cv=5,\n",
       "             estimator=Pipeline(steps=[('vectorizer',\n",
       "                                        CustomTfidfVectorizer(log_idf=True,\n",
       "                                                              positive_values=1)),\n",
       "                                       ('clf',\n",
       "                                        LogisticRegression(random_state=6300))]),\n",
       "             n_jobs=-1,\n",
       "             param_grid={'clf__C': [0.1, 0.5, 1], 'clf__penalty': ['l1', 'l2']},\n",
       "             refit='f1', return_train_score=True,\n",
       "             scoring={'accuracy': 'accuracy', 'f1': 'f1',\n",
       "                      'f1_macro': make_scorer(f1_score, average=ma...\n",
       "                      'precision_macro': make_scorer(precision_score, average=macro),\n",
       "                      'precision_weighted': make_scorer(precision_score, average=weighted),\n",
       "                      'recall': make_scorer(recall_score),\n",
       "                      'recall_macro': make_scorer(recall_score, average=macro),\n",
       "                      'recall_weighted': make_scorer(recall_score, average=weighted),\n",
       "                      'roc_auc_macro': make_scorer(roc_auc_score, average=macro),\n",
       "                      'roc_auc_weighted': make_scorer(roc_auc_score, average=weighted)})"
      ]
     },
     "execution_count": 12,
     "metadata": {},
     "output_type": "execute_result"
    }
   ],
   "source": [
    "gs = GridSearchCV(\n",
    "    estimator=pipeline,\n",
    "    param_grid={\"clf__penalty\": [\"l1\", \"l2\"], \"clf__C\": [0.1, 0.5, 1]},\n",
    "    cv=5,\n",
    "    return_train_score=True,\n",
    "    n_jobs=-1,\n",
    "    refit=\"f1\",\n",
    "    scoring=scoring_method\n",
    ")\n",
    "gs.fit(X_train, y_train)"
   ]
  },
  {
   "cell_type": "code",
   "execution_count": 13,
   "metadata": {},
   "outputs": [],
   "source": [
    "PARAMS = os.path.join(MODELS_PATH, \"parameters_selection\")\n",
    "os.makedirs(PARAMS, exist_ok=True)\n",
    "\n",
    "FILE = os.path.join(PARAMS, \"gridsearch.joblib\")\n",
    "_ = joblib.dump(gs, FILE, compress=True)"
   ]
  },
  {
   "cell_type": "code",
   "execution_count": 14,
   "metadata": {},
   "outputs": [
    {
     "data": {
      "text/plain": [
       "{'clf__C': 0.1, 'clf__penalty': 'l2'}"
      ]
     },
     "execution_count": 14,
     "metadata": {},
     "output_type": "execute_result"
    }
   ],
   "source": [
    "gs.best_params_"
   ]
  },
  {
   "cell_type": "code",
   "execution_count": 15,
   "metadata": {},
   "outputs": [
    {
     "data": {
      "text/html": [
       "<style type=\"text/css\">\n",
       "#T_c2aff_row0_col0, #T_c2aff_row1_col0, #T_c2aff_row2_col0, #T_c2aff_row3_col0, #T_c2aff_row4_col1, #T_c2aff_row5_col0, #T_c2aff_row6_col0, #T_c2aff_row7_col0, #T_c2aff_row8_col0, #T_c2aff_row9_col0, #T_c2aff_row10_col0, #T_c2aff_row11_col0 {\n",
       "  background-color: blue;\n",
       "}\n",
       "</style>\n",
       "<table id=\"T_c2aff\">\n",
       "  <thead>\n",
       "    <tr>\n",
       "      <th class=\"index_name level0\" >params</th>\n",
       "      <th id=\"T_c2aff_level0_col0\" class=\"col_heading level0 col0\" >C=0.1, penalty=l2</th>\n",
       "      <th id=\"T_c2aff_level0_col1\" class=\"col_heading level0 col1\" >C=0.5, penalty=l2</th>\n",
       "      <th id=\"T_c2aff_level0_col2\" class=\"col_heading level0 col2\" >C=1, penalty=l2</th>\n",
       "    </tr>\n",
       "  </thead>\n",
       "  <tbody>\n",
       "    <tr>\n",
       "      <th id=\"T_c2aff_level0_row0\" class=\"row_heading level0 row0\" >mean_test_accuracy</th>\n",
       "      <td id=\"T_c2aff_row0_col0\" class=\"data row0 col0\" >0.697782</td>\n",
       "      <td id=\"T_c2aff_row0_col1\" class=\"data row0 col1\" >0.647581</td>\n",
       "      <td id=\"T_c2aff_row0_col2\" class=\"data row0 col2\" >0.622379</td>\n",
       "    </tr>\n",
       "    <tr>\n",
       "      <th id=\"T_c2aff_level0_row1\" class=\"row_heading level0 row1\" >mean_test_f1</th>\n",
       "      <td id=\"T_c2aff_row1_col0\" class=\"data row1 col0\" >0.743240</td>\n",
       "      <td id=\"T_c2aff_row1_col1\" class=\"data row1 col1\" >0.665221</td>\n",
       "      <td id=\"T_c2aff_row1_col2\" class=\"data row1 col2\" >0.631065</td>\n",
       "    </tr>\n",
       "    <tr>\n",
       "      <th id=\"T_c2aff_level0_row2\" class=\"row_heading level0 row2\" >mean_test_f1_macro</th>\n",
       "      <td id=\"T_c2aff_row2_col0\" class=\"data row2 col0\" >0.685797</td>\n",
       "      <td id=\"T_c2aff_row2_col1\" class=\"data row2 col1\" >0.644240</td>\n",
       "      <td id=\"T_c2aff_row2_col2\" class=\"data row2 col2\" >0.620082</td>\n",
       "    </tr>\n",
       "    <tr>\n",
       "      <th id=\"T_c2aff_level0_row3\" class=\"row_heading level0 row3\" >mean_test_f1_weighted</th>\n",
       "      <td id=\"T_c2aff_row3_col0\" class=\"data row3 col0\" >0.692714</td>\n",
       "      <td id=\"T_c2aff_row3_col1\" class=\"data row3 col1\" >0.646933</td>\n",
       "      <td id=\"T_c2aff_row3_col2\" class=\"data row3 col2\" >0.621608</td>\n",
       "    </tr>\n",
       "    <tr>\n",
       "      <th id=\"T_c2aff_level0_row4\" class=\"row_heading level0 row4\" >mean_test_precision</th>\n",
       "      <td id=\"T_c2aff_row4_col0\" class=\"data row4 col0\" >0.708827</td>\n",
       "      <td id=\"T_c2aff_row4_col1\" class=\"data row4 col1\" >0.715368</td>\n",
       "      <td id=\"T_c2aff_row4_col2\" class=\"data row4 col2\" >0.695023</td>\n",
       "    </tr>\n",
       "    <tr>\n",
       "      <th id=\"T_c2aff_level0_row5\" class=\"row_heading level0 row5\" >mean_test_precision_macro</th>\n",
       "      <td id=\"T_c2aff_row5_col0\" class=\"data row5 col0\" >0.699444</td>\n",
       "      <td id=\"T_c2aff_row5_col1\" class=\"data row5 col1\" >0.651329</td>\n",
       "      <td id=\"T_c2aff_row5_col2\" class=\"data row5 col2\" >0.628122</td>\n",
       "    </tr>\n",
       "    <tr>\n",
       "      <th id=\"T_c2aff_level0_row6\" class=\"row_heading level0 row6\" >mean_test_precision_weighted</th>\n",
       "      <td id=\"T_c2aff_row6_col0\" class=\"data row6 col0\" >0.700472</td>\n",
       "      <td id=\"T_c2aff_row6_col1\" class=\"data row6 col1\" >0.658948</td>\n",
       "      <td id=\"T_c2aff_row6_col2\" class=\"data row6 col2\" >0.636088</td>\n",
       "    </tr>\n",
       "    <tr>\n",
       "      <th id=\"T_c2aff_level0_row7\" class=\"row_heading level0 row7\" >mean_test_recall</th>\n",
       "      <td id=\"T_c2aff_row7_col0\" class=\"data row7 col0\" >0.785621</td>\n",
       "      <td id=\"T_c2aff_row7_col1\" class=\"data row7 col1\" >0.628105</td>\n",
       "      <td id=\"T_c2aff_row7_col2\" class=\"data row7 col2\" >0.583007</td>\n",
       "    </tr>\n",
       "    <tr>\n",
       "      <th id=\"T_c2aff_level0_row8\" class=\"row_heading level0 row8\" >mean_test_recall_macro</th>\n",
       "      <td id=\"T_c2aff_row8_col0\" class=\"data row8 col0\" >0.685668</td>\n",
       "      <td id=\"T_c2aff_row8_col1\" class=\"data row8 col1\" >0.649767</td>\n",
       "      <td id=\"T_c2aff_row8_col2\" class=\"data row8 col2\" >0.627218</td>\n",
       "    </tr>\n",
       "    <tr>\n",
       "      <th id=\"T_c2aff_level0_row9\" class=\"row_heading level0 row9\" >mean_test_recall_weighted</th>\n",
       "      <td id=\"T_c2aff_row9_col0\" class=\"data row9 col0\" >0.697782</td>\n",
       "      <td id=\"T_c2aff_row9_col1\" class=\"data row9 col1\" >0.647581</td>\n",
       "      <td id=\"T_c2aff_row9_col2\" class=\"data row9 col2\" >0.622379</td>\n",
       "    </tr>\n",
       "    <tr>\n",
       "      <th id=\"T_c2aff_level0_row10\" class=\"row_heading level0 row10\" >mean_test_roc_auc_macro</th>\n",
       "      <td id=\"T_c2aff_row10_col0\" class=\"data row10 col0\" >0.685668</td>\n",
       "      <td id=\"T_c2aff_row10_col1\" class=\"data row10 col1\" >0.649767</td>\n",
       "      <td id=\"T_c2aff_row10_col2\" class=\"data row10 col2\" >0.627218</td>\n",
       "    </tr>\n",
       "    <tr>\n",
       "      <th id=\"T_c2aff_level0_row11\" class=\"row_heading level0 row11\" >mean_test_roc_auc_weighted</th>\n",
       "      <td id=\"T_c2aff_row11_col0\" class=\"data row11 col0\" >0.685668</td>\n",
       "      <td id=\"T_c2aff_row11_col1\" class=\"data row11 col1\" >0.649767</td>\n",
       "      <td id=\"T_c2aff_row11_col2\" class=\"data row11 col2\" >0.627218</td>\n",
       "    </tr>\n",
       "  </tbody>\n",
       "</table>\n"
      ],
      "text/plain": [
       "<pandas.io.formats.style.Styler at 0x7235cd86c6d0>"
      ]
     },
     "execution_count": 15,
     "metadata": {},
     "output_type": "execute_result"
    }
   ],
   "source": [
    "results = (\n",
    "    pd.DataFrame(gs.cv_results_)\n",
    "    .dropna()\n",
    ")\n",
    "results[\"params\"] = (\n",
    "    results\n",
    "    .filter(regex=\"params\")\n",
    "    .params\n",
    "    .apply(\n",
    "        lambda x: \", \".join([f'{re.sub(\"clf__\",\"\",k)}={v}' for k, v in x.items()])\n",
    "    )\n",
    ")\n",
    "\n",
    "rank_columns = results.filter(regex=\"rank_\").columns.to_list()\n",
    "params_columns = results.filter(regex=\"params\").columns.to_list()\n",
    "mean_test_columns = results.filter(regex=\"mean_test\").columns.to_list()\n",
    "std_test_columns = results.filter(regex=\"std_test\").columns.to_list()\n",
    "\n",
    "(\n",
    "    results\n",
    "    .pivot_table(index=params_columns, values=mean_test_columns)\n",
    "    .T\n",
    "    .style\n",
    "    .highlight_max(axis=1, color=\"blue\")\n",
    ")"
   ]
  },
  {
   "cell_type": "code",
   "execution_count": 16,
   "metadata": {},
   "outputs": [
    {
     "data": {
      "text/html": [
       "<style type=\"text/css\">\n",
       "#T_45562_row0_col2, #T_45562_row1_col0, #T_45562_row2_col2, #T_45562_row3_col2, #T_45562_row4_col0, #T_45562_row5_col2, #T_45562_row6_col2, #T_45562_row7_col1, #T_45562_row8_col2, #T_45562_row9_col2, #T_45562_row10_col2, #T_45562_row11_col2 {\n",
       "  background-color: blue;\n",
       "}\n",
       "</style>\n",
       "<table id=\"T_45562\">\n",
       "  <thead>\n",
       "    <tr>\n",
       "      <th class=\"index_name level0\" >params</th>\n",
       "      <th id=\"T_45562_level0_col0\" class=\"col_heading level0 col0\" >C=0.1, penalty=l2</th>\n",
       "      <th id=\"T_45562_level0_col1\" class=\"col_heading level0 col1\" >C=0.5, penalty=l2</th>\n",
       "      <th id=\"T_45562_level0_col2\" class=\"col_heading level0 col2\" >C=1, penalty=l2</th>\n",
       "    </tr>\n",
       "  </thead>\n",
       "  <tbody>\n",
       "    <tr>\n",
       "      <th id=\"T_45562_level0_row0\" class=\"row_heading level0 row0\" >std_test_accuracy</th>\n",
       "      <td id=\"T_45562_row0_col0\" class=\"data row0 col0\" >0.035062</td>\n",
       "      <td id=\"T_45562_row0_col1\" class=\"data row0 col1\" >0.038373</td>\n",
       "      <td id=\"T_45562_row0_col2\" class=\"data row0 col2\" >0.031186</td>\n",
       "    </tr>\n",
       "    <tr>\n",
       "      <th id=\"T_45562_level0_row1\" class=\"row_heading level0 row1\" >std_test_f1</th>\n",
       "      <td id=\"T_45562_row1_col0\" class=\"data row1 col0\" >0.035712</td>\n",
       "      <td id=\"T_45562_row1_col1\" class=\"data row1 col1\" >0.039917</td>\n",
       "      <td id=\"T_45562_row1_col2\" class=\"data row1 col2\" >0.047693</td>\n",
       "    </tr>\n",
       "    <tr>\n",
       "      <th id=\"T_45562_level0_row2\" class=\"row_heading level0 row2\" >std_test_f1_macro</th>\n",
       "      <td id=\"T_45562_row2_col0\" class=\"data row2 col0\" >0.035377</td>\n",
       "      <td id=\"T_45562_row2_col1\" class=\"data row2 col1\" >0.038970</td>\n",
       "      <td id=\"T_45562_row2_col2\" class=\"data row2 col2\" >0.030961</td>\n",
       "    </tr>\n",
       "    <tr>\n",
       "      <th id=\"T_45562_level0_row3\" class=\"row_heading level0 row3\" >std_test_f1_weighted</th>\n",
       "      <td id=\"T_45562_row3_col0\" class=\"data row3 col0\" >0.034982</td>\n",
       "      <td id=\"T_45562_row3_col1\" class=\"data row3 col1\" >0.037921</td>\n",
       "      <td id=\"T_45562_row3_col2\" class=\"data row3 col2\" >0.032052</td>\n",
       "    </tr>\n",
       "    <tr>\n",
       "      <th id=\"T_45562_level0_row4\" class=\"row_heading level0 row4\" >std_test_precision</th>\n",
       "      <td id=\"T_45562_row4_col0\" class=\"data row4 col0\" >0.039024</td>\n",
       "      <td id=\"T_45562_row4_col1\" class=\"data row4 col1\" >0.065964</td>\n",
       "      <td id=\"T_45562_row4_col2\" class=\"data row4 col2\" >0.040092</td>\n",
       "    </tr>\n",
       "    <tr>\n",
       "      <th id=\"T_45562_level0_row5\" class=\"row_heading level0 row5\" >std_test_precision_macro</th>\n",
       "      <td id=\"T_45562_row5_col0\" class=\"data row5 col0\" >0.038291</td>\n",
       "      <td id=\"T_45562_row5_col1\" class=\"data row5 col1\" >0.045058</td>\n",
       "      <td id=\"T_45562_row5_col2\" class=\"data row5 col2\" >0.030714</td>\n",
       "    </tr>\n",
       "    <tr>\n",
       "      <th id=\"T_45562_level0_row6\" class=\"row_heading level0 row6\" >std_test_precision_weighted</th>\n",
       "      <td id=\"T_45562_row6_col0\" class=\"data row6 col0\" >0.037279</td>\n",
       "      <td id=\"T_45562_row6_col1\" class=\"data row6 col1\" >0.047699</td>\n",
       "      <td id=\"T_45562_row6_col2\" class=\"data row6 col2\" >0.031962</td>\n",
       "    </tr>\n",
       "    <tr>\n",
       "      <th id=\"T_45562_level0_row7\" class=\"row_heading level0 row7\" >std_test_recall</th>\n",
       "      <td id=\"T_45562_row7_col0\" class=\"data row7 col0\" >0.068381</td>\n",
       "      <td id=\"T_45562_row7_col1\" class=\"data row7 col1\" >0.064285</td>\n",
       "      <td id=\"T_45562_row7_col2\" class=\"data row7 col2\" >0.075024</td>\n",
       "    </tr>\n",
       "    <tr>\n",
       "      <th id=\"T_45562_level0_row8\" class=\"row_heading level0 row8\" >std_test_recall_macro</th>\n",
       "      <td id=\"T_45562_row8_col0\" class=\"data row8 col0\" >0.035502</td>\n",
       "      <td id=\"T_45562_row8_col1\" class=\"data row8 col1\" >0.043284</td>\n",
       "      <td id=\"T_45562_row8_col2\" class=\"data row8 col2\" >0.030675</td>\n",
       "    </tr>\n",
       "    <tr>\n",
       "      <th id=\"T_45562_level0_row9\" class=\"row_heading level0 row9\" >std_test_recall_weighted</th>\n",
       "      <td id=\"T_45562_row9_col0\" class=\"data row9 col0\" >0.035062</td>\n",
       "      <td id=\"T_45562_row9_col1\" class=\"data row9 col1\" >0.038373</td>\n",
       "      <td id=\"T_45562_row9_col2\" class=\"data row9 col2\" >0.031186</td>\n",
       "    </tr>\n",
       "    <tr>\n",
       "      <th id=\"T_45562_level0_row10\" class=\"row_heading level0 row10\" >std_test_roc_auc_macro</th>\n",
       "      <td id=\"T_45562_row10_col0\" class=\"data row10 col0\" >0.035502</td>\n",
       "      <td id=\"T_45562_row10_col1\" class=\"data row10 col1\" >0.043284</td>\n",
       "      <td id=\"T_45562_row10_col2\" class=\"data row10 col2\" >0.030675</td>\n",
       "    </tr>\n",
       "    <tr>\n",
       "      <th id=\"T_45562_level0_row11\" class=\"row_heading level0 row11\" >std_test_roc_auc_weighted</th>\n",
       "      <td id=\"T_45562_row11_col0\" class=\"data row11 col0\" >0.035502</td>\n",
       "      <td id=\"T_45562_row11_col1\" class=\"data row11 col1\" >0.043284</td>\n",
       "      <td id=\"T_45562_row11_col2\" class=\"data row11 col2\" >0.030675</td>\n",
       "    </tr>\n",
       "  </tbody>\n",
       "</table>\n"
      ],
      "text/plain": [
       "<pandas.io.formats.style.Styler at 0x7235cc747810>"
      ]
     },
     "execution_count": 16,
     "metadata": {},
     "output_type": "execute_result"
    }
   ],
   "source": [
    "(\n",
    "    results\n",
    "    .pivot_table(index=params_columns, values=std_test_columns)\n",
    "    .T\n",
    "    .style\n",
    "    .highlight_min(axis=1, color=\"blue\")\n",
    ")"
   ]
  },
  {
   "cell_type": "code",
   "execution_count": 17,
   "metadata": {},
   "outputs": [],
   "source": [
    "test_f1_columns = results.filter(regex=r\"test_f1$\").columns.to_list()\n",
    "split_test_f1_columns = list(filter(lambda x: x.startswith(\"split\"), test_f1_columns))\n",
    "\n",
    "f1_results = results[test_f1_columns+params_columns].melt(\n",
    "    id_vars=params_columns+[\"mean_test_f1\", \"std_test_f1\"],\n",
    "    value_vars=split_test_f1_columns,\n",
    "    var_name=\"measure\"\n",
    ")"
   ]
  },
  {
   "cell_type": "code",
   "execution_count": 24,
   "metadata": {},
   "outputs": [
    {
     "data": {
      "text/html": [
       "<div>\n",
       "<style scoped>\n",
       "    .dataframe tbody tr th:only-of-type {\n",
       "        vertical-align: middle;\n",
       "    }\n",
       "\n",
       "    .dataframe tbody tr th {\n",
       "        vertical-align: top;\n",
       "    }\n",
       "\n",
       "    .dataframe thead th {\n",
       "        text-align: right;\n",
       "    }\n",
       "</style>\n",
       "<table border=\"1\" class=\"dataframe\">\n",
       "  <thead>\n",
       "    <tr style=\"text-align: right;\">\n",
       "      <th></th>\n",
       "      <th>params</th>\n",
       "      <th>mean_test_f1</th>\n",
       "      <th>std_test_f1</th>\n",
       "      <th>measure</th>\n",
       "      <th>value</th>\n",
       "    </tr>\n",
       "  </thead>\n",
       "  <tbody>\n",
       "    <tr>\n",
       "      <th>0</th>\n",
       "      <td>C=0.1, penalty=l2</td>\n",
       "      <td>0.743240</td>\n",
       "      <td>0.035712</td>\n",
       "      <td>split0_test_f1</td>\n",
       "      <td>0.777778</td>\n",
       "    </tr>\n",
       "    <tr>\n",
       "      <th>1</th>\n",
       "      <td>C=0.5, penalty=l2</td>\n",
       "      <td>0.665221</td>\n",
       "      <td>0.039917</td>\n",
       "      <td>split0_test_f1</td>\n",
       "      <td>0.709677</td>\n",
       "    </tr>\n",
       "    <tr>\n",
       "      <th>2</th>\n",
       "      <td>C=1, penalty=l2</td>\n",
       "      <td>0.631065</td>\n",
       "      <td>0.047693</td>\n",
       "      <td>split0_test_f1</td>\n",
       "      <td>0.645161</td>\n",
       "    </tr>\n",
       "  </tbody>\n",
       "</table>\n",
       "</div>"
      ],
      "text/plain": [
       "              params  mean_test_f1  std_test_f1         measure     value\n",
       "0  C=0.1, penalty=l2      0.743240     0.035712  split0_test_f1  0.777778\n",
       "1  C=0.5, penalty=l2      0.665221     0.039917  split0_test_f1  0.709677\n",
       "2    C=1, penalty=l2      0.631065     0.047693  split0_test_f1  0.645161"
      ]
     },
     "execution_count": 24,
     "metadata": {},
     "output_type": "execute_result"
    }
   ],
   "source": []
  },
  {
   "cell_type": "code",
   "execution_count": 41,
   "metadata": {},
   "outputs": [
    {
     "name": "stderr",
     "output_type": "stream",
     "text": [
      "/tmp/ipykernel_174611/981646385.py:19: UserWarning: set_ticklabels() should only be used with a fixed number of ticks, i.e. after set_ticks() or using a FixedLocator.\n",
      "  axs[1].set_xticklabels([\n"
     ]
    },
    {
     "data": {
      "image/png": "[encoded data removed]",
      "text/plain": [
       "<Figure size 900x300 with 2 Axes>"
      ]
     },
     "metadata": {},
     "output_type": "display_data"
    }
   ],
   "source": [
    "fig, axs = plt.subplots(1, 2, figsize=(9,3))\n",
    "\n",
    "for _, row in f1_results.drop_duplicates([\"mean_test_f1\",\"std_test_f1\"],keep=\"first\").iterrows():\n",
    "    axs[0].errorbar(\n",
    "        x=row.mean_test_f1,\n",
    "        xerr=row.std_test_f1,\n",
    "        y=row.params,\n",
    "        fmt=\"o\",\n",
    "        label=row.params,\n",
    "        alpha=.7\n",
    "    )\n",
    "\n",
    "sns.lineplot(f1_results, x=\"measure\", y=\"value\", hue=\"params\", alpha=.7)\n",
    "    \n",
    "axs[0].set_yticks([])\n",
    "axs[0].set_xlabel(\"\")\n",
    "axs[0].set_title(\"Promedio y desvío\")\n",
    "axs[1].set_ylabel(\"\")\n",
    "axs[1].set_xticklabels([\n",
    "    \"split {n}\".format(n=int(re.search(r'\\d+', label.get_text()).group())+1)\n",
    "    for label in axs[1].get_xticklabels()\n",
    "])\n",
    "axs[1].set_xlabel(\"\")\n",
    "axs[1].set_title(\"Por split\")\n",
    "title = fig.suptitle(f\"$F1-score$ en conjunto de testeo en validación cruzada\", y=1.08)\n",
    "lgd = plt.legend(loc=\"lower center\", bbox_to_anchor=(-0.1, -0.3), ncol=3)\n",
    "\n",
    "FOLDER = os.path.join(VISUALIZATIONS_PATH, \"parameters_selection\")\n",
    "os.makedirs(FOLDER, exist_ok=True)\n",
    "out_file = os.path.join(FOLDER, f\"f1_by_split.png\")\n",
    "fig.savefig(\n",
    "    out_file, bbox_extra_artists=[lgd,title], bbox_inches='tight'\n",
    ")"
   ]
  },
  {
   "cell_type": "markdown",
   "metadata": {},
   "source": [
    "## Reajuste"
   ]
  },
  {
   "cell_type": "code",
   "execution_count": 44,
   "metadata": {},
   "outputs": [],
   "source": [
    "model = gs.best_estimator_.fit(X_train, y_train)"
   ]
  },
  {
   "cell_type": "code",
   "execution_count": 45,
   "metadata": {},
   "outputs": [],
   "source": [
    "MODEL = os.path.join(MODELS_PATH, \"model\")\n",
    "os.makedirs(MODEL, exist_ok=True)\n",
    "\n",
    "FILE = os.path.join(MODEL, \"best_model.joblib\")\n",
    "_ = joblib.dump(model, FILE, compress=True)"
   ]
  },
  {
   "cell_type": "markdown",
   "metadata": {},
   "source": [
    "## Evaluación"
   ]
  },
  {
   "cell_type": "code",
   "execution_count": 51,
   "metadata": {},
   "outputs": [],
   "source": [
    "predictions = dict()\n",
    "\n",
    "for method in [\"predict\", \"predict_proba\", \"predict_log_proba\"]:\n",
    "    if hasattr(model, method):\n",
    "        key = method.replace(\"predict_\", \"\").strip()\n",
    "        predictions.update(\n",
    "            {f\"y_hat_{key}\": getattr(model, method)(X_test).tolist()}\n",
    "        )"
   ]
  },
  {
   "cell_type": "code",
   "execution_count": 53,
   "metadata": {},
   "outputs": [],
   "source": [
    "import json\n",
    "\n",
    "with open(os.path.join(MODEL, \"predictions.json\"), \"w\") as f:\n",
    "    json.dump(predictions, f, ensure_ascii=False, indent=4)\n"
   ]
  },
  {
   "cell_type": "markdown",
   "metadata": {},
   "source": [
    "## Reportes"
   ]
  },
  {
   "cell_type": "code",
   "execution_count": 57,
   "metadata": {},
   "outputs": [
    {
     "name": "stdout",
     "output_type": "stream",
     "text": [
      "              precision    recall  f1-score   support\n",
      "\n",
      "           0       0.80      0.67      0.73        18\n",
      "           1       0.76      0.86      0.81        22\n",
      "\n",
      "    accuracy                           0.78        40\n",
      "   macro avg       0.78      0.77      0.77        40\n",
      "weighted avg       0.78      0.78      0.77        40\n",
      "\n"
     ]
    }
   ],
   "source": [
    "print(classification_report(y_test, predictions[\"y_hat_predict\"]))"
   ]
  },
  {
   "cell_type": "code",
   "execution_count": null,
   "metadata": {},
   "outputs": [],
   "source": [
    "classification_report(y_test, predictions[\"y_hat_predict\"], output_dict=True)"
   ]
  },
  {
   "cell_type": "markdown",
   "metadata": {},
   "source": [
    "## Visualizaciones"
   ]
  },
  {
   "cell_type": "code",
   "execution_count": 89,
   "metadata": {},
   "outputs": [
    {
     "data": {
      "text/plain": [
       "[(1.0, 0.4980392156862745, 0.054901960784313725),\n",
       " (0.12156862745098039, 0.4666666666666667, 0.7058823529411765)]"
      ]
     },
     "execution_count": 89,
     "metadata": {},
     "output_type": "execute_result"
    }
   ],
   "source": [
    "colors = sns.color_palette()[:2][::-1]\n",
    "colors"
   ]
  },
  {
   "cell_type": "code",
   "execution_count": 90,
   "metadata": {},
   "outputs": [],
   "source": [
    "import matplotlib\n",
    "\n",
    "cmap = matplotlib.colors.LinearSegmentedColormap.from_list(\"\", colors)"
   ]
  },
  {
   "cell_type": "code",
   "execution_count": 91,
   "metadata": {},
   "outputs": [],
   "source": [
    "def plot_confusion_matrix(cm, title):\n",
    "    fig, ax = plt.subplots(figsize=(10,7))\n",
    "    vmin, vmax = 0, int(cm.sum()/2)\n",
    "    ticks = list(range(vmin, vmax+1, 2))\n",
    "    sns.heatmap(\n",
    "        cm, annot=True, cmap=cmap, alpha=.7, ax=ax,\n",
    "        vmin=vmin, vmax=vmax,\n",
    "        annot_kws={\"color\":\"black\", \"size\": 12},\n",
    "        cbar_kws={\"ticks\": ticks},\n",
    "        xticklabels=[\"En contra\", \"A favor\"], yticklabels=[\"En contra\", \"A favor\"]\n",
    "    )\n",
    "    ax.set_title(title)\n",
    "    ax.set_xlabel(\"Valores predichos\")\n",
    "    ax.set_ylabel(\"Valores esperados\")\n",
    "    plt.show()"
   ]
  },
  {
   "cell_type": "code",
   "execution_count": 92,
   "metadata": {},
   "outputs": [
    {
     "data": {
      "image/png": "[encoded data removed]",
      "text/plain": [
       "<Figure size 1000x700 with 2 Axes>"
      ]
     },
     "metadata": {},
     "output_type": "display_data"
    }
   ],
   "source": [
    "cm = confusion_matrix(y_test, predictions[\"y_hat_predict\"])\n",
    "plot_confusion_matrix(cm, title=\"Regresión Logística\")"
   ]
  },
  {
   "cell_type": "code",
   "execution_count": null,
   "metadata": {},
   "outputs": [],
   "source": []
  }
 ],
 "metadata": {
  "kernelspec": {
   "display_name": "eddc-tp",
   "language": "python",
   "name": "python3"
  },
  "language_info": {
   "codemirror_mode": {
    "name": "ipython",
    "version": 3
   },
   "file_extension": ".py",
   "mimetype": "text/x-python",
   "name": "python",
   "nbconvert_exporter": "python",
   "pygments_lexer": "ipython3",
   "version": "3.11.4"
  }
 },
 "nbformat": 4,
 "nbformat_minor": 2
}
