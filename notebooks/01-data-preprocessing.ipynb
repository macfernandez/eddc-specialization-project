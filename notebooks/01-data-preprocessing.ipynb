{
 "cells": [
  {
   "attachments": {},
   "cell_type": "markdown",
   "metadata": {},
   "source": [
    "# Session attendees exploration"
   ]
  },
  {
   "attachments": {},
   "cell_type": "markdown",
   "metadata": {},
   "source": [
    "Notebook for merging two datasets:\n",
    "\n",
    "- [../data/session_29-12-2020_attendees.csv](../data/session_29-12-2020_attendees.csv): dataset with the list of attendees to the session (including not only senators but also the session's president and secretaires). This dataset was manually enhanced with the senators vote decission.\n",
    "- [../data/senators_data.csv](../data/senators_data.csv): dataset downloaded form the [Senate webpage](https://www.senado.gob.ar/), with information about the senators (their labor period, their party, etc)."
   ]
  },
  {
   "cell_type": "code",
   "execution_count": 5,
   "metadata": {},
   "outputs": [],
   "source": [
    "import os\n",
    "import pandas as pd\n",
    "\n",
    "from utilities import preprocess_name"
   ]
  },
  {
   "cell_type": "code",
   "execution_count": 6,
   "metadata": {},
   "outputs": [],
   "source": [
    "here = os.getcwd()\n",
    "project_path = os.path.dirname(here)\n",
    "data_path = os.path.join(project_path, \"data\")"
   ]
  },
  {
   "cell_type": "code",
   "execution_count": 7,
   "metadata": {},
   "outputs": [
    {
     "data": {
      "text/html": [
       "<div>\n",
       "<style scoped>\n",
       "    .dataframe tbody tr th:only-of-type {\n",
       "        vertical-align: middle;\n",
       "    }\n",
       "\n",
       "    .dataframe tbody tr th {\n",
       "        vertical-align: top;\n",
       "    }\n",
       "\n",
       "    .dataframe thead th {\n",
       "        text-align: right;\n",
       "    }\n",
       "</style>\n",
       "<table border=\"1\" class=\"dataframe\">\n",
       "  <thead>\n",
       "    <tr style=\"text-align: right;\">\n",
       "      <th></th>\n",
       "      <th>role</th>\n",
       "      <th>name</th>\n",
       "    </tr>\n",
       "  </thead>\n",
       "  <tbody>\n",
       "    <tr>\n",
       "      <th>0</th>\n",
       "      <td>PRESIDENTA</td>\n",
       "      <td>Cristina Fernandez De Kirchner</td>\n",
       "    </tr>\n",
       "    <tr>\n",
       "      <th>1</th>\n",
       "      <td>PRESIDENTA PROVISIONAL</td>\n",
       "      <td>Claudia Ledesma Abdala</td>\n",
       "    </tr>\n",
       "  </tbody>\n",
       "</table>\n",
       "</div>"
      ],
      "text/plain": [
       "                     role                            name\n",
       "0              PRESIDENTA  Cristina Fernandez De Kirchner\n",
       "1  PRESIDENTA PROVISIONAL          Claudia Ledesma Abdala"
      ]
     },
     "execution_count": 7,
     "metadata": {},
     "output_type": "execute_result"
    }
   ],
   "source": [
    "session_attendees_path = os.path.join(data_path, \"session_29-12-2020_attendees.csv\")\n",
    "session_attendees = pd.read_csv(\n",
    "    session_attendees_path, sep=\"|\", names=[\"role\", \"name\"]\n",
    "    )\n",
    "session_attendees.head(2)"
   ]
  },
  {
   "cell_type": "code",
   "execution_count": 8,
   "metadata": {},
   "outputs": [
    {
     "data": {
      "text/html": [
       "<div>\n",
       "<style scoped>\n",
       "    .dataframe tbody tr th:only-of-type {\n",
       "        vertical-align: middle;\n",
       "    }\n",
       "\n",
       "    .dataframe tbody tr th {\n",
       "        vertical-align: top;\n",
       "    }\n",
       "\n",
       "    .dataframe thead th {\n",
       "        text-align: right;\n",
       "    }\n",
       "</style>\n",
       "<table border=\"1\" class=\"dataframe\">\n",
       "  <thead>\n",
       "    <tr style=\"text-align: right;\">\n",
       "      <th></th>\n",
       "      <th>name</th>\n",
       "      <th>vote</th>\n",
       "    </tr>\n",
       "  </thead>\n",
       "  <tbody>\n",
       "    <tr>\n",
       "      <th>0</th>\n",
       "      <td>Ana Claudia Almirón</td>\n",
       "      <td>positivo</td>\n",
       "    </tr>\n",
       "    <tr>\n",
       "      <th>1</th>\n",
       "      <td>Roberto Gustavo Basualdo</td>\n",
       "      <td>negativo</td>\n",
       "    </tr>\n",
       "  </tbody>\n",
       "</table>\n",
       "</div>"
      ],
      "text/plain": [
       "                       name      vote\n",
       "0       Ana Claudia Almirón  positivo\n",
       "1  Roberto Gustavo Basualdo  negativo"
      ]
     },
     "execution_count": 8,
     "metadata": {},
     "output_type": "execute_result"
    }
   ],
   "source": [
    "session_votes_path = os.path.join(data_path, \"session_29-12-2020_votes.csv\")\n",
    "session_votes = pd.read_csv(session_votes_path, sep=\",\")\n",
    "session_votes.head(2)"
   ]
  },
  {
   "cell_type": "code",
   "execution_count": 9,
   "metadata": {},
   "outputs": [
    {
     "data": {
      "text/plain": [
       "(82, 2)"
      ]
     },
     "execution_count": 9,
     "metadata": {},
     "output_type": "execute_result"
    }
   ],
   "source": [
    "session_attendees.shape"
   ]
  },
  {
   "cell_type": "code",
   "execution_count": 10,
   "metadata": {},
   "outputs": [
    {
     "data": {
      "text/plain": [
       "(82, 3)"
      ]
     },
     "execution_count": 10,
     "metadata": {},
     "output_type": "execute_result"
    }
   ],
   "source": [
    "session_attendees = session_attendees.merge(session_votes, how=\"left\", on=\"name\")\n",
    "session_attendees.shape"
   ]
  },
  {
   "cell_type": "code",
   "execution_count": 11,
   "metadata": {},
   "outputs": [
    {
     "data": {
      "text/html": [
       "<div>\n",
       "<style scoped>\n",
       "    .dataframe tbody tr th:only-of-type {\n",
       "        vertical-align: middle;\n",
       "    }\n",
       "\n",
       "    .dataframe tbody tr th {\n",
       "        vertical-align: top;\n",
       "    }\n",
       "\n",
       "    .dataframe thead th {\n",
       "        text-align: right;\n",
       "    }\n",
       "</style>\n",
       "<table border=\"1\" class=\"dataframe\">\n",
       "  <thead>\n",
       "    <tr style=\"text-align: right;\">\n",
       "      <th></th>\n",
       "      <th>Senador</th>\n",
       "      <th>Nº de Orden</th>\n",
       "      <th>Período Legal</th>\n",
       "      <th>Período Real</th>\n",
       "      <th>Provincia</th>\n",
       "      <th>Partido Político o alianza</th>\n",
       "      <th>Reemplazo</th>\n",
       "      <th>Observaciones</th>\n",
       "    </tr>\n",
       "  </thead>\n",
       "  <tbody>\n",
       "    <tr>\n",
       "      <th>0</th>\n",
       "      <td>VEGA MARÍA CLARA DEL VALLE</td>\n",
       "      <td>514</td>\n",
       "      <td>20-12-2019 al 09-12-2023</td>\n",
       "      <td>20-12-2019 al Sin Fecha</td>\n",
       "      <td>LA RIOJA</td>\n",
       "      <td>CAMBIEMOS FUERZA CÍVICA RIOJANA</td>\n",
       "      <td>BRIZUELA Y DORIA DE CARA OLGA INES</td>\n",
       "      <td>COMPLETA PERIODO DE SENADORA OLGA I. BRIZUELA ...</td>\n",
       "    </tr>\n",
       "    <tr>\n",
       "      <th>1</th>\n",
       "      <td>MONTENEGRO GERARDO ANTENOR</td>\n",
       "      <td>446</td>\n",
       "      <td>10-12-2019 al 09-12-2025</td>\n",
       "      <td>10-12-2019 al Sin Fecha</td>\n",
       "      <td>SANTIAGO DEL ESTERO</td>\n",
       "      <td>FRENTE DE TODOS</td>\n",
       "      <td>MONTENEGRO GERARDO ANTENOR</td>\n",
       "      <td>Sin Observaciones</td>\n",
       "    </tr>\n",
       "  </tbody>\n",
       "</table>\n",
       "</div>"
      ],
      "text/plain": [
       "                      Senador  Nº de Orden             Período Legal  \\\n",
       "0  VEGA MARÍA CLARA DEL VALLE          514  20-12-2019 al 09-12-2023   \n",
       "1  MONTENEGRO GERARDO ANTENOR          446  10-12-2019 al 09-12-2025   \n",
       "\n",
       "              Período Real            Provincia  \\\n",
       "0  20-12-2019 al Sin Fecha             LA RIOJA   \n",
       "1  10-12-2019 al Sin Fecha  SANTIAGO DEL ESTERO   \n",
       "\n",
       "        Partido Político o alianza                           Reemplazo  \\\n",
       "0  CAMBIEMOS FUERZA CÍVICA RIOJANA  BRIZUELA Y DORIA DE CARA OLGA INES   \n",
       "1                  FRENTE DE TODOS          MONTENEGRO GERARDO ANTENOR   \n",
       "\n",
       "                                       Observaciones  \n",
       "0  COMPLETA PERIODO DE SENADORA OLGA I. BRIZUELA ...  \n",
       "1                                  Sin Observaciones  "
      ]
     },
     "execution_count": 11,
     "metadata": {},
     "output_type": "execute_result"
    }
   ],
   "source": [
    "senators_data_path = os.path.join(data_path, \"senators_data.csv\")\n",
    "senators_data = pd.read_csv(senators_data_path,)\n",
    "senators_data.head(2)"
   ]
  },
  {
   "cell_type": "code",
   "execution_count": 12,
   "metadata": {},
   "outputs": [
    {
     "data": {
      "text/plain": [
       "(72, 8)"
      ]
     },
     "execution_count": 12,
     "metadata": {},
     "output_type": "execute_result"
    }
   ],
   "source": [
    "senators_data.shape"
   ]
  },
  {
   "cell_type": "code",
   "execution_count": 13,
   "metadata": {},
   "outputs": [],
   "source": [
    "session_attendees[\"prep_name\"] = session_attendees.name.apply(preprocess_name)\n",
    "senators_data[\"prep_senador\"] = senators_data.Senador.apply(preprocess_name) "
   ]
  },
  {
   "cell_type": "code",
   "execution_count": 14,
   "metadata": {},
   "outputs": [
    {
     "data": {
      "text/html": [
       "<div>\n",
       "<style scoped>\n",
       "    .dataframe tbody tr th:only-of-type {\n",
       "        vertical-align: middle;\n",
       "    }\n",
       "\n",
       "    .dataframe tbody tr th {\n",
       "        vertical-align: top;\n",
       "    }\n",
       "\n",
       "    .dataframe thead th {\n",
       "        text-align: right;\n",
       "    }\n",
       "</style>\n",
       "<table border=\"1\" class=\"dataframe\">\n",
       "  <thead>\n",
       "    <tr style=\"text-align: right;\">\n",
       "      <th></th>\n",
       "      <th>prep_name</th>\n",
       "      <th>name</th>\n",
       "    </tr>\n",
       "  </thead>\n",
       "  <tbody>\n",
       "    <tr>\n",
       "      <th>0</th>\n",
       "      <td>cristina de fernandez kirchner</td>\n",
       "      <td>Cristina Fernandez De Kirchner</td>\n",
       "    </tr>\n",
       "    <tr>\n",
       "      <th>1</th>\n",
       "      <td>abdala claudia ledesma</td>\n",
       "      <td>Claudia Ledesma Abdala</td>\n",
       "    </tr>\n",
       "    <tr>\n",
       "      <th>2</th>\n",
       "      <td>lousteau martin</td>\n",
       "      <td>Martín Lousteau</td>\n",
       "    </tr>\n",
       "    <tr>\n",
       "      <th>3</th>\n",
       "      <td>closs fabian maurice</td>\n",
       "      <td>Maurice Fabián Closs</td>\n",
       "    </tr>\n",
       "    <tr>\n",
       "      <th>4</th>\n",
       "      <td>elena laura machado rodriguez</td>\n",
       "      <td>Laura Elena Rodríguez Machado</td>\n",
       "    </tr>\n",
       "  </tbody>\n",
       "</table>\n",
       "</div>"
      ],
      "text/plain": [
       "                        prep_name                            name\n",
       "0  cristina de fernandez kirchner  Cristina Fernandez De Kirchner\n",
       "1          abdala claudia ledesma          Claudia Ledesma Abdala\n",
       "2                 lousteau martin                 Martín Lousteau\n",
       "3            closs fabian maurice            Maurice Fabián Closs\n",
       "4   elena laura machado rodriguez   Laura Elena Rodríguez Machado"
      ]
     },
     "execution_count": 14,
     "metadata": {},
     "output_type": "execute_result"
    }
   ],
   "source": [
    "session_attendees[[\"prep_name\", \"name\"]].head()"
   ]
  },
  {
   "cell_type": "code",
   "execution_count": 15,
   "metadata": {},
   "outputs": [
    {
     "data": {
      "text/html": [
       "<div>\n",
       "<style scoped>\n",
       "    .dataframe tbody tr th:only-of-type {\n",
       "        vertical-align: middle;\n",
       "    }\n",
       "\n",
       "    .dataframe tbody tr th {\n",
       "        vertical-align: top;\n",
       "    }\n",
       "\n",
       "    .dataframe thead th {\n",
       "        text-align: right;\n",
       "    }\n",
       "</style>\n",
       "<table border=\"1\" class=\"dataframe\">\n",
       "  <thead>\n",
       "    <tr style=\"text-align: right;\">\n",
       "      <th></th>\n",
       "      <th>prep_senador</th>\n",
       "      <th>Senador</th>\n",
       "    </tr>\n",
       "  </thead>\n",
       "  <tbody>\n",
       "    <tr>\n",
       "      <th>0</th>\n",
       "      <td>clara del maria valle vega</td>\n",
       "      <td>VEGA MARÍA CLARA DEL VALLE</td>\n",
       "    </tr>\n",
       "    <tr>\n",
       "      <th>1</th>\n",
       "      <td>antenor gerardo montenegro</td>\n",
       "      <td>MONTENEGRO GERARDO ANTENOR</td>\n",
       "    </tr>\n",
       "    <tr>\n",
       "      <th>2</th>\n",
       "      <td>dario edgardo kueider</td>\n",
       "      <td>KUEIDER EDGARDO DARÍO</td>\n",
       "    </tr>\n",
       "    <tr>\n",
       "      <th>3</th>\n",
       "      <td>maris olalla stella</td>\n",
       "      <td>OLALLA STELLA MARIS</td>\n",
       "    </tr>\n",
       "    <tr>\n",
       "      <th>4</th>\n",
       "      <td>estela sapag silvia</td>\n",
       "      <td>SAPAG SILVIA ESTELA</td>\n",
       "    </tr>\n",
       "  </tbody>\n",
       "</table>\n",
       "</div>"
      ],
      "text/plain": [
       "                 prep_senador                     Senador\n",
       "0  clara del maria valle vega  VEGA MARÍA CLARA DEL VALLE\n",
       "1  antenor gerardo montenegro  MONTENEGRO GERARDO ANTENOR\n",
       "2       dario edgardo kueider       KUEIDER EDGARDO DARÍO\n",
       "3         maris olalla stella         OLALLA STELLA MARIS\n",
       "4         estela sapag silvia         SAPAG SILVIA ESTELA"
      ]
     },
     "execution_count": 15,
     "metadata": {},
     "output_type": "execute_result"
    }
   ],
   "source": [
    "senators_data[[\"prep_senador\", \"Senador\"]].head()"
   ]
  },
  {
   "cell_type": "code",
   "execution_count": 16,
   "metadata": {},
   "outputs": [],
   "source": [
    "names_mapping = (\n",
    "    senators_data[[\"prep_senador\",\"Senador\"]]\n",
    "    .set_index(\"prep_senador\")\n",
    "    .to_dict(\"index\")\n",
    ")"
   ]
  },
  {
   "cell_type": "code",
   "execution_count": 17,
   "metadata": {},
   "outputs": [],
   "source": [
    "def map_name(name: str, mapping: dict=names_mapping) -> str:\n",
    "    canon = list()\n",
    "    name_set = set(name.split())\n",
    "    for key, value in mapping.items():\n",
    "        key_set = set(key.split())\n",
    "        if name_set.issubset(key_set) or key_set.issubset(name_set):\n",
    "            canon.append(value[\"Senador\"])\n",
    "    return canon"
   ]
  },
  {
   "cell_type": "code",
   "execution_count": 18,
   "metadata": {},
   "outputs": [],
   "source": [
    "def postprocess_name(name: list):\n",
    "    if name:\n",
    "        assert len(name)==1, f\"{name} with several matches.\"\n",
    "        return \" \".join(name)\n",
    "    else:\n",
    "        return None"
   ]
  },
  {
   "cell_type": "code",
   "execution_count": 19,
   "metadata": {},
   "outputs": [
    {
     "data": {
      "text/html": [
       "<div>\n",
       "<style scoped>\n",
       "    .dataframe tbody tr th:only-of-type {\n",
       "        vertical-align: middle;\n",
       "    }\n",
       "\n",
       "    .dataframe tbody tr th {\n",
       "        vertical-align: top;\n",
       "    }\n",
       "\n",
       "    .dataframe thead th {\n",
       "        text-align: right;\n",
       "    }\n",
       "</style>\n",
       "<table border=\"1\" class=\"dataframe\">\n",
       "  <thead>\n",
       "    <tr style=\"text-align: right;\">\n",
       "      <th></th>\n",
       "      <th>role</th>\n",
       "      <th>name</th>\n",
       "      <th>vote</th>\n",
       "      <th>prep_name</th>\n",
       "      <th>senador</th>\n",
       "    </tr>\n",
       "  </thead>\n",
       "  <tbody>\n",
       "    <tr>\n",
       "      <th>0</th>\n",
       "      <td>PRESIDENTA</td>\n",
       "      <td>Cristina Fernandez De Kirchner</td>\n",
       "      <td>NaN</td>\n",
       "      <td>cristina de fernandez kirchner</td>\n",
       "      <td>None</td>\n",
       "    </tr>\n",
       "    <tr>\n",
       "      <th>1</th>\n",
       "      <td>PRESIDENTA PROVISIONAL</td>\n",
       "      <td>Claudia Ledesma Abdala</td>\n",
       "      <td>negativo</td>\n",
       "      <td>abdala claudia ledesma</td>\n",
       "      <td>LEDESMA ABDALA DE ZAMORA CLAUDIA</td>\n",
       "    </tr>\n",
       "  </tbody>\n",
       "</table>\n",
       "</div>"
      ],
      "text/plain": [
       "                     role                            name      vote  \\\n",
       "0              PRESIDENTA  Cristina Fernandez De Kirchner       NaN   \n",
       "1  PRESIDENTA PROVISIONAL          Claudia Ledesma Abdala  negativo   \n",
       "\n",
       "                        prep_name                           senador  \n",
       "0  cristina de fernandez kirchner                              None  \n",
       "1          abdala claudia ledesma  LEDESMA ABDALA DE ZAMORA CLAUDIA  "
      ]
     },
     "execution_count": 19,
     "metadata": {},
     "output_type": "execute_result"
    }
   ],
   "source": [
    "session_attendees[\"senador\"] = session_attendees.prep_name.apply(map_name)\n",
    "session_attendees[\"senador\"] = session_attendees.senador.apply(postprocess_name)\n",
    "session_attendees.head(2)"
   ]
  },
  {
   "cell_type": "code",
   "execution_count": 20,
   "metadata": {},
   "outputs": [
    {
     "data": {
      "text/html": [
       "<div>\n",
       "<style scoped>\n",
       "    .dataframe tbody tr th:only-of-type {\n",
       "        vertical-align: middle;\n",
       "    }\n",
       "\n",
       "    .dataframe tbody tr th {\n",
       "        vertical-align: top;\n",
       "    }\n",
       "\n",
       "    .dataframe thead th {\n",
       "        text-align: right;\n",
       "    }\n",
       "</style>\n",
       "<table border=\"1\" class=\"dataframe\">\n",
       "  <thead>\n",
       "    <tr style=\"text-align: right;\">\n",
       "      <th></th>\n",
       "      <th>role</th>\n",
       "      <th>name</th>\n",
       "      <th>vote</th>\n",
       "      <th>Senador</th>\n",
       "      <th>Nº de Orden</th>\n",
       "      <th>Período Legal</th>\n",
       "      <th>Período Real</th>\n",
       "      <th>Provincia</th>\n",
       "      <th>Partido Político o alianza</th>\n",
       "      <th>Reemplazo</th>\n",
       "      <th>Observaciones</th>\n",
       "    </tr>\n",
       "  </thead>\n",
       "  <tbody>\n",
       "    <tr>\n",
       "      <th>0</th>\n",
       "      <td>PRESIDENTA</td>\n",
       "      <td>Cristina Fernandez De Kirchner</td>\n",
       "      <td>NaN</td>\n",
       "      <td>NaN</td>\n",
       "      <td>NaN</td>\n",
       "      <td>NaN</td>\n",
       "      <td>NaN</td>\n",
       "      <td>NaN</td>\n",
       "      <td>NaN</td>\n",
       "      <td>NaN</td>\n",
       "      <td>NaN</td>\n",
       "    </tr>\n",
       "    <tr>\n",
       "      <th>1</th>\n",
       "      <td>PRESIDENTA PROVISIONAL</td>\n",
       "      <td>Claudia Ledesma Abdala</td>\n",
       "      <td>negativo</td>\n",
       "      <td>LEDESMA ABDALA DE ZAMORA CLAUDIA</td>\n",
       "      <td>509.0</td>\n",
       "      <td>10-12-2019 al 09-12-2025</td>\n",
       "      <td>10-12-2019 al Sin Fecha</td>\n",
       "      <td>SANTIAGO DEL ESTERO</td>\n",
       "      <td>FRENTE CÍVICO POR SANTIAGO</td>\n",
       "      <td>ZAMORA GERARDO</td>\n",
       "      <td>Sin Observaciones</td>\n",
       "    </tr>\n",
       "  </tbody>\n",
       "</table>\n",
       "</div>"
      ],
      "text/plain": [
       "                     role                            name      vote  \\\n",
       "0              PRESIDENTA  Cristina Fernandez De Kirchner       NaN   \n",
       "1  PRESIDENTA PROVISIONAL          Claudia Ledesma Abdala  negativo   \n",
       "\n",
       "                            Senador  Nº de Orden             Período Legal  \\\n",
       "0                               NaN          NaN                       NaN   \n",
       "1  LEDESMA ABDALA DE ZAMORA CLAUDIA        509.0  10-12-2019 al 09-12-2025   \n",
       "\n",
       "              Período Real            Provincia  Partido Político o alianza  \\\n",
       "0                      NaN                  NaN                         NaN   \n",
       "1  10-12-2019 al Sin Fecha  SANTIAGO DEL ESTERO  FRENTE CÍVICO POR SANTIAGO   \n",
       "\n",
       "        Reemplazo      Observaciones  \n",
       "0             NaN                NaN  \n",
       "1  ZAMORA GERARDO  Sin Observaciones  "
      ]
     },
     "execution_count": 20,
     "metadata": {},
     "output_type": "execute_result"
    }
   ],
   "source": [
    "session_attendees = (\n",
    "    session_attendees\n",
    "    .merge(\n",
    "        senators_data,\n",
    "        how= \"left\",\n",
    "        left_on = \"senador\",\n",
    "        right_on = \"Senador\"\n",
    "    )\n",
    "    .drop(columns=[\"prep_name\", \"prep_senador\", \"senador\"])\n",
    ")\n",
    "session_attendees.head(2)"
   ]
  },
  {
   "cell_type": "code",
   "execution_count": 21,
   "metadata": {},
   "outputs": [],
   "source": [
    "session_attendees = (\n",
    "    session_attendees.loc[\n",
    "        session_attendees.role==\"PRESENTES\",\n",
    "        [\"name\", \"vote\", \"Senador\", \"Provincia\", \"Partido Político o alianza\"]\n",
    "    ]\n",
    "    .rename(columns={\n",
    "        \"Senador\": \"senator\",\n",
    "        \"Provincia\": \"province\",\n",
    "        \"Partido Político o alianza\": \"party\"\n",
    "    })\n",
    ")"
   ]
  },
  {
   "cell_type": "code",
   "execution_count": 22,
   "metadata": {},
   "outputs": [],
   "source": [
    "session_senators_path = session_attendees_path.replace(\"_attendees.csv\", \"_senators.csv\")\n",
    "session_attendees.to_csv(session_senators_path, index=False)"
   ]
  }
 ],
 "metadata": {
  "kernelspec": {
   "display_name": "venv",
   "language": "python",
   "name": "python3"
  },
  "language_info": {
   "codemirror_mode": {
    "name": "ipython",
    "version": 3
   },
   "file_extension": ".py",
   "mimetype": "text/x-python",
   "name": "python",
   "nbconvert_exporter": "python",
   "pygments_lexer": "ipython3",
   "version": "3.11.4"
  },
  "orig_nbformat": 4
 },
 "nbformat": 4,
 "nbformat_minor": 2
}
