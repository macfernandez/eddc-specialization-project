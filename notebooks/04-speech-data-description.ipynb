{
 "cells": [
  {
   "cell_type": "code",
   "execution_count": 30,
   "metadata": {},
   "outputs": [],
   "source": [
    "import json\n",
    "import os\n",
    "\n",
    "import pandas as pd\n",
    "\n",
    "from config import DATA_PATH, VISUALIZATIONS_PATH\n",
    "from utilities import SPACY_MODEL, preprocess_text"
   ]
  },
  {
   "cell_type": "code",
   "execution_count": 53,
   "metadata": {},
   "outputs": [
    {
     "data": {
      "text/html": [
       "<div>\n",
       "<style scoped>\n",
       "    .dataframe tbody tr th:only-of-type {\n",
       "        vertical-align: middle;\n",
       "    }\n",
       "\n",
       "    .dataframe tbody tr th {\n",
       "        vertical-align: top;\n",
       "    }\n",
       "\n",
       "    .dataframe thead th {\n",
       "        text-align: right;\n",
       "    }\n",
       "</style>\n",
       "<table border=\"1\" class=\"dataframe\">\n",
       "  <thead>\n",
       "    <tr style=\"text-align: right;\">\n",
       "      <th></th>\n",
       "      <th>name</th>\n",
       "      <th>vote</th>\n",
       "      <th>senator</th>\n",
       "      <th>province</th>\n",
       "      <th>party</th>\n",
       "      <th>party_family</th>\n",
       "      <th>speaker</th>\n",
       "      <th>speech</th>\n",
       "    </tr>\n",
       "  </thead>\n",
       "  <tbody>\n",
       "    <tr>\n",
       "      <th>0</th>\n",
       "      <td>Ana Claudia Almirón</td>\n",
       "      <td>positivo</td>\n",
       "      <td>ALMIRÓN ANA CLAUDIA</td>\n",
       "      <td>CORRIENTES</td>\n",
       "      <td>ALIANZA FRENTE PARA LA VICTORIA</td>\n",
       "      <td>Frente para la victoria</td>\n",
       "      <td>Almirón</td>\n",
       "      <td>[Hace dos años, tuvimos una sesión histórica c...</td>\n",
       "    </tr>\n",
       "    <tr>\n",
       "      <th>1</th>\n",
       "      <td>Roberto Gustavo Basualdo</td>\n",
       "      <td>negativo</td>\n",
       "      <td>BASUALDO ROBERTO GUSTAVO</td>\n",
       "      <td>SAN JUAN</td>\n",
       "      <td>ALIANZA CAMBIEMOS SAN JUAN</td>\n",
       "      <td>Juntos por el cambio</td>\n",
       "      <td>Basualdo</td>\n",
       "      <td>[Gracias, señor presidente. Hoy es un día en e...</td>\n",
       "    </tr>\n",
       "  </tbody>\n",
       "</table>\n",
       "</div>"
      ],
      "text/plain": [
       "                       name      vote                   senator    province  \\\n",
       "0       Ana Claudia Almirón  positivo       ALMIRÓN ANA CLAUDIA  CORRIENTES   \n",
       "1  Roberto Gustavo Basualdo  negativo  BASUALDO ROBERTO GUSTAVO    SAN JUAN   \n",
       "\n",
       "                             party             party_family   speaker  \\\n",
       "0  ALIANZA FRENTE PARA LA VICTORIA  Frente para la victoria   Almirón   \n",
       "1       ALIANZA CAMBIEMOS SAN JUAN     Juntos por el cambio  Basualdo   \n",
       "\n",
       "                                              speech  \n",
       "0  [Hace dos años, tuvimos una sesión histórica c...  \n",
       "1  [Gracias, señor presidente. Hoy es un día en e...  "
      ]
     },
     "execution_count": 53,
     "metadata": {},
     "output_type": "execute_result"
    }
   ],
   "source": [
    "session_speech = pd.read_csv(\n",
    "    os.path.join(DATA_PATH, \"session_speech_speaker_info.csv\"),\n",
    "    converters={\"speech\": eval},\n",
    "    )\n",
    "session_speech.head(2)"
   ]
  },
  {
   "cell_type": "code",
   "execution_count": 55,
   "metadata": {},
   "outputs": [
    {
     "data": {
      "text/html": [
       "<div>\n",
       "<style scoped>\n",
       "    .dataframe tbody tr th:only-of-type {\n",
       "        vertical-align: middle;\n",
       "    }\n",
       "\n",
       "    .dataframe tbody tr th {\n",
       "        vertical-align: top;\n",
       "    }\n",
       "\n",
       "    .dataframe thead th {\n",
       "        text-align: right;\n",
       "    }\n",
       "</style>\n",
       "<table border=\"1\" class=\"dataframe\">\n",
       "  <thead>\n",
       "    <tr style=\"text-align: right;\">\n",
       "      <th></th>\n",
       "      <th>name</th>\n",
       "      <th>vote</th>\n",
       "      <th>senator</th>\n",
       "      <th>province</th>\n",
       "      <th>party</th>\n",
       "      <th>party_family</th>\n",
       "      <th>speaker</th>\n",
       "      <th>speech</th>\n",
       "    </tr>\n",
       "  </thead>\n",
       "  <tbody>\n",
       "    <tr>\n",
       "      <th>0</th>\n",
       "      <td>Ana Claudia Almirón</td>\n",
       "      <td>positivo</td>\n",
       "      <td>ALMIRÓN ANA CLAUDIA</td>\n",
       "      <td>CORRIENTES</td>\n",
       "      <td>ALIANZA FRENTE PARA LA VICTORIA</td>\n",
       "      <td>Frente para la victoria</td>\n",
       "      <td>Almirón</td>\n",
       "      <td>Hace dos años, tuvimos una sesión histórica cu...</td>\n",
       "    </tr>\n",
       "    <tr>\n",
       "      <th>1</th>\n",
       "      <td>Roberto Gustavo Basualdo</td>\n",
       "      <td>negativo</td>\n",
       "      <td>BASUALDO ROBERTO GUSTAVO</td>\n",
       "      <td>SAN JUAN</td>\n",
       "      <td>ALIANZA CAMBIEMOS SAN JUAN</td>\n",
       "      <td>Juntos por el cambio</td>\n",
       "      <td>Basualdo</td>\n",
       "      <td>Gracias, señor presidente. Hoy es un día en el...</td>\n",
       "    </tr>\n",
       "  </tbody>\n",
       "</table>\n",
       "</div>"
      ],
      "text/plain": [
       "                       name      vote                   senator    province  \\\n",
       "0       Ana Claudia Almirón  positivo       ALMIRÓN ANA CLAUDIA  CORRIENTES   \n",
       "1  Roberto Gustavo Basualdo  negativo  BASUALDO ROBERTO GUSTAVO    SAN JUAN   \n",
       "\n",
       "                             party             party_family   speaker  \\\n",
       "0  ALIANZA FRENTE PARA LA VICTORIA  Frente para la victoria   Almirón   \n",
       "1       ALIANZA CAMBIEMOS SAN JUAN     Juntos por el cambio  Basualdo   \n",
       "\n",
       "                                              speech  \n",
       "0  Hace dos años, tuvimos una sesión histórica cu...  \n",
       "1  Gracias, señor presidente. Hoy es un día en el...  "
      ]
     },
     "execution_count": 55,
     "metadata": {},
     "output_type": "execute_result"
    }
   ],
   "source": [
    "session_speech = (\n",
    "    session_speech\n",
    "    .explode(\"speech\")\n",
    "    .dropna(subset=[\"speech\"], ignore_index=True)\n",
    ")\n",
    "session_speech.head(2)"
   ]
  },
  {
   "cell_type": "code",
   "execution_count": 56,
   "metadata": {},
   "outputs": [
    {
     "data": {
      "text/plain": [
       "{'VERB': {'lemma': 'ser', 'count': 1247}}"
      ]
     },
     "execution_count": 56,
     "metadata": {},
     "output_type": "execute_result"
    }
   ],
   "source": [
    "out_file = os.path.join(DATA_PATH, \"words2lemmas.json\")\n",
    "\n",
    "with open(out_file, \"r\") as f:\n",
    "    words2lemmas = json.load(f)\n",
    "\n",
    "words2lemmas[\"es\"]"
   ]
  },
  {
   "cell_type": "code",
   "execution_count": 63,
   "metadata": {},
   "outputs": [],
   "source": [
    "def select_lemma_and_pos(text: str) -> tuple[str, str]:\n",
    "    lemmatized_text, pos_text = \"\", \"\"\n",
    "    tokens = SPACY_MODEL(text)\n",
    "    for t in tokens:\n",
    "        token = preprocess_text(t.text)\n",
    "        lemmas = words2lemmas.get(token)\n",
    "        if lemmas is None:\n",
    "            continue\n",
    "        if len(lemmas) == 1:\n",
    "            lemma_value = list(lemmas.values())[0]\n",
    "            pos = list(lemmas.keys())[0]\n",
    "        else:\n",
    "            lemma_value = lemmas.get(t.pos_)\n",
    "            if lemma_value is None:\n",
    "                lemma_count = 0\n",
    "                for key, value in lemmas.items():\n",
    "                    if value[\"count\"] > lemma_count:\n",
    "                        lemma_count = value[\"count\"]\n",
    "                        pos = key\n",
    "                        lemma_value = value\n",
    "        lemma = lemma_value.get(\"lemma\")\n",
    "        if (lemma is None) or (pos is None):\n",
    "            raise Exception(\n",
    "                f\"Error while processing token {token} ({t.pos}), lemmas found {lemmas}\"\n",
    "            )\n",
    "        lemmatized_text += f\"{lemma} \"\n",
    "        pos_text += f\"{pos} \"\n",
    "    return lemmatized_text.strip(), pos_text.strip()"
   ]
  },
  {
   "cell_type": "code",
   "execution_count": 66,
   "metadata": {},
   "outputs": [
    {
     "data": {
      "text/html": [
       "<div>\n",
       "<style scoped>\n",
       "    .dataframe tbody tr th:only-of-type {\n",
       "        vertical-align: middle;\n",
       "    }\n",
       "\n",
       "    .dataframe tbody tr th {\n",
       "        vertical-align: top;\n",
       "    }\n",
       "\n",
       "    .dataframe thead th {\n",
       "        text-align: right;\n",
       "    }\n",
       "</style>\n",
       "<table border=\"1\" class=\"dataframe\">\n",
       "  <thead>\n",
       "    <tr style=\"text-align: right;\">\n",
       "      <th></th>\n",
       "      <th>speech</th>\n",
       "      <th>speech_lemmas</th>\n",
       "      <th>speech_pos</th>\n",
       "    </tr>\n",
       "  </thead>\n",
       "  <tbody>\n",
       "    <tr>\n",
       "      <th>0</th>\n",
       "      <td>Hace dos años, tuvimos una sesión histórica cu...</td>\n",
       "      <td>hacer año tener una sesión histórica cuando de...</td>\n",
       "      <td>VERB NOUN VERB DET NOUN ADJ SCONJ VERB ADP ADJ...</td>\n",
       "    </tr>\n",
       "    <tr>\n",
       "      <th>1</th>\n",
       "      <td>Gracias, señor presidente. Hoy es un día en el...</td>\n",
       "      <td>gracia señor presidente hoy ser un día en el q...</td>\n",
       "      <td>NOUN NOUN NOUN ADV VERB DET NOUN ADP DET SCONJ...</td>\n",
       "    </tr>\n",
       "  </tbody>\n",
       "</table>\n",
       "</div>"
      ],
      "text/plain": [
       "                                              speech  \\\n",
       "0  Hace dos años, tuvimos una sesión histórica cu...   \n",
       "1  Gracias, señor presidente. Hoy es un día en el...   \n",
       "\n",
       "                                       speech_lemmas  \\\n",
       "0  hacer año tener una sesión histórica cuando de...   \n",
       "1  gracia señor presidente hoy ser un día en el q...   \n",
       "\n",
       "                                          speech_pos  \n",
       "0  VERB NOUN VERB DET NOUN ADJ SCONJ VERB ADP ADJ...  \n",
       "1  NOUN NOUN NOUN ADV VERB DET NOUN ADP DET SCONJ...  "
      ]
     },
     "execution_count": 66,
     "metadata": {},
     "output_type": "execute_result"
    }
   ],
   "source": [
    "session_speech[\"speech_lemmas\"], session_speech[\"speech_pos\"] = (\n",
    "    zip(*session_speech.speech.apply(select_lemma_and_pos))\n",
    ")\n",
    "session_speech[[\"speech\", \"speech_lemmas\", \"speech_pos\"]].head(2)"
   ]
  },
  {
   "cell_type": "code",
   "execution_count": null,
   "metadata": {},
   "outputs": [],
   "source": []
  }
 ],
 "metadata": {
  "kernelspec": {
   "display_name": "eddc-tp",
   "language": "python",
   "name": "python3"
  },
  "language_info": {
   "codemirror_mode": {
    "name": "ipython",
    "version": 3
   },
   "file_extension": ".py",
   "mimetype": "text/x-python",
   "name": "python",
   "nbconvert_exporter": "python",
   "pygments_lexer": "ipython3",
   "version": "3.11.4"
  }
 },
 "nbformat": 4,
 "nbformat_minor": 2
}
