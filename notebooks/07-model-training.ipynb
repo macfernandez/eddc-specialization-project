{
 "cells": [
  {
   "cell_type": "markdown",
   "metadata": {},
   "source": [
    "# Entrenamiento de modelos"
   ]
  },
  {
   "cell_type": "code",
   "execution_count": 131,
   "metadata": {},
   "outputs": [],
   "source": [
    "import os\n",
    "import re\n",
    "from typing import Any\n",
    "\n",
    "import joblib\n",
    "import matplotlib.pyplot as plt\n",
    "import numpy as np\n",
    "import pandas as pd\n",
    "import seaborn as sns\n",
    "from sklearn.base import BaseEstimator\n",
    "from sklearn.feature_extraction.text import CountVectorizer, TfidfVectorizer\n",
    "from sklearn.linear_model import LogisticRegression\n",
    "from sklearn.model_selection import GridSearchCV\n",
    "from sklearn.naive_bayes import MultinomialNB\n",
    "from sklearn.svm import SVC\n",
    "\n",
    "from config import DATA_PATH, MODELS_PATH, VISUALIZATIONS_PATH"
   ]
  },
  {
   "cell_type": "markdown",
   "metadata": {},
   "source": [
    "## Carga de datos y vectorizadores"
   ]
  },
  {
   "cell_type": "code",
   "execution_count": 88,
   "metadata": {},
   "outputs": [],
   "source": [
    "data = pd.read_csv(os.path.join(DATA_PATH, \"session_speech.csv\"))\n",
    "\n",
    "INDEX = os.path.join(MODELS_PATH, \"index\")\n",
    "X_train_index = (\n",
    "    pd\n",
    "    .read_csv(os.path.join(INDEX, f\"X_train_index.csv\"), header=None, index_col=0)\n",
    "    .index\n",
    ")\n",
    "X_test_index = (\n",
    "    pd\n",
    "    .read_csv(os.path.join(INDEX, f\"X_test_index.csv\"), header=None, index_col=0)\n",
    "    .index\n",
    ")\n",
    "\n",
    "le = joblib.load(os.path.join(MODELS_PATH, \"labelencoder.pkl\"))\n",
    "\n",
    "VECTORIZERS = os.path.join(MODELS_PATH, \"vectorizers\")\n",
    "pos_vectorizer = joblib.load(os.path.join(VECTORIZERS, \"pos_vectorizer.pkl\"))\n",
    "proportions_vectorizer = joblib.load(os.path.join(VECTORIZERS, \"proportions_vectorizer.pkl\"))\n",
    "logodds_vectorizer = joblib.load(os.path.join(VECTORIZERS, \"logodds_vectorizer.pkl\"))"
   ]
  },
  {
   "cell_type": "code",
   "execution_count": 89,
   "metadata": {},
   "outputs": [],
   "source": [
    "data = (\n",
    "    data[(data.speech.notna()) & (~data.vote.isin([\"abstención\", \"ausente\"]))]\n",
    "    .reset_index(drop=True)\n",
    ")"
   ]
  },
  {
   "cell_type": "markdown",
   "metadata": {},
   "source": [
    "## Vectorización de datos"
   ]
  },
  {
   "cell_type": "code",
   "execution_count": 90,
   "metadata": {},
   "outputs": [],
   "source": [
    "TRAINSET_FOLDER = os.path.join(MODELS_PATH, \"trainsets\")\n",
    "os.makedirs(TRAINSET_FOLDER, exist_ok=True)"
   ]
  },
  {
   "cell_type": "code",
   "execution_count": 91,
   "metadata": {},
   "outputs": [],
   "source": [
    "def build_features(\n",
    "    df: pd.DataFrame, converters: dict[str, CountVectorizer], test: bool = True\n",
    "):\n",
    "    features, features_names = list(), list()\n",
    "    for column, vectorizer in converters.items():\n",
    "        if test:\n",
    "            X = vectorizer.transform(df[column])\n",
    "        else:\n",
    "            X = vectorizer.fit_transform(df[column])\n",
    "        print(f\"{X.shape[1]} features added\")\n",
    "        features.append(X)\n",
    "        features_names.extend(list(vectorizer.get_feature_names_out()))\n",
    "    features_array = np.concatenate(list(map(lambda x: x.toarray(), features)), axis=1)\n",
    "    features_df = pd.DataFrame(features_array, columns=features_names)\n",
    "    return features_df"
   ]
  },
  {
   "cell_type": "code",
   "execution_count": 102,
   "metadata": {},
   "outputs": [
    {
     "name": "stdout",
     "output_type": "stream",
     "text": [
      "505 features added\n",
      "13 features added\n"
     ]
    }
   ],
   "source": [
    "out_file = os.path.join(TRAINSET_FOLDER, \"X_train_proportions.csv\")\n",
    "\n",
    "X_train_proportions = build_features(\n",
    "    data.iloc[X_train_index],\n",
    "    converters={\"speech_lemmas\": proportions_vectorizer, \"speech_pos\": pos_vectorizer}\n",
    ")\n",
    "X_train_proportions.to_csv(out_file, index=False)"
   ]
  },
  {
   "cell_type": "code",
   "execution_count": 103,
   "metadata": {},
   "outputs": [
    {
     "name": "stdout",
     "output_type": "stream",
     "text": [
      "480 features added\n",
      "13 features added\n"
     ]
    }
   ],
   "source": [
    "out_file = os.path.join(TRAINSET_FOLDER, \"X_train_logodds.csv\")\n",
    "\n",
    "X_train_logodds = build_features(\n",
    "    data.iloc[X_train_index],\n",
    "    converters={\"speech_lemmas\": logodds_vectorizer, \"speech_pos\": pos_vectorizer}\n",
    ")\n",
    "X_train_logodds.to_csv(out_file, index=False)"
   ]
  },
  {
   "cell_type": "code",
   "execution_count": 95,
   "metadata": {},
   "outputs": [],
   "source": [
    "y_train = le.transform(data.loc[X_train_index, \"vote\"])"
   ]
  },
  {
   "cell_type": "markdown",
   "metadata": {},
   "source": [
    "## Selección de parámetros"
   ]
  },
  {
   "cell_type": "code",
   "execution_count": 110,
   "metadata": {},
   "outputs": [],
   "source": [
    "def fit_grid_search(\n",
    "    clf: BaseEstimator, clf_parameters: dict[str, Any],\n",
    "    X:pd.DataFrame, y:pd.Series,\n",
    "    out_file: str = None\n",
    "):\n",
    "    gs = GridSearchCV(\n",
    "        clf,\n",
    "        clf_parameters,\n",
    "        scoring='f1',\n",
    "        cv=5,\n",
    "        return_train_score=True,\n",
    "        n_jobs=-1\n",
    "    )\n",
    "    gs.fit(X, y)\n",
    "    if out_file:\n",
    "        FOLDER = os.path.join(MODELS_PATH, \"gridsearch\")\n",
    "        os.makedirs(FOLDER, exist_ok=True)\n",
    "        FILE = os.path.join(FOLDER, out_file)\n",
    "        joblib.dump(gs, FILE, compress=True)\n",
    "    return gs"
   ]
  },
  {
   "cell_type": "code",
   "execution_count": 117,
   "metadata": {},
   "outputs": [],
   "source": [
    "def build_results(cv_results: dict[str, np.ndarray]) -> pd.DataFrame:\n",
    "    df_cv_results = pd.DataFrame(cv_results)\n",
    "    param_cols = df_cv_results.filter(regex=\"param_\").columns.tolist()\n",
    "    df_cv_results.drop(columns=param_cols, inplace=True)\n",
    "    df_cv_results[\"params\"] = (\n",
    "        df_cv_results\n",
    "        .params\n",
    "        .apply(lambda x: \"-\".join([f\"{k}={v}\" for k, v in x.items()]))\n",
    "    )\n",
    "    df_cv_results.set_index(\"params\", inplace=True)\n",
    "    df_cv_results.sort_values(by=\"rank_test_score\", inplace=True)\n",
    "    df_cv_results = df_cv_results[df_cv_results.columns.sort_values().tolist()]\n",
    "    return df_cv_results"
   ]
  },
  {
   "cell_type": "code",
   "execution_count": 132,
   "metadata": {},
   "outputs": [],
   "source": [
    "def build_results2plot(results: pd.DataFrame) -> pd.DataFrame:\n",
    "    split_cols = results.filter(regex=r\"(split\\d+\\_test)\").columns.to_list()\n",
    "    return (\n",
    "        pd.concat([\n",
    "            results.nlargest(3, \"mean_test_score\"),\n",
    "            results.nsmallest(3, \"std_test_score\")\n",
    "        ])\n",
    "        .drop_duplicates(keep=\"first\")\n",
    "        .reset_index()\n",
    "        .melt(\n",
    "            id_vars = [\"params\"],\n",
    "            value_vars = split_cols,\n",
    "            var_name = \"measure\"\n",
    "        )\n",
    "        .merge(\n",
    "            results[[\"mean_test_score\", \"std_test_score\"]],\n",
    "            left_on = \"params\", right_index = True\n",
    "        )\n",
    "        .reset_index(drop=True)\n",
    "    )"
   ]
  },
  {
   "cell_type": "code",
   "execution_count": 133,
   "metadata": {},
   "outputs": [],
   "source": [
    "def plot_results(results: pd.DataFrame, clf: str, file_name: str = None) -> None:\n",
    "    results2plot = build_results2plot(results)\n",
    "    fig, axs = plt.subplots(1, 2, figsize=(9,3))\n",
    "    for params, df in results2plot.groupby(\"params\"):\n",
    "        _df = df[[\"params\", \"mean_test_score\", \"std_test_score\"]].drop_duplicates(keep=\"first\")\n",
    "        axs[0].errorbar(\n",
    "            x=_df.mean_test_score,\n",
    "            xerr=_df.std_test_score,\n",
    "            y=_df.params,\n",
    "            fmt=\"o\",\n",
    "            label=params\n",
    "        )\n",
    "        axs[1].errorbar(\n",
    "            x=df.measure,\n",
    "            y=df.value,\n",
    "            label=params\n",
    "        )\n",
    "    axs[0].set_yticklabels(\"F1 score\")\n",
    "    axs[0].set_yticks([])\n",
    "    axs[0].set_xlabel(\"\")\n",
    "    axs[0].set_title(\"Promedio y desvío\")\n",
    "    axs[1].set_xticklabels([\n",
    "        \"split {n}\".format(n=re.search(r'\\d+', label.get_text()).group())\n",
    "        for label in axs[1].get_xticklabels()\n",
    "    ])\n",
    "    axs[1].set_xlabel(\"\")\n",
    "    axs[1].set_title(\"Por split\")\n",
    "    title = fig.suptitle(f\"{clf}: F1-score en test en validación cruzada\", y=1.1)\n",
    "    lgd = plt.legend(loc=\"lower center\", bbox_to_anchor=(-0.1, -0.8))\n",
    "    if file_name:\n",
    "        FOLDER = os.path.join(VISUALIZATIONS_PATH, \"models\")\n",
    "        os.makedirs(FOLDER, exist_ok=True)\n",
    "        out_file = os.path.join(FOLDER, f\"{file_name}.png\")\n",
    "        fig.savefig(\n",
    "            out_file, bbox_extra_artists=[lgd,title], bbox_inches='tight'\n",
    "        )"
   ]
  },
  {
   "cell_type": "code",
   "execution_count": 134,
   "metadata": {},
   "outputs": [],
   "source": [
    "def print_best_estimator_info(gs_estimators: GridSearchCV) -> None:\n",
    "    best_params = \"\\n\\t-- \".join(\n",
    "        [f\"{k}: {v}\" for k, v in gs_estimators.best_params_.items()]\n",
    "    )\n",
    "    print(f\"\"\"\n",
    "    - Best Cross-Validation score : {gs_estimators.best_score_}\n",
    "    - Best parameters set:\\n\\t-- {best_params}\n",
    "    \"\"\")"
   ]
  },
  {
   "cell_type": "markdown",
   "metadata": {},
   "source": [
    "### Naive Bayer Multinomial"
   ]
  },
  {
   "cell_type": "code",
   "execution_count": 111,
   "metadata": {},
   "outputs": [],
   "source": [
    "nb_gridsearch = dict()\n",
    "\n",
    "for df, name in zip([X_train_proportions, X_train_logodds], [\"proportions\", \"logodds\"]):\n",
    "    gs = fit_grid_search(\n",
    "        clf=MultinomialNB(),\n",
    "        clf_parameters={\"alpha\": [0.01, 0.1, 1.0]},\n",
    "        X=df,\n",
    "        y=y_train,\n",
    "        out_file=f\"nb_{name}.pkl\"\n",
    "    )\n",
    "    nb_gridsearch[name] = gs"
   ]
  },
  {
   "cell_type": "code",
   "execution_count": 105,
   "metadata": {},
   "outputs": [
    {
     "data": {
      "text/plain": [
       "{'proportions': GridSearchCV(cv=5, estimator=MultinomialNB(), n_jobs=-1,\n",
       "              param_grid={'alpha': [0.01, 0.1, 1.0]}, return_train_score=True,\n",
       "              scoring='f1'),\n",
       " 'logodds': GridSearchCV(cv=5, estimator=MultinomialNB(), n_jobs=-1,\n",
       "              param_grid={'alpha': [0.01, 0.1, 1.0]}, return_train_score=True,\n",
       "              scoring='f1')}"
      ]
     },
     "execution_count": 105,
     "metadata": {},
     "output_type": "execute_result"
    }
   ],
   "source": [
    "nb_gridsearch"
   ]
  },
  {
   "cell_type": "code",
   "execution_count": 126,
   "metadata": {},
   "outputs": [
    {
     "name": "stdout",
     "output_type": "stream",
     "text": [
      "--- PROPORTIONS ---\n",
      "params            alpha=0.01  alpha=1.0  alpha=0.1\n",
      "mean_fit_time       0.011003   0.006440   0.006336\n",
      "mean_score_time     0.006255   0.005514   0.006112\n",
      "mean_test_score     0.691389   0.691060   0.672669\n",
      "mean_train_score    0.746886   0.748336   0.746886\n",
      "rank_test_score     1.000000   2.000000   3.000000\n",
      "--- LOGODDS ---\n",
      "params            alpha=0.1  alpha=1.0  alpha=0.01\n",
      "mean_fit_time      0.005635   0.005844    0.006163\n",
      "mean_score_time    0.005682   0.005848    0.005240\n",
      "mean_test_score    0.626103   0.604519    0.593642\n",
      "mean_train_score   0.668947   0.669140    0.671339\n",
      "rank_test_score    1.000000   2.000000    3.000000\n"
     ]
    }
   ],
   "source": [
    "nb_gridsearch_results = dict()\n",
    "\n",
    "for key, value in nb_gridsearch.items():\n",
    "    results = build_results(value.cv_results_)\n",
    "    nb_gridsearch_results[key] = results\n",
    "    print(f\"--- {key.upper()} ---\")\n",
    "    print(results.T.head())"
   ]
  },
  {
   "cell_type": "markdown",
   "metadata": {},
   "source": [
    "### Regresión Logística"
   ]
  },
  {
   "cell_type": "code",
   "execution_count": 112,
   "metadata": {},
   "outputs": [],
   "source": [
    "lr_gridsearch = dict()\n",
    "\n",
    "for df, name in zip([X_train_proportions, X_train_logodds], [\"proportions\", \"logodds\"]):\n",
    "    gs = fit_grid_search(\n",
    "        clf=LogisticRegression(multi_class=\"ovr\", solver=\"liblinear\", random_state=6300),\n",
    "        clf_parameters={\"penalty\": [\"l1\", \"l2\"], \"C\": [0.1, 0.5, 1]},\n",
    "        X=df,\n",
    "        y=y_train,\n",
    "        out_file=f\"lr_{name}.pkl\"\n",
    "    )\n",
    "    lr_gridsearch[name] = gs"
   ]
  },
  {
   "cell_type": "code",
   "execution_count": 113,
   "metadata": {},
   "outputs": [
    {
     "data": {
      "text/plain": [
       "{'proportions': GridSearchCV(cv=5,\n",
       "              estimator=LogisticRegression(multi_class='ovr', random_state=6300,\n",
       "                                           solver='liblinear'),\n",
       "              n_jobs=-1,\n",
       "              param_grid={'C': [0.1, 0.5, 1], 'penalty': ['l1', 'l2']},\n",
       "              return_train_score=True, scoring='f1'),\n",
       " 'logodds': GridSearchCV(cv=5,\n",
       "              estimator=LogisticRegression(multi_class='ovr', random_state=6300,\n",
       "                                           solver='liblinear'),\n",
       "              n_jobs=-1,\n",
       "              param_grid={'C': [0.1, 0.5, 1], 'penalty': ['l1', 'l2']},\n",
       "              return_train_score=True, scoring='f1')}"
      ]
     },
     "execution_count": 113,
     "metadata": {},
     "output_type": "execute_result"
    }
   ],
   "source": [
    "lr_gridsearch"
   ]
  },
  {
   "cell_type": "code",
   "execution_count": 129,
   "metadata": {},
   "outputs": [
    {
     "name": "stdout",
     "output_type": "stream",
     "text": [
      "--- PROPORTIONS ---\n",
      "params            C=0.1-penalty=l2  C=0.5-penalty=l2  C=1-penalty=l2  \\\n",
      "mean_fit_time             0.007429          0.006107        0.006738   \n",
      "mean_score_time           0.006045          0.005780        0.005621   \n",
      "mean_test_score           0.683181          0.681639        0.673618   \n",
      "mean_train_score          0.817717          0.859061        0.873400   \n",
      "rank_test_score           1.000000          2.000000        3.000000   \n",
      "\n",
      "params            C=1-penalty=l1  C=0.5-penalty=l1  C=0.1-penalty=l1  \n",
      "mean_fit_time           0.006723          0.005573          0.006696  \n",
      "mean_score_time         0.005568          0.005170          0.005815  \n",
      "mean_test_score         0.612484          0.590736          0.454496  \n",
      "mean_train_score        0.811028          0.779690          0.518188  \n",
      "rank_test_score         4.000000          5.000000          6.000000  \n",
      "--- LOGODDS ---\n",
      "params            C=0.1-penalty=l2  C=1-penalty=l2  C=1-penalty=l1  \\\n",
      "mean_fit_time             0.009211        0.006068        0.005765   \n",
      "mean_score_time           0.008412        0.005616        0.005759   \n",
      "mean_test_score           0.757040        0.727526        0.721176   \n",
      "mean_train_score          0.819462        0.839861        0.780404   \n",
      "rank_test_score           1.000000        2.000000        3.000000   \n",
      "\n",
      "params            C=0.5-penalty=l1  C=0.5-penalty=l2  C=0.1-penalty=l1  \n",
      "mean_fit_time             0.007195          0.007755          0.004203  \n",
      "mean_score_time           0.006936          0.005477          0.004856  \n",
      "mean_test_score           0.709353          0.708416          0.461926  \n",
      "mean_train_score          0.753145          0.844423          0.483033  \n",
      "rank_test_score           4.000000          5.000000          6.000000  \n"
     ]
    }
   ],
   "source": [
    "lr_gridsearch_results = dict()\n",
    "\n",
    "for key, value in lr_gridsearch.items():\n",
    "    results = build_results(value.cv_results_)\n",
    "    lr_gridsearch_results[key] = results\n",
    "    print(f\"--- {key.upper()} ---\")\n",
    "    print(results.T.head())"
   ]
  },
  {
   "cell_type": "markdown",
   "metadata": {},
   "source": [
    "### Máquinas de Soporte Vectorial"
   ]
  },
  {
   "cell_type": "code",
   "execution_count": 115,
   "metadata": {},
   "outputs": [],
   "source": [
    "svm_gridsearch = dict()\n",
    "\n",
    "for df, name in zip([X_train_proportions, X_train_logodds], [\"proportions\", \"logodds\"]):\n",
    "    gs = fit_grid_search(\n",
    "        clf=SVC(random_state=6300),\n",
    "        clf_parameters={\n",
    "            \"kernel\": [\"linear\", \"poly\", \"rbf\", \"sigmoid\"],\n",
    "            \"C\": [0.1, 0.5, 1],\n",
    "            \"decision_function_shape\": [\"ovo\", \"ovr\"]\n",
    "        },\n",
    "        X=df,\n",
    "        y=y_train,\n",
    "        out_file=f\"svm_{name}.pkl\"\n",
    "    )\n",
    "    svm_gridsearch[name] = gs"
   ]
  },
  {
   "cell_type": "code",
   "execution_count": 116,
   "metadata": {},
   "outputs": [
    {
     "data": {
      "text/plain": [
       "{'proportions': GridSearchCV(cv=5, estimator=SVC(random_state=6300), n_jobs=-1,\n",
       "              param_grid={'C': [0.1, 0.5, 1],\n",
       "                          'decision_function_shape': ['ovo', 'ovr'],\n",
       "                          'kernel': ['linear', 'poly', 'rbf', 'sigmoid']},\n",
       "              return_train_score=True, scoring='f1'),\n",
       " 'logodds': GridSearchCV(cv=5, estimator=SVC(random_state=6300), n_jobs=-1,\n",
       "              param_grid={'C': [0.1, 0.5, 1],\n",
       "                          'decision_function_shape': ['ovo', 'ovr'],\n",
       "                          'kernel': ['linear', 'poly', 'rbf', 'sigmoid']},\n",
       "              return_train_score=True, scoring='f1')}"
      ]
     },
     "execution_count": 116,
     "metadata": {},
     "output_type": "execute_result"
    }
   ],
   "source": [
    "svm_gridsearch"
   ]
  },
  {
   "cell_type": "code",
   "execution_count": 130,
   "metadata": {},
   "outputs": [
    {
     "name": "stdout",
     "output_type": "stream",
     "text": [
      "--- PROPORTIONS ---\n",
      "params            C=0.1-decision_function_shape=ovo-kernel=rbf  \\\n",
      "mean_fit_time                                         0.015444   \n",
      "mean_score_time                                       0.010647   \n",
      "mean_test_score                                       0.717667   \n",
      "mean_train_score                                      0.717737   \n",
      "rank_test_score                                       1.000000   \n",
      "\n",
      "params            C=0.1-decision_function_shape=ovo-kernel=sigmoid  \\\n",
      "mean_fit_time                                             0.011034   \n",
      "mean_score_time                                           0.007772   \n",
      "mean_test_score                                           0.717667   \n",
      "mean_train_score                                          0.717737   \n",
      "rank_test_score                                           1.000000   \n",
      "\n",
      "params            C=0.1-decision_function_shape=ovr-kernel=rbf  \\\n",
      "mean_fit_time                                         0.008193   \n",
      "mean_score_time                                       0.006992   \n",
      "mean_test_score                                       0.717667   \n",
      "mean_train_score                                      0.717737   \n",
      "rank_test_score                                       1.000000   \n",
      "\n",
      "params            C=0.1-decision_function_shape=ovr-kernel=sigmoid  \\\n",
      "mean_fit_time                                             0.007840   \n",
      "mean_score_time                                           0.006302   \n",
      "mean_test_score                                           0.717667   \n",
      "mean_train_score                                          0.717737   \n",
      "rank_test_score                                           1.000000   \n",
      "\n",
      "params            C=1-decision_function_shape=ovo-kernel=rbf  \\\n",
      "mean_fit_time                                       0.014826   \n",
      "mean_score_time                                     0.009378   \n",
      "mean_test_score                                     0.717667   \n",
      "mean_train_score                                    0.768899   \n",
      "rank_test_score                                     1.000000   \n",
      "\n",
      "params            C=0.5-decision_function_shape=ovo-kernel=rbf  \\\n",
      "mean_fit_time                                         0.008888   \n",
      "mean_score_time                                       0.008235   \n",
      "mean_test_score                                       0.717667   \n",
      "mean_train_score                                      0.717737   \n",
      "rank_test_score                                       1.000000   \n",
      "\n",
      "params            C=1-decision_function_shape=ovr-kernel=rbf  \\\n",
      "mean_fit_time                                       0.007168   \n",
      "mean_score_time                                     0.008640   \n",
      "mean_test_score                                     0.717667   \n",
      "mean_train_score                                    0.768899   \n",
      "rank_test_score                                     1.000000   \n",
      "\n",
      "params            C=0.5-decision_function_shape=ovr-kernel=rbf  \\\n",
      "mean_fit_time                                         0.008522   \n",
      "mean_score_time                                       0.007628   \n",
      "mean_test_score                                       0.717667   \n",
      "mean_train_score                                      0.717737   \n",
      "rank_test_score                                       1.000000   \n",
      "\n",
      "params            C=0.5-decision_function_shape=ovo-kernel=sigmoid  \\\n",
      "mean_fit_time                                             0.010229   \n",
      "mean_score_time                                           0.011954   \n",
      "mean_test_score                                           0.707551   \n",
      "mean_train_score                                          0.692818   \n",
      "rank_test_score                                           9.000000   \n",
      "\n",
      "params            C=0.5-decision_function_shape=ovr-kernel=sigmoid  ...  \\\n",
      "mean_fit_time                                             0.007913  ...   \n",
      "mean_score_time                                           0.006629  ...   \n",
      "mean_test_score                                           0.707551  ...   \n",
      "mean_train_score                                          0.692818  ...   \n",
      "rank_test_score                                           9.000000  ...   \n",
      "\n",
      "params            C=1-decision_function_shape=ovo-kernel=sigmoid  \\\n",
      "mean_fit_time                                           0.008367   \n",
      "mean_score_time                                         0.006561   \n",
      "mean_test_score                                         0.679149   \n",
      "mean_train_score                                        0.679328   \n",
      "rank_test_score                                        15.000000   \n",
      "\n",
      "params            C=1-decision_function_shape=ovr-kernel=sigmoid  \\\n",
      "mean_fit_time                                           0.007601   \n",
      "mean_score_time                                         0.005496   \n",
      "mean_test_score                                         0.679149   \n",
      "mean_train_score                                        0.679328   \n",
      "rank_test_score                                        15.000000   \n",
      "\n",
      "params            C=1-decision_function_shape=ovo-kernel=poly  \\\n",
      "mean_fit_time                                        0.010626   \n",
      "mean_score_time                                      0.008186   \n",
      "mean_test_score                                      0.671353   \n",
      "mean_train_score                                     0.757450   \n",
      "rank_test_score                                     17.000000   \n",
      "\n",
      "params            C=1-decision_function_shape=ovr-kernel=poly  \\\n",
      "mean_fit_time                                        0.009082   \n",
      "mean_score_time                                      0.007022   \n",
      "mean_test_score                                      0.671353   \n",
      "mean_train_score                                     0.757450   \n",
      "rank_test_score                                     17.000000   \n",
      "\n",
      "params            C=0.1-decision_function_shape=ovr-kernel=linear  \\\n",
      "mean_fit_time                                            0.008601   \n",
      "mean_score_time                                          0.007473   \n",
      "mean_test_score                                          0.670850   \n",
      "mean_train_score                                         0.819457   \n",
      "rank_test_score                                         19.000000   \n",
      "\n",
      "params            C=0.1-decision_function_shape=ovo-kernel=linear  \\\n",
      "mean_fit_time                                            0.015536   \n",
      "mean_score_time                                          0.013601   \n",
      "mean_test_score                                          0.670850   \n",
      "mean_train_score                                         0.819457   \n",
      "rank_test_score                                         19.000000   \n",
      "\n",
      "params            C=1-decision_function_shape=ovo-kernel=linear  \\\n",
      "mean_fit_time                                          0.008947   \n",
      "mean_score_time                                        0.007433   \n",
      "mean_test_score                                        0.647379   \n",
      "mean_train_score                                       0.873601   \n",
      "rank_test_score                                       21.000000   \n",
      "\n",
      "params            C=1-decision_function_shape=ovr-kernel=linear  \\\n",
      "mean_fit_time                                          0.009012   \n",
      "mean_score_time                                        0.005833   \n",
      "mean_test_score                                        0.647379   \n",
      "mean_train_score                                       0.873601   \n",
      "rank_test_score                                       21.000000   \n",
      "\n",
      "params            C=0.5-decision_function_shape=ovo-kernel=linear  \\\n",
      "mean_fit_time                                            0.008648   \n",
      "mean_score_time                                          0.007511   \n",
      "mean_test_score                                          0.642109   \n",
      "mean_train_score                                         0.868341   \n",
      "rank_test_score                                         23.000000   \n",
      "\n",
      "params            C=0.5-decision_function_shape=ovr-kernel=linear  \n",
      "mean_fit_time                                            0.008424  \n",
      "mean_score_time                                          0.007432  \n",
      "mean_test_score                                          0.642109  \n",
      "mean_train_score                                         0.868341  \n",
      "rank_test_score                                         23.000000  \n",
      "\n",
      "[5 rows x 24 columns]\n",
      "--- LOGODDS ---\n",
      "params            C=0.5-decision_function_shape=ovo-kernel=linear  \\\n",
      "mean_fit_time                                            0.007632   \n",
      "mean_score_time                                          0.006694   \n",
      "mean_test_score                                          0.739147   \n",
      "mean_train_score                                         0.822510   \n",
      "rank_test_score                                          1.000000   \n",
      "\n",
      "params            C=0.5-decision_function_shape=ovr-kernel=linear  \\\n",
      "mean_fit_time                                            0.009472   \n",
      "mean_score_time                                          0.006319   \n",
      "mean_test_score                                          0.739147   \n",
      "mean_train_score                                         0.822510   \n",
      "rank_test_score                                          1.000000   \n",
      "\n",
      "params            C=0.1-decision_function_shape=ovo-kernel=linear  \\\n",
      "mean_fit_time                                            0.013535   \n",
      "mean_score_time                                          0.011978   \n",
      "mean_test_score                                          0.735549   \n",
      "mean_train_score                                         0.787622   \n",
      "rank_test_score                                          3.000000   \n",
      "\n",
      "params            C=0.1-decision_function_shape=ovr-kernel=linear  \\\n",
      "mean_fit_time                                            0.006711   \n",
      "mean_score_time                                          0.005676   \n",
      "mean_test_score                                          0.735549   \n",
      "mean_train_score                                         0.787622   \n",
      "rank_test_score                                          3.000000   \n",
      "\n",
      "params            C=1-decision_function_shape=ovo-kernel=rbf  \\\n",
      "mean_fit_time                                       0.007842   \n",
      "mean_score_time                                     0.006997   \n",
      "mean_test_score                                     0.726558   \n",
      "mean_train_score                                    0.766414   \n",
      "rank_test_score                                     5.000000   \n",
      "\n",
      "params            C=1-decision_function_shape=ovr-kernel=rbf  \\\n",
      "mean_fit_time                                       0.010558   \n",
      "mean_score_time                                     0.007395   \n",
      "mean_test_score                                     0.726558   \n",
      "mean_train_score                                    0.766414   \n",
      "rank_test_score                                     5.000000   \n",
      "\n",
      "params            C=1-decision_function_shape=ovo-kernel=poly  \\\n",
      "mean_fit_time                                        0.007778   \n",
      "mean_score_time                                      0.006728   \n",
      "mean_test_score                                      0.721939   \n",
      "mean_train_score                                     0.755049   \n",
      "rank_test_score                                      7.000000   \n",
      "\n",
      "params            C=1-decision_function_shape=ovr-kernel=poly  \\\n",
      "mean_fit_time                                        0.008476   \n",
      "mean_score_time                                      0.006847   \n",
      "mean_test_score                                      0.721939   \n",
      "mean_train_score                                     0.755049   \n",
      "rank_test_score                                      7.000000   \n",
      "\n",
      "params            C=0.1-decision_function_shape=ovo-kernel=rbf  \\\n",
      "mean_fit_time                                         0.011931   \n",
      "mean_score_time                                       0.009042   \n",
      "mean_test_score                                       0.717667   \n",
      "mean_train_score                                      0.717737   \n",
      "rank_test_score                                       9.000000   \n",
      "\n",
      "params            C=0.1-decision_function_shape=ovo-kernel=sigmoid  ...  \\\n",
      "mean_fit_time                                             0.009534  ...   \n",
      "mean_score_time                                           0.006918  ...   \n",
      "mean_test_score                                           0.717667  ...   \n",
      "mean_train_score                                          0.717737  ...   \n",
      "rank_test_score                                           9.000000  ...   \n",
      "\n",
      "params            C=1-decision_function_shape=ovo-kernel=linear  \\\n",
      "mean_fit_time                                          0.007111   \n",
      "mean_score_time                                        0.006141   \n",
      "mean_test_score                                        0.669858   \n",
      "mean_train_score                                       0.829242   \n",
      "rank_test_score                                       15.000000   \n",
      "\n",
      "params            C=1-decision_function_shape=ovr-kernel=linear  \\\n",
      "mean_fit_time                                          0.008418   \n",
      "mean_score_time                                        0.006048   \n",
      "mean_test_score                                        0.669858   \n",
      "mean_train_score                                       0.829242   \n",
      "rank_test_score                                       15.000000   \n",
      "\n",
      "params            C=0.1-decision_function_shape=ovr-kernel=poly  \\\n",
      "mean_fit_time                                          0.008105   \n",
      "mean_score_time                                        0.005874   \n",
      "mean_test_score                                        0.658337   \n",
      "mean_train_score                                       0.685988   \n",
      "rank_test_score                                       17.000000   \n",
      "\n",
      "params            C=0.1-decision_function_shape=ovo-kernel=poly  \\\n",
      "mean_fit_time                                          0.013589   \n",
      "mean_score_time                                        0.010705   \n",
      "mean_test_score                                        0.658337   \n",
      "mean_train_score                                       0.685988   \n",
      "rank_test_score                                       17.000000   \n",
      "\n",
      "params            C=0.5-decision_function_shape=ovr-kernel=poly  \\\n",
      "mean_fit_time                                          0.006834   \n",
      "mean_score_time                                        0.006398   \n",
      "mean_test_score                                        0.597671   \n",
      "mean_train_score                                       0.636330   \n",
      "rank_test_score                                       19.000000   \n",
      "\n",
      "params            C=0.5-decision_function_shape=ovo-kernel=poly  \\\n",
      "mean_fit_time                                          0.009001   \n",
      "mean_score_time                                        0.007447   \n",
      "mean_test_score                                        0.597671   \n",
      "mean_train_score                                       0.636330   \n",
      "rank_test_score                                       19.000000   \n",
      "\n",
      "params            C=0.5-decision_function_shape=ovo-kernel=sigmoid  \\\n",
      "mean_fit_time                                             0.007919   \n",
      "mean_score_time                                           0.006544   \n",
      "mean_test_score                                           0.365304   \n",
      "mean_train_score                                          0.426598   \n",
      "rank_test_score                                          21.000000   \n",
      "\n",
      "params            C=0.5-decision_function_shape=ovr-kernel=sigmoid  \\\n",
      "mean_fit_time                                             0.009842   \n",
      "mean_score_time                                           0.008268   \n",
      "mean_test_score                                           0.365304   \n",
      "mean_train_score                                          0.426598   \n",
      "rank_test_score                                          21.000000   \n",
      "\n",
      "params            C=1-decision_function_shape=ovo-kernel=sigmoid  \\\n",
      "mean_fit_time                                           0.008006   \n",
      "mean_score_time                                         0.006814   \n",
      "mean_test_score                                         0.344821   \n",
      "mean_train_score                                        0.368431   \n",
      "rank_test_score                                        23.000000   \n",
      "\n",
      "params            C=1-decision_function_shape=ovr-kernel=sigmoid  \n",
      "mean_fit_time                                           0.006837  \n",
      "mean_score_time                                         0.004933  \n",
      "mean_test_score                                         0.344821  \n",
      "mean_train_score                                        0.368431  \n",
      "rank_test_score                                        23.000000  \n",
      "\n",
      "[5 rows x 24 columns]\n"
     ]
    }
   ],
   "source": [
    "svm_gridsearch_results = dict()\n",
    "\n",
    "for key, value in svm_gridsearch.items():\n",
    "    results = build_results(value.cv_results_)\n",
    "    svm_gridsearch_results[key] = results\n",
    "    print(f\"--- {key.upper()} ---\")\n",
    "    print(results.T.head())"
   ]
  },
  {
   "cell_type": "markdown",
   "metadata": {},
   "source": [
    "# Parameters Selection"
   ]
  },
  {
   "cell_type": "code",
   "execution_count": null,
   "metadata": {},
   "outputs": [],
   "source": []
  },
  {
   "cell_type": "markdown",
   "metadata": {},
   "source": [
    "## Multinomial Naive Bayes"
   ]
  },
  {
   "cell_type": "code",
   "execution_count": null,
   "metadata": {},
   "outputs": [],
   "source": [
    "nb_gridsearch_cv_results2plot = build_results_df2plot(nb_gridsearch_cv_results)\n",
    "plot_results(nb_gridsearch_cv_results2plot, clf=\"Naive Bayes Multinomial\", file_name=\"clf__nb_cv.png\")"
   ]
  },
  {
   "cell_type": "code",
   "execution_count": null,
   "metadata": {},
   "outputs": [],
   "source": [
    "print_best_estimator_info(nb_gridsearch)"
   ]
  },
  {
   "cell_type": "code",
   "execution_count": null,
   "metadata": {},
   "outputs": [],
   "source": [
    "selected_nb = nb_gridsearch_cv_results[\n",
    "    nb_gridsearch_cv_results.index.str.contains(\"alpha=1.0\")\n",
    "    & nb_gridsearch_cv_results.index.str.contains(\"min_df=0.1\")\n",
    "    & nb_gridsearch_cv_results.index.str.contains(\"norm=l1\")\n",
    "    & nb_gridsearch_cv_results.index.str.contains(\"smooth_idf=False\")\n",
    "    & nb_gridsearch_cv_results.index.str.contains(\"sublinear_tf=False\")\n",
    "]\n",
    "selected_nb_params = \"\\n\\t-- \".join(selected_nb.index.tolist()[0].split('-'))\n",
    "print(f\"\"\"\n",
    "    - Selected Cross-Validation score: {selected_nb.mean_test_score.values[0]}\n",
    "    - Selected parameters set:\\n\\t-- {selected_nb_params}\n",
    "\"\"\")"
   ]
  },
  {
   "cell_type": "markdown",
   "metadata": {},
   "source": [
    "## Logistic Regression"
   ]
  },
  {
   "cell_type": "code",
   "execution_count": null,
   "metadata": {},
   "outputs": [],
   "source": [
    "lr_gridsearch_cv_results2plot = build_results_df2plot(lr_gridsearch_cv_results)\n",
    "plot_results(lr_gridsearch_cv_results2plot, clf=\"Regresión Logística\", file_name=\"clf__lr_cv.png\")"
   ]
  },
  {
   "cell_type": "code",
   "execution_count": null,
   "metadata": {},
   "outputs": [],
   "source": [
    "print_best_estimator_info(lr_gridsearch)"
   ]
  },
  {
   "cell_type": "code",
   "execution_count": null,
   "metadata": {},
   "outputs": [],
   "source": [
    "selected_lr = lr_gridsearch_cv_results[\n",
    "    lr_gridsearch_cv_results.index.str.contains(\"C=0.5\")\n",
    "    & lr_gridsearch_cv_results.index.str.contains(\"penalty=l1\")\n",
    "    & lr_gridsearch_cv_results.index.str.contains(\"min_df=0.1\")\n",
    "    & lr_gridsearch_cv_results.index.str.contains(\"norm=l1\")\n",
    "    & lr_gridsearch_cv_results.index.str.contains(\"smooth_idf=True\")\n",
    "    & lr_gridsearch_cv_results.index.str.contains(\"sublinear_tf=True\")\n",
    "]\n",
    "selected_lr_params = \"\\n\\t-- \".join(selected_lr.index.tolist()[0].split('-'))\n",
    "print(f\"\"\"\n",
    "    - Selected Cross-Validation score: {selected_lr.mean_test_score.values[0]}\n",
    "    - Selected parameters set:\\n\\t-- {selected_lr_params}\n",
    "\"\"\")"
   ]
  },
  {
   "cell_type": "markdown",
   "metadata": {},
   "source": [
    "# Feature Importance"
   ]
  },
  {
   "cell_type": "code",
   "execution_count": 142,
   "metadata": {},
   "outputs": [],
   "source": [
    "def get_seleted_params(params:str) -> dict[str, dict[str,Any]]:\n",
    "    selected_params = dict()\n",
    "    key_value_params = [p.split(\"=\") for p in params.split(\"\\n\\t-- \")]\n",
    "    for key, value in key_value_params:\n",
    "        try:\n",
    "            value = eval(value)\n",
    "        except:\n",
    "            value = value\n",
    "        clf, param = key.split(\"__\")\n",
    "        if clf in selected_params:\n",
    "            selected_params[clf][param] = value\n",
    "        else:\n",
    "            selected_params[clf] = {param: value}\n",
    "    return selected_params\n",
    "\n",
    "def get_best_params(params: dict[str:Any]) -> dict[str, dict[str, Any]]:\n",
    "    selected_params = dict()\n",
    "    for key, value in params.items():\n",
    "        clf, param = key.split(\"__\")\n",
    "        if clf in selected_params:\n",
    "            selected_params[clf][param] = value\n",
    "        else:\n",
    "            selected_params[clf] = {param: value}\n",
    "    return selected_params\n",
    "\n",
    "def plot_nb_weights(df: pd.DataFrame, title:str, file_name:str):\n",
    "    fig, axs = plt.subplots(1,2, figsize=(12,3), sharey=True)\n",
    "    sns.histplot(\n",
    "        data = df.melt(id_vars=[\"word\"], var_name=\"weight\"),\n",
    "        x=\"value\",\n",
    "        hue=\"weight\",\n",
    "        bins=30,\n",
    "        ax=axs[0]\n",
    "    )\n",
    "    axs[0].set_xlabel(\"\")\n",
    "    axs[0].set_ylabel(\"Cantidad de observaciones\")\n",
    "    axs[0].set_title(\"Pesos por categoría\")\n",
    "    axs[0].get_legend().set_title(\"Pesos\")\n",
    "    sns.histplot(\n",
    "        data = df.assign(diff=lambda x: x.pos-x.neg),\n",
    "        x=\"diff\",\n",
    "        bins=30,\n",
    "        ax=axs[1]\n",
    "    )\n",
    "    axs[1].set_title(\"Diferencia de pesos: $pos-neg$\")\n",
    "    title = fig.suptitle(title,  y=1.05)\n",
    "    fig.savefig(\n",
    "    f\"{project_path}/visualizations/{file_name}.png\",\n",
    "    bbox_extra_artists=[title], bbox_inches='tight'\n",
    ")\n",
    "\n",
    "def plot_lr_weights(df: pd.DataFrame, title:str, file_name:str):\n",
    "    df_copy = deepcopy(df)\n",
    "    df_copy.loc[df_copy.coef >= 0, \"weight\"] = \"pos\"\n",
    "    df_copy.loc[df_copy.coef < 0, \"weight\"] = \"neg\"\n",
    "    fig, ax = plt.subplots(figsize=(6,3))\n",
    "    sns.histplot(\n",
    "        data = df_copy,\n",
    "        x=\"coef\",\n",
    "        hue=\"weight\",\n",
    "        bins=30,\n",
    "        ax=ax\n",
    "    )\n",
    "    ax.set_xlabel(\"\")\n",
    "    ax.set_ylabel(\"Cantidad de observaciones\")\n",
    "    ax.get_legend().set_title(\"Pesos\")\n",
    "    fig.suptitle(title)\n",
    "    fig.savefig(\n",
    "    f\"{project_path}/visualizations/{file_name}.png\"\n",
    ")\n"
   ]
  },
  {
   "cell_type": "markdown",
   "metadata": {},
   "source": [
    "## Multinomial Naive Bayes"
   ]
  },
  {
   "cell_type": "markdown",
   "metadata": {},
   "source": [
    "### Selected Params"
   ]
  },
  {
   "cell_type": "code",
   "execution_count": 143,
   "metadata": {},
   "outputs": [
    {
     "ename": "NameError",
     "evalue": "name 'selected_nb_params' is not defined",
     "output_type": "error",
     "traceback": [
      "\u001b[0;31m---------------------------------------------------------------------------\u001b[0m",
      "\u001b[0;31mNameError\u001b[0m                                 Traceback (most recent call last)",
      "Cell \u001b[0;32mIn[143], line 1\u001b[0m\n\u001b[0;32m----> 1\u001b[0m selected_nb_params \u001b[38;5;241m=\u001b[39m get_seleted_params(\u001b[43mselected_nb_params\u001b[49m)\n\u001b[1;32m      2\u001b[0m selected_nb_pipeline \u001b[38;5;241m=\u001b[39m Pipeline([\n\u001b[1;32m      3\u001b[0m     (\n\u001b[1;32m      4\u001b[0m         \u001b[38;5;124m\"\u001b[39m\u001b[38;5;124mtfidf\u001b[39m\u001b[38;5;124m\"\u001b[39m,\n\u001b[0;32m   (...)\u001b[0m\n\u001b[1;32m     11\u001b[0m     )\n\u001b[1;32m     12\u001b[0m ])\n\u001b[1;32m     13\u001b[0m selected_nb_fi \u001b[38;5;241m=\u001b[39m selected_nb_pipeline\u001b[38;5;241m.\u001b[39mfit(X, y)\n",
      "\u001b[0;31mNameError\u001b[0m: name 'selected_nb_params' is not defined"
     ]
    }
   ],
   "source": [
    "selected_nb_params = get_seleted_params(selected_nb_params)\n",
    "selected_nb_pipeline = Pipeline([\n",
    "    (\n",
    "        \"tfidf\",\n",
    "        TfidfVectorizer(lowercase=True, preprocessor=preprocess, **selected_nb_params[\"tfidf\"]),\n",
    "    ),\n",
    "    (\n",
    "        \"clf\",\n",
    "        MultinomialNB(**selected_nb_params[\"clf\"]\n",
    "        )\n",
    "    )\n",
    "])\n",
    "selected_nb_fi = selected_nb_pipeline.fit(X, y)"
   ]
  },
  {
   "cell_type": "code",
   "execution_count": null,
   "metadata": {},
   "outputs": [],
   "source": [
    "selected_nb_weights = pd.DataFrame({\n",
    "        \"word\": selected_nb_fi[0].vocabulary_.keys(),\n",
    "        \"neg\": selected_nb_fi[1].feature_log_prob_[0],\n",
    "        \"pos\": selected_nb_fi[1].feature_log_prob_[1]\n",
    "    }\n",
    ")"
   ]
  },
  {
   "cell_type": "code",
   "execution_count": null,
   "metadata": {},
   "outputs": [],
   "source": [
    "plot_nb_weights(selected_nb_weights, title=\"Importancia de rasgos en Naive Bayes\", file_name=\"nb_selected_feature_importance\")"
   ]
  },
  {
   "cell_type": "markdown",
   "metadata": {},
   "source": [
    "### Best Params"
   ]
  },
  {
   "cell_type": "code",
   "execution_count": null,
   "metadata": {},
   "outputs": [],
   "source": [
    "best_nb_params = get_best_params(nb_gridsearch.best_params_)\n",
    "best_nb_pipeline = Pipeline([\n",
    "    (\n",
    "        \"tfidf\",\n",
    "        TfidfVectorizer(lowercase=True, preprocessor=preprocess, **best_nb_params[\"tfidf\"]),\n",
    "    ),\n",
    "    (\n",
    "        \"clf\",\n",
    "        MultinomialNB(**best_nb_params[\"clf\"]\n",
    "        )\n",
    "    )\n",
    "])\n",
    "best_nb_fi = best_nb_pipeline.fit(X, y)"
   ]
  },
  {
   "cell_type": "code",
   "execution_count": null,
   "metadata": {},
   "outputs": [],
   "source": [
    "best_nb_weights = pd.DataFrame({\n",
    "        \"word\": best_nb_fi[0].vocabulary_.keys(),\n",
    "        \"neg\": best_nb_fi[1].feature_log_prob_[0],\n",
    "        \"pos\": best_nb_fi[1].feature_log_prob_[1]\n",
    "    }\n",
    ")"
   ]
  },
  {
   "cell_type": "code",
   "execution_count": null,
   "metadata": {},
   "outputs": [],
   "source": [
    "plot_nb_weights(best_nb_weights, title=\"Importancia de rasgos en Naive Bayes\", file_name=\"nb_best_feature_importance\")"
   ]
  },
  {
   "cell_type": "markdown",
   "metadata": {},
   "source": [
    "## Logistic Regression"
   ]
  },
  {
   "cell_type": "markdown",
   "metadata": {},
   "source": [
    "### Selected Params"
   ]
  },
  {
   "cell_type": "code",
   "execution_count": null,
   "metadata": {},
   "outputs": [],
   "source": [
    "le_target_pos = LabelEncoder()\n",
    "le_target_pos?"
   ]
  },
  {
   "cell_type": "code",
   "execution_count": null,
   "metadata": {},
   "outputs": [],
   "source": [
    "selected_lr_params = get_seleted_params(selected_lr_params)\n",
    "selected_lr_pipeline = Pipeline([\n",
    "    (\n",
    "        \"tfidf\",\n",
    "        TfidfVectorizer(lowercase=True, preprocessor=preprocess, **selected_lr_params[\"tfidf\"]),\n",
    "    ),\n",
    "    (\n",
    "        \"clf\",\n",
    "        LogisticRegression(\n",
    "            multi_class=\"ovr\", solver=\"liblinear\", random_state=2023, **selected_lr_params[\"clf\"])\n",
    "    )\n",
    "])\n",
    "selected_lr_fi = selected_lr_pipeline.fit(X, y)"
   ]
  },
  {
   "cell_type": "code",
   "execution_count": null,
   "metadata": {},
   "outputs": [],
   "source": [
    "selected_lr_features = selected_lr_fi[0].vocabulary_\n",
    "selected_lr_weights  = selected_lr_fi[1].coef_"
   ]
  },
  {
   "cell_type": "code",
   "execution_count": null,
   "metadata": {},
   "outputs": [],
   "source": [
    "selected_lr_weights[selected_lr_weights<0]"
   ]
  },
  {
   "cell_type": "markdown",
   "metadata": {},
   "source": [
    "### Best Params"
   ]
  },
  {
   "cell_type": "code",
   "execution_count": null,
   "metadata": {},
   "outputs": [],
   "source": [
    "best_lr_params = get_best_params(lr_gridsearch.best_params_)\n",
    "best_lr_pipeline = Pipeline([\n",
    "    (\n",
    "        \"tfidf\",\n",
    "        TfidfVectorizer(lowercase=True, preprocessor=preprocess, **best_lr_params[\"tfidf\"]),\n",
    "    ),\n",
    "    (\n",
    "        \"clf\",\n",
    "        LogisticRegression(\n",
    "            multi_class=\"ovr\", solver=\"liblinear\", random_state=2023, **best_lr_params[\"clf\"])\n",
    "    )\n",
    "])\n",
    "best_lr_fi = best_lr_pipeline.fit(X, y)"
   ]
  },
  {
   "cell_type": "code",
   "execution_count": null,
   "metadata": {},
   "outputs": [],
   "source": [
    "best_lr_weights = pd.DataFrame({\n",
    "        \"word\": best_lr_fi[0].vocabulary_.keys(),\n",
    "        \"coef\": best_lr_fi[1].coef_[0]\n",
    "    }\n",
    ")"
   ]
  },
  {
   "cell_type": "code",
   "execution_count": null,
   "metadata": {},
   "outputs": [],
   "source": [
    "plot_lr_weights(best_lr_weights, title=\"Importancia de ragos en Regresión Logística\", file_name=\"lr_best_feature_importance\")"
   ]
  }
 ],
 "metadata": {
  "kernelspec": {
   "display_name": "eddc-tp",
   "language": "python",
   "name": "python3"
  },
  "language_info": {
   "codemirror_mode": {
    "name": "ipython",
    "version": 3
   },
   "file_extension": ".py",
   "mimetype": "text/x-python",
   "name": "python",
   "nbconvert_exporter": "python",
   "pygments_lexer": "ipython3",
   "version": "3.11.4"
  }
 },
 "nbformat": 4,
 "nbformat_minor": 2
}
