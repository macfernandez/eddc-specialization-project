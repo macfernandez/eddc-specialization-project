{
 "cells": [
  {
   "cell_type": "markdown",
   "metadata": {},
   "source": [
    "# _Datasets_ de entrenamiento y testeo"
   ]
  },
  {
   "cell_type": "code",
   "execution_count": 3,
   "metadata": {},
   "outputs": [],
   "source": [
    "import math\n",
    "import os\n",
    "\n",
    "import joblib\n",
    "import pandas as pd\n",
    "from sklearn.preprocessing import LabelEncoder\n",
    "from sklearn.feature_extraction.text import CountVectorizer, TfidfVectorizer\n",
    "from sklearn.model_selection import train_test_split\n",
    "\n",
    "from config import DATA_PATH, MODELS_PATH, VISUALIZATIONS_PATH"
   ]
  },
  {
   "cell_type": "code",
   "execution_count": 4,
   "metadata": {},
   "outputs": [],
   "source": [
    "os.makedirs(MODELS_PATH, exist_ok=True)"
   ]
  },
  {
   "cell_type": "code",
   "execution_count": 5,
   "metadata": {},
   "outputs": [
    {
     "data": {
      "text/plain": [
       "Index(['name', 'vote', 'senator', 'province', 'party', 'party_family',\n",
       "       'speaker', 'speech', 'speech_preprocessed', 'speech_lemmas',\n",
       "       'speech_pos'],\n",
       "      dtype='object')"
      ]
     },
     "execution_count": 5,
     "metadata": {},
     "output_type": "execute_result"
    }
   ],
   "source": [
    "data_path = os.path.join(DATA_PATH, \"session_speech.csv\")\n",
    "data = pd.read_csv(data_path)\n",
    "data.columns"
   ]
  },
  {
   "cell_type": "code",
   "execution_count": 6,
   "metadata": {},
   "outputs": [
    {
     "data": {
      "text/html": [
       "<div>\n",
       "<style scoped>\n",
       "    .dataframe tbody tr th:only-of-type {\n",
       "        vertical-align: middle;\n",
       "    }\n",
       "\n",
       "    .dataframe tbody tr th {\n",
       "        vertical-align: top;\n",
       "    }\n",
       "\n",
       "    .dataframe thead th {\n",
       "        text-align: right;\n",
       "    }\n",
       "</style>\n",
       "<table border=\"1\" class=\"dataframe\">\n",
       "  <thead>\n",
       "    <tr style=\"text-align: right;\">\n",
       "      <th></th>\n",
       "      <th>name</th>\n",
       "      <th>vote</th>\n",
       "      <th>senator</th>\n",
       "      <th>province</th>\n",
       "      <th>party</th>\n",
       "      <th>party_family</th>\n",
       "      <th>speaker</th>\n",
       "      <th>speech</th>\n",
       "      <th>speech_preprocessed</th>\n",
       "      <th>speech_lemmas</th>\n",
       "      <th>speech_pos</th>\n",
       "    </tr>\n",
       "  </thead>\n",
       "  <tbody>\n",
       "    <tr>\n",
       "      <th>0</th>\n",
       "      <td>Ana Claudia Almirón</td>\n",
       "      <td>positivo</td>\n",
       "      <td>ALMIRÓN ANA CLAUDIA</td>\n",
       "      <td>CORRIENTES</td>\n",
       "      <td>ALIANZA FRENTE PARA LA VICTORIA</td>\n",
       "      <td>Frente para la victoria</td>\n",
       "      <td>Almirón</td>\n",
       "      <td>Hace dos años, tuvimos una sesión histórica cu...</td>\n",
       "      <td>hace dos años tuvimos una sesión histórica cua...</td>\n",
       "      <td>hacer año tener una sesión histórica cuando de...</td>\n",
       "      <td>VERB NOUN VERB DET NOUN ADJ SCONJ VERB ADP ADJ...</td>\n",
       "    </tr>\n",
       "    <tr>\n",
       "      <th>1</th>\n",
       "      <td>Roberto Gustavo Basualdo</td>\n",
       "      <td>negativo</td>\n",
       "      <td>BASUALDO ROBERTO GUSTAVO</td>\n",
       "      <td>SAN JUAN</td>\n",
       "      <td>ALIANZA CAMBIEMOS SAN JUAN</td>\n",
       "      <td>Juntos por el cambio</td>\n",
       "      <td>Basualdo</td>\n",
       "      <td>Gracias, señor presidente. Hoy es un día en el...</td>\n",
       "      <td>gracias señor presidente hoy es un día en el q...</td>\n",
       "      <td>gracia señor presidente hoy ser un día en el q...</td>\n",
       "      <td>NOUN NOUN NOUN ADV VERB DET NOUN ADP DET SCONJ...</td>\n",
       "    </tr>\n",
       "  </tbody>\n",
       "</table>\n",
       "</div>"
      ],
      "text/plain": [
       "                       name      vote                   senator    province  \\\n",
       "0       Ana Claudia Almirón  positivo       ALMIRÓN ANA CLAUDIA  CORRIENTES   \n",
       "1  Roberto Gustavo Basualdo  negativo  BASUALDO ROBERTO GUSTAVO    SAN JUAN   \n",
       "\n",
       "                             party             party_family   speaker  \\\n",
       "0  ALIANZA FRENTE PARA LA VICTORIA  Frente para la victoria   Almirón   \n",
       "1       ALIANZA CAMBIEMOS SAN JUAN     Juntos por el cambio  Basualdo   \n",
       "\n",
       "                                              speech  \\\n",
       "0  Hace dos años, tuvimos una sesión histórica cu...   \n",
       "1  Gracias, señor presidente. Hoy es un día en el...   \n",
       "\n",
       "                                 speech_preprocessed  \\\n",
       "0  hace dos años tuvimos una sesión histórica cua...   \n",
       "1  gracias señor presidente hoy es un día en el q...   \n",
       "\n",
       "                                       speech_lemmas  \\\n",
       "0  hacer año tener una sesión histórica cuando de...   \n",
       "1  gracia señor presidente hoy ser un día en el q...   \n",
       "\n",
       "                                          speech_pos  \n",
       "0  VERB NOUN VERB DET NOUN ADJ SCONJ VERB ADP ADJ...  \n",
       "1  NOUN NOUN NOUN ADV VERB DET NOUN ADP DET SCONJ...  "
      ]
     },
     "execution_count": 6,
     "metadata": {},
     "output_type": "execute_result"
    }
   ],
   "source": [
    "data.head(2)"
   ]
  },
  {
   "cell_type": "code",
   "execution_count": 7,
   "metadata": {},
   "outputs": [
    {
     "data": {
      "text/plain": [
       "(199, 11)"
      ]
     },
     "execution_count": 7,
     "metadata": {},
     "output_type": "execute_result"
    }
   ],
   "source": [
    "data = (\n",
    "    data[(data.speech.notna()) & (~data.vote.isin([\"abstención\", \"ausente\"]))]\n",
    "    .reset_index(drop=True)\n",
    ")\n",
    "data.shape"
   ]
  },
  {
   "cell_type": "code",
   "execution_count": 8,
   "metadata": {},
   "outputs": [
    {
     "data": {
      "text/plain": [
       "vote\n",
       "positivo    0.557789\n",
       "negativo    0.442211\n",
       "Name: proportion, dtype: float64"
      ]
     },
     "execution_count": 8,
     "metadata": {},
     "output_type": "execute_result"
    }
   ],
   "source": [
    "data.vote.value_counts(normalize=True)"
   ]
  },
  {
   "cell_type": "markdown",
   "metadata": {},
   "source": [
    "## Separación en _train_ y _test_"
   ]
  },
  {
   "cell_type": "code",
   "execution_count": 9,
   "metadata": {},
   "outputs": [],
   "source": [
    "X_train_index, X_test_index = train_test_split(\n",
    "    data.index,\n",
    "    test_size=.2,\n",
    "    random_state=6300,\n",
    "    shuffle=True,\n",
    "    stratify=data.vote\n",
    ")"
   ]
  },
  {
   "cell_type": "code",
   "execution_count": 10,
   "metadata": {},
   "outputs": [
    {
     "name": "stdout",
     "output_type": "stream",
     "text": [
      "** Cantidad de datos en conjunto de entrenamiento: 159\n",
      "** Distribución de la variable target:\n",
      "          proportion\n",
      "vote                \n",
      "positivo    0.559748\n",
      "negativo    0.440252\n",
      "\n",
      "** Cantidad de datos en conjunto de testeo: 40\n",
      "** Distribución de la variable target:\n",
      "          proportion\n",
      "vote                \n",
      "positivo        0.55\n",
      "negativo        0.45\n",
      "\n"
     ]
    }
   ],
   "source": [
    "for index, name in zip([X_train_index, X_test_index], [\"entrenamiento\", \"testeo\"]):\n",
    "    print(f\"** Cantidad de datos en conjunto de {name}: {index.shape[0]}\")\n",
    "    print(\"** Distribución de la variable target:\")\n",
    "    print(f\"{data.loc[index, 'vote'].value_counts(normalize=True).to_frame()}\", end=\"\\n\\n\")"
   ]
  },
  {
   "cell_type": "code",
   "execution_count": 20,
   "metadata": {},
   "outputs": [],
   "source": [
    "INDEX = os.path.join(MODELS_PATH, \"index\")\n",
    "os.makedirs(INDEX, exist_ok=True)\n",
    "\n",
    "for file in [\"X_train_index\", \"X_test_index\"]:\n",
    "    dataset = eval(file)\n",
    "    dataset.to_series().to_csv(os.path.join(INDEX, f\"{file}.csv\"), header=None, index=False)"
   ]
  },
  {
   "cell_type": "markdown",
   "metadata": {},
   "source": [
    "## _Encoding_ de variables"
   ]
  },
  {
   "cell_type": "code",
   "execution_count": 84,
   "metadata": {},
   "outputs": [],
   "source": [
    "VECTORIZERS = os.path.join(MODELS_PATH, \"vectorizers\")\n",
    "os.makedirs(VECTORIZERS, exist_ok=True)"
   ]
  },
  {
   "cell_type": "markdown",
   "metadata": {},
   "source": [
    "### Predictoras"
   ]
  },
  {
   "cell_type": "markdown",
   "metadata": {},
   "source": [
    "#### Etiquetas POS"
   ]
  },
  {
   "cell_type": "markdown",
   "metadata": {},
   "source": [
    "Uso la clase `TfidfVectorizer` de `scikit-learn` porque me permite hacer el cálculo rápidamente.\n",
    "\n",
    "La configuración utilizada permite calcular la frecuencia relativa de cada etiqueta en el documento en cuestión.\n",
    "\n",
    "Solo se utilizan las etiquedas de adejetivos, adverbios, nombres y verbos, aunque el cálculo se realiza considerando el total de las etiquetas."
   ]
  },
  {
   "cell_type": "code",
   "execution_count": 81,
   "metadata": {},
   "outputs": [
    {
     "data": {
      "text/html": [
       "<div>\n",
       "<style scoped>\n",
       "    .dataframe tbody tr th:only-of-type {\n",
       "        vertical-align: middle;\n",
       "    }\n",
       "\n",
       "    .dataframe tbody tr th {\n",
       "        vertical-align: top;\n",
       "    }\n",
       "\n",
       "    .dataframe thead th {\n",
       "        text-align: right;\n",
       "    }\n",
       "</style>\n",
       "<table border=\"1\" class=\"dataframe\">\n",
       "  <thead>\n",
       "    <tr style=\"text-align: right;\">\n",
       "      <th></th>\n",
       "      <th>ADJ</th>\n",
       "      <th>ADV</th>\n",
       "      <th>NOUN</th>\n",
       "      <th>VERB</th>\n",
       "    </tr>\n",
       "  </thead>\n",
       "  <tbody>\n",
       "    <tr>\n",
       "      <th>0</th>\n",
       "      <td>0.108696</td>\n",
       "      <td>0.038043</td>\n",
       "      <td>0.217391</td>\n",
       "      <td>0.168478</td>\n",
       "    </tr>\n",
       "    <tr>\n",
       "      <th>1</th>\n",
       "      <td>0.065022</td>\n",
       "      <td>0.067265</td>\n",
       "      <td>0.217489</td>\n",
       "      <td>0.186099</td>\n",
       "    </tr>\n",
       "    <tr>\n",
       "      <th>2</th>\n",
       "      <td>0.000000</td>\n",
       "      <td>0.000000</td>\n",
       "      <td>0.666667</td>\n",
       "      <td>0.000000</td>\n",
       "    </tr>\n",
       "    <tr>\n",
       "      <th>3</th>\n",
       "      <td>0.094304</td>\n",
       "      <td>0.073763</td>\n",
       "      <td>0.185808</td>\n",
       "      <td>0.167134</td>\n",
       "    </tr>\n",
       "    <tr>\n",
       "      <th>4</th>\n",
       "      <td>0.100000</td>\n",
       "      <td>0.000000</td>\n",
       "      <td>0.400000</td>\n",
       "      <td>0.100000</td>\n",
       "    </tr>\n",
       "  </tbody>\n",
       "</table>\n",
       "</div>"
      ],
      "text/plain": [
       "        ADJ       ADV      NOUN      VERB\n",
       "0  0.108696  0.038043  0.217391  0.168478\n",
       "1  0.065022  0.067265  0.217489  0.186099\n",
       "2  0.000000  0.000000  0.666667  0.000000\n",
       "3  0.094304  0.073763  0.185808  0.167134\n",
       "4  0.100000  0.000000  0.400000  0.100000"
      ]
     },
     "execution_count": 81,
     "metadata": {},
     "output_type": "execute_result"
    }
   ],
   "source": [
    "pos_vectorizer = TfidfVectorizer(\n",
    "    norm=\"l1\", use_idf=False, smooth_idf=False, sublinear_tf=False\n",
    ")\n",
    "X = pos_vectorizer.fit_transform(data.loc[X_train_index, \"speech_pos\"])\n",
    "pos = (\n",
    "    pd.DataFrame(X.toarray(), columns=map(str.upper, pos_vectorizer.get_feature_names_out()))\n",
    "    [[\"ADJ\", \"ADV\", \"NOUN\", \"VERB\"]]\n",
    ")\n",
    "pos.head()"
   ]
  },
  {
   "cell_type": "code",
   "execution_count": 96,
   "metadata": {},
   "outputs": [],
   "source": [
    "pos_vectorizer_path = os.path.join(VECTORIZERS, \"pos_vectorizer.pkl\")\n",
    "_ = joblib.dump(pos_vectorizer, pos_vectorizer_path, compress=True)"
   ]
  },
  {
   "cell_type": "markdown",
   "metadata": {},
   "source": [
    "#### Lemmas"
   ]
  },
  {
   "cell_type": "code",
   "execution_count": null,
   "metadata": {},
   "outputs": [],
   "source": [
    "STATS = os.path.join(VISUALIZATIONS_PATH, \"stats\")"
   ]
  },
  {
   "cell_type": "markdown",
   "metadata": {},
   "source": [
    "##### Proporciones sin _stopwords_ (Zipf)"
   ]
  },
  {
   "cell_type": "code",
   "execution_count": 73,
   "metadata": {},
   "outputs": [
    {
     "data": {
      "text/html": [
       "<div>\n",
       "<style scoped>\n",
       "    .dataframe tbody tr th:only-of-type {\n",
       "        vertical-align: middle;\n",
       "    }\n",
       "\n",
       "    .dataframe tbody tr th {\n",
       "        vertical-align: top;\n",
       "    }\n",
       "\n",
       "    .dataframe thead th {\n",
       "        text-align: right;\n",
       "    }\n",
       "</style>\n",
       "<table border=\"1\" class=\"dataframe\">\n",
       "  <thead>\n",
       "    <tr style=\"text-align: right;\">\n",
       "      <th></th>\n",
       "      <th>word</th>\n",
       "      <th>total</th>\n",
       "      <th>diff</th>\n",
       "      <th>pos</th>\n",
       "      <th>neg</th>\n",
       "    </tr>\n",
       "  </thead>\n",
       "  <tbody>\n",
       "    <tr>\n",
       "      <th>0</th>\n",
       "      <td>abajo</td>\n",
       "      <td>0.693147</td>\n",
       "      <td>-0.000031</td>\n",
       "      <td>0.000039</td>\n",
       "      <td>0.00007</td>\n",
       "    </tr>\n",
       "    <tr>\n",
       "      <th>1</th>\n",
       "      <td>abandonada</td>\n",
       "      <td>0.000000</td>\n",
       "      <td>0.000039</td>\n",
       "      <td>0.000039</td>\n",
       "      <td>0.00000</td>\n",
       "    </tr>\n",
       "    <tr>\n",
       "      <th>2</th>\n",
       "      <td>abandonado</td>\n",
       "      <td>0.000000</td>\n",
       "      <td>0.000039</td>\n",
       "      <td>0.000039</td>\n",
       "      <td>0.00000</td>\n",
       "    </tr>\n",
       "    <tr>\n",
       "      <th>3</th>\n",
       "      <td>abandonar</td>\n",
       "      <td>0.000000</td>\n",
       "      <td>-0.000070</td>\n",
       "      <td>0.000000</td>\n",
       "      <td>0.00007</td>\n",
       "    </tr>\n",
       "    <tr>\n",
       "      <th>4</th>\n",
       "      <td>abandono</td>\n",
       "      <td>0.000000</td>\n",
       "      <td>-0.000070</td>\n",
       "      <td>0.000000</td>\n",
       "      <td>0.00007</td>\n",
       "    </tr>\n",
       "  </tbody>\n",
       "</table>\n",
       "</div>"
      ],
      "text/plain": [
       "         word     total      diff       pos      neg\n",
       "0       abajo  0.693147 -0.000031  0.000039  0.00007\n",
       "1  abandonada  0.000000  0.000039  0.000039  0.00000\n",
       "2  abandonado  0.000000  0.000039  0.000039  0.00000\n",
       "3   abandonar  0.000000 -0.000070  0.000000  0.00007\n",
       "4    abandono  0.000000 -0.000070  0.000000  0.00007"
      ]
     },
     "execution_count": 73,
     "metadata": {},
     "output_type": "execute_result"
    }
   ],
   "source": [
    "proportions = pd.read_csv(os.path.join(STATS, \"proporciones_sin_stopwords_zipf.csv\"))\n",
    "proportions.head()"
   ]
  },
  {
   "cell_type": "code",
   "execution_count": 74,
   "metadata": {},
   "outputs": [],
   "source": [
    "proportions_pos_words = (\n",
    "    proportions.nlargest(n=250, columns=[\"diff\"], keep=\"all\").word.to_list()\n",
    ")\n",
    "proportions_neg_words = (\n",
    "    proportions.nsmallest(n=250, columns=[\"diff\"], keep=\"all\").word.to_list()\n",
    ")"
   ]
  },
  {
   "cell_type": "code",
   "execution_count": 75,
   "metadata": {},
   "outputs": [
    {
     "data": {
      "text/plain": [
       "505"
      ]
     },
     "execution_count": 75,
     "metadata": {},
     "output_type": "execute_result"
    }
   ],
   "source": [
    "# cantidad de rasgos\n",
    "proportions_words = proportions_pos_words+proportions_neg_words\n",
    "len(proportions_words)"
   ]
  },
  {
   "cell_type": "code",
   "execution_count": 93,
   "metadata": {},
   "outputs": [
    {
     "data": {
      "text/html": [
       "<div>\n",
       "<style scoped>\n",
       "    .dataframe tbody tr th:only-of-type {\n",
       "        vertical-align: middle;\n",
       "    }\n",
       "\n",
       "    .dataframe tbody tr th {\n",
       "        vertical-align: top;\n",
       "    }\n",
       "\n",
       "    .dataframe thead th {\n",
       "        text-align: right;\n",
       "    }\n",
       "</style>\n",
       "<table border=\"1\" class=\"dataframe\">\n",
       "  <thead>\n",
       "    <tr style=\"text-align: right;\">\n",
       "      <th></th>\n",
       "      <th>embarazo</th>\n",
       "      <th>decidir</th>\n",
       "      <th>sociedad</th>\n",
       "      <th>esa</th>\n",
       "      <th>debate</th>\n",
       "      <th>seguir</th>\n",
       "      <th>abortar</th>\n",
       "      <th>decisión</th>\n",
       "      <th>estado</th>\n",
       "      <th>clandestinidad</th>\n",
       "      <th>...</th>\n",
       "      <th>presentación</th>\n",
       "      <th>respaldo</th>\n",
       "      <th>rey</th>\n",
       "      <th>supresión</th>\n",
       "      <th>técnico</th>\n",
       "      <th>ministro</th>\n",
       "      <th>organismo</th>\n",
       "      <th>resto</th>\n",
       "      <th>utilizar</th>\n",
       "      <th>veto</th>\n",
       "    </tr>\n",
       "  </thead>\n",
       "  <tbody>\n",
       "    <tr>\n",
       "      <th>0</th>\n",
       "      <td>0</td>\n",
       "      <td>0</td>\n",
       "      <td>0</td>\n",
       "      <td>0</td>\n",
       "      <td>0</td>\n",
       "      <td>0</td>\n",
       "      <td>0</td>\n",
       "      <td>0</td>\n",
       "      <td>4</td>\n",
       "      <td>0</td>\n",
       "      <td>...</td>\n",
       "      <td>0</td>\n",
       "      <td>0</td>\n",
       "      <td>0</td>\n",
       "      <td>0</td>\n",
       "      <td>0</td>\n",
       "      <td>0</td>\n",
       "      <td>0</td>\n",
       "      <td>0</td>\n",
       "      <td>0</td>\n",
       "      <td>0</td>\n",
       "    </tr>\n",
       "    <tr>\n",
       "      <th>1</th>\n",
       "      <td>0</td>\n",
       "      <td>1</td>\n",
       "      <td>0</td>\n",
       "      <td>0</td>\n",
       "      <td>2</td>\n",
       "      <td>0</td>\n",
       "      <td>0</td>\n",
       "      <td>1</td>\n",
       "      <td>0</td>\n",
       "      <td>0</td>\n",
       "      <td>...</td>\n",
       "      <td>0</td>\n",
       "      <td>0</td>\n",
       "      <td>0</td>\n",
       "      <td>0</td>\n",
       "      <td>0</td>\n",
       "      <td>0</td>\n",
       "      <td>0</td>\n",
       "      <td>0</td>\n",
       "      <td>0</td>\n",
       "      <td>2</td>\n",
       "    </tr>\n",
       "    <tr>\n",
       "      <th>2</th>\n",
       "      <td>0</td>\n",
       "      <td>0</td>\n",
       "      <td>0</td>\n",
       "      <td>0</td>\n",
       "      <td>0</td>\n",
       "      <td>0</td>\n",
       "      <td>0</td>\n",
       "      <td>0</td>\n",
       "      <td>0</td>\n",
       "      <td>0</td>\n",
       "      <td>...</td>\n",
       "      <td>0</td>\n",
       "      <td>0</td>\n",
       "      <td>0</td>\n",
       "      <td>0</td>\n",
       "      <td>0</td>\n",
       "      <td>0</td>\n",
       "      <td>0</td>\n",
       "      <td>0</td>\n",
       "      <td>0</td>\n",
       "      <td>0</td>\n",
       "    </tr>\n",
       "    <tr>\n",
       "      <th>3</th>\n",
       "      <td>8</td>\n",
       "      <td>0</td>\n",
       "      <td>0</td>\n",
       "      <td>2</td>\n",
       "      <td>0</td>\n",
       "      <td>0</td>\n",
       "      <td>0</td>\n",
       "      <td>0</td>\n",
       "      <td>10</td>\n",
       "      <td>1</td>\n",
       "      <td>...</td>\n",
       "      <td>0</td>\n",
       "      <td>0</td>\n",
       "      <td>0</td>\n",
       "      <td>0</td>\n",
       "      <td>0</td>\n",
       "      <td>0</td>\n",
       "      <td>0</td>\n",
       "      <td>0</td>\n",
       "      <td>0</td>\n",
       "      <td>0</td>\n",
       "    </tr>\n",
       "    <tr>\n",
       "      <th>4</th>\n",
       "      <td>0</td>\n",
       "      <td>0</td>\n",
       "      <td>0</td>\n",
       "      <td>0</td>\n",
       "      <td>0</td>\n",
       "      <td>0</td>\n",
       "      <td>0</td>\n",
       "      <td>0</td>\n",
       "      <td>0</td>\n",
       "      <td>0</td>\n",
       "      <td>...</td>\n",
       "      <td>0</td>\n",
       "      <td>0</td>\n",
       "      <td>0</td>\n",
       "      <td>0</td>\n",
       "      <td>0</td>\n",
       "      <td>0</td>\n",
       "      <td>0</td>\n",
       "      <td>0</td>\n",
       "      <td>0</td>\n",
       "      <td>0</td>\n",
       "    </tr>\n",
       "  </tbody>\n",
       "</table>\n",
       "<p>5 rows × 505 columns</p>\n",
       "</div>"
      ],
      "text/plain": [
       "   embarazo  decidir  sociedad  esa  debate  seguir  abortar  decisión  \\\n",
       "0         0        0         0    0       0       0        0         0   \n",
       "1         0        1         0    0       2       0        0         1   \n",
       "2         0        0         0    0       0       0        0         0   \n",
       "3         8        0         0    2       0       0        0         0   \n",
       "4         0        0         0    0       0       0        0         0   \n",
       "\n",
       "   estado  clandestinidad  ...  presentación  respaldo  rey  supresión  \\\n",
       "0       4               0  ...             0         0    0          0   \n",
       "1       0               0  ...             0         0    0          0   \n",
       "2       0               0  ...             0         0    0          0   \n",
       "3      10               1  ...             0         0    0          0   \n",
       "4       0               0  ...             0         0    0          0   \n",
       "\n",
       "   técnico  ministro  organismo  resto  utilizar  veto  \n",
       "0        0         0          0      0         0     0  \n",
       "1        0         0          0      0         0     2  \n",
       "2        0         0          0      0         0     0  \n",
       "3        0         0          0      0         0     0  \n",
       "4        0         0          0      0         0     0  \n",
       "\n",
       "[5 rows x 505 columns]"
      ]
     },
     "execution_count": 93,
     "metadata": {},
     "output_type": "execute_result"
    }
   ],
   "source": [
    "proportions_vectorizer = CountVectorizer(\n",
    "    vocabulary=proportions_words\n",
    ")\n",
    "X = proportions_vectorizer.fit_transform(data.loc[X_train_index, \"speech_lemmas\"])\n",
    "proportions_lemmas = (\n",
    "    pd\n",
    "    .DataFrame(\n",
    "        X.toarray(),\n",
    "        columns=proportions_vectorizer.get_feature_names_out()\n",
    "    )\n",
    ")\n",
    "proportions_lemmas.head()"
   ]
  },
  {
   "cell_type": "code",
   "execution_count": 97,
   "metadata": {},
   "outputs": [],
   "source": [
    "proportions_vectorizer_path = os.path.join(VECTORIZERS, \"proportions_vectorizer.pkl\")\n",
    "_ = joblib.dump(proportions_vectorizer, proportions_vectorizer_path, compress=True)"
   ]
  },
  {
   "cell_type": "markdown",
   "metadata": {},
   "source": [
    "##### Ratio de _log-odds_"
   ]
  },
  {
   "cell_type": "code",
   "execution_count": 76,
   "metadata": {},
   "outputs": [
    {
     "data": {
      "text/html": [
       "<div>\n",
       "<style scoped>\n",
       "    .dataframe tbody tr th:only-of-type {\n",
       "        vertical-align: middle;\n",
       "    }\n",
       "\n",
       "    .dataframe tbody tr th {\n",
       "        vertical-align: top;\n",
       "    }\n",
       "\n",
       "    .dataframe thead th {\n",
       "        text-align: right;\n",
       "    }\n",
       "</style>\n",
       "<table border=\"1\" class=\"dataframe\">\n",
       "  <thead>\n",
       "    <tr style=\"text-align: right;\">\n",
       "      <th></th>\n",
       "      <th>word</th>\n",
       "      <th>total</th>\n",
       "      <th>diff</th>\n",
       "      <th>pos</th>\n",
       "      <th>neg</th>\n",
       "    </tr>\n",
       "  </thead>\n",
       "  <tbody>\n",
       "    <tr>\n",
       "      <th>0</th>\n",
       "      <td>abajo</td>\n",
       "      <td>0.693147</td>\n",
       "      <td>-0.615795</td>\n",
       "      <td>0.000019</td>\n",
       "      <td>0.000035</td>\n",
       "    </tr>\n",
       "    <tr>\n",
       "      <th>1</th>\n",
       "      <td>abandonada</td>\n",
       "      <td>0.000000</td>\n",
       "      <td>inf</td>\n",
       "      <td>0.000019</td>\n",
       "      <td>0.000000</td>\n",
       "    </tr>\n",
       "    <tr>\n",
       "      <th>2</th>\n",
       "      <td>abandonado</td>\n",
       "      <td>0.000000</td>\n",
       "      <td>inf</td>\n",
       "      <td>0.000019</td>\n",
       "      <td>0.000000</td>\n",
       "    </tr>\n",
       "    <tr>\n",
       "      <th>3</th>\n",
       "      <td>abandonar</td>\n",
       "      <td>0.000000</td>\n",
       "      <td>-inf</td>\n",
       "      <td>0.000000</td>\n",
       "      <td>0.000035</td>\n",
       "    </tr>\n",
       "    <tr>\n",
       "      <th>4</th>\n",
       "      <td>abandono</td>\n",
       "      <td>0.000000</td>\n",
       "      <td>-inf</td>\n",
       "      <td>0.000000</td>\n",
       "      <td>0.000035</td>\n",
       "    </tr>\n",
       "  </tbody>\n",
       "</table>\n",
       "</div>"
      ],
      "text/plain": [
       "         word     total      diff       pos       neg\n",
       "0       abajo  0.693147 -0.615795  0.000019  0.000035\n",
       "1  abandonada  0.000000       inf  0.000019  0.000000\n",
       "2  abandonado  0.000000       inf  0.000019  0.000000\n",
       "3   abandonar  0.000000      -inf  0.000000  0.000035\n",
       "4    abandono  0.000000      -inf  0.000000  0.000035"
      ]
     },
     "execution_count": 76,
     "metadata": {},
     "output_type": "execute_result"
    }
   ],
   "source": [
    "log_odds = pd.read_csv(os.path.join(STATS, \"log_odds.csv\"))\n",
    "log_odds.head()"
   ]
  },
  {
   "cell_type": "code",
   "execution_count": 77,
   "metadata": {},
   "outputs": [
    {
     "data": {
      "text/plain": [
       "(4781, 5)"
      ]
     },
     "execution_count": 77,
     "metadata": {},
     "output_type": "execute_result"
    }
   ],
   "source": [
    "log_odds.shape"
   ]
  },
  {
   "cell_type": "code",
   "execution_count": 78,
   "metadata": {},
   "outputs": [
    {
     "data": {
      "text/plain": [
       "(1881, 5)"
      ]
     },
     "execution_count": 78,
     "metadata": {},
     "output_type": "execute_result"
    }
   ],
   "source": [
    "log_odds_not_inf = log_odds[~log_odds[\"diff\"].isin([math.inf, -math.inf])]\n",
    "log_odds_not_inf.shape"
   ]
  },
  {
   "cell_type": "code",
   "execution_count": 79,
   "metadata": {},
   "outputs": [],
   "source": [
    "logodds_pos_words = (\n",
    "    log_odds_not_inf.nlargest(n=200, columns=[\"diff\", \"total\"], keep=\"all\").word.to_list()\n",
    ")\n",
    "logodds_neg_words = (\n",
    "    log_odds_not_inf.nsmallest(n=200, columns=[\"diff\", \"total\"], keep=\"all\") .word.to_list()\n",
    ")"
   ]
  },
  {
   "cell_type": "code",
   "execution_count": 80,
   "metadata": {},
   "outputs": [
    {
     "data": {
      "text/plain": [
       "480"
      ]
     },
     "execution_count": 80,
     "metadata": {},
     "output_type": "execute_result"
    }
   ],
   "source": [
    "# cantidad de rasgos\n",
    "logodds_words = logodds_pos_words+logodds_neg_words\n",
    "len(logodds_words)"
   ]
  },
  {
   "cell_type": "code",
   "execution_count": 99,
   "metadata": {},
   "outputs": [
    {
     "data": {
      "text/html": [
       "<div>\n",
       "<style scoped>\n",
       "    .dataframe tbody tr th:only-of-type {\n",
       "        vertical-align: middle;\n",
       "    }\n",
       "\n",
       "    .dataframe tbody tr th {\n",
       "        vertical-align: top;\n",
       "    }\n",
       "\n",
       "    .dataframe thead th {\n",
       "        text-align: right;\n",
       "    }\n",
       "</style>\n",
       "<table border=\"1\" class=\"dataframe\">\n",
       "  <thead>\n",
       "    <tr style=\"text-align: right;\">\n",
       "      <th></th>\n",
       "      <th>banca</th>\n",
       "      <th>varón</th>\n",
       "      <th>lucha</th>\n",
       "      <th>maternidad</th>\n",
       "      <th>compañera</th>\n",
       "      <th>siglo</th>\n",
       "      <th>abortar</th>\n",
       "      <th>gestar</th>\n",
       "      <th>criminalización</th>\n",
       "      <th>colectivo</th>\n",
       "      <th>...</th>\n",
       "      <th>tono</th>\n",
       "      <th>tradición</th>\n",
       "      <th>transmisión</th>\n",
       "      <th>tremendamente</th>\n",
       "      <th>vacunación</th>\n",
       "      <th>velocidad</th>\n",
       "      <th>verdadero</th>\n",
       "      <th>vestidura</th>\n",
       "      <th>ángela</th>\n",
       "      <th>énfasis</th>\n",
       "    </tr>\n",
       "  </thead>\n",
       "  <tbody>\n",
       "    <tr>\n",
       "      <th>0</th>\n",
       "      <td>0</td>\n",
       "      <td>0</td>\n",
       "      <td>0</td>\n",
       "      <td>0</td>\n",
       "      <td>0</td>\n",
       "      <td>0</td>\n",
       "      <td>0</td>\n",
       "      <td>0</td>\n",
       "      <td>0</td>\n",
       "      <td>0</td>\n",
       "      <td>...</td>\n",
       "      <td>0</td>\n",
       "      <td>0</td>\n",
       "      <td>0</td>\n",
       "      <td>0</td>\n",
       "      <td>0</td>\n",
       "      <td>0</td>\n",
       "      <td>0</td>\n",
       "      <td>0</td>\n",
       "      <td>0</td>\n",
       "      <td>0</td>\n",
       "    </tr>\n",
       "    <tr>\n",
       "      <th>1</th>\n",
       "      <td>0</td>\n",
       "      <td>0</td>\n",
       "      <td>0</td>\n",
       "      <td>0</td>\n",
       "      <td>0</td>\n",
       "      <td>0</td>\n",
       "      <td>0</td>\n",
       "      <td>1</td>\n",
       "      <td>0</td>\n",
       "      <td>0</td>\n",
       "      <td>...</td>\n",
       "      <td>0</td>\n",
       "      <td>0</td>\n",
       "      <td>0</td>\n",
       "      <td>0</td>\n",
       "      <td>0</td>\n",
       "      <td>0</td>\n",
       "      <td>0</td>\n",
       "      <td>0</td>\n",
       "      <td>0</td>\n",
       "      <td>0</td>\n",
       "    </tr>\n",
       "    <tr>\n",
       "      <th>2</th>\n",
       "      <td>0</td>\n",
       "      <td>0</td>\n",
       "      <td>0</td>\n",
       "      <td>0</td>\n",
       "      <td>0</td>\n",
       "      <td>0</td>\n",
       "      <td>0</td>\n",
       "      <td>0</td>\n",
       "      <td>0</td>\n",
       "      <td>0</td>\n",
       "      <td>...</td>\n",
       "      <td>0</td>\n",
       "      <td>0</td>\n",
       "      <td>0</td>\n",
       "      <td>0</td>\n",
       "      <td>0</td>\n",
       "      <td>0</td>\n",
       "      <td>0</td>\n",
       "      <td>0</td>\n",
       "      <td>0</td>\n",
       "      <td>0</td>\n",
       "    </tr>\n",
       "    <tr>\n",
       "      <th>3</th>\n",
       "      <td>0</td>\n",
       "      <td>0</td>\n",
       "      <td>0</td>\n",
       "      <td>0</td>\n",
       "      <td>0</td>\n",
       "      <td>0</td>\n",
       "      <td>0</td>\n",
       "      <td>0</td>\n",
       "      <td>0</td>\n",
       "      <td>0</td>\n",
       "      <td>...</td>\n",
       "      <td>0</td>\n",
       "      <td>0</td>\n",
       "      <td>0</td>\n",
       "      <td>0</td>\n",
       "      <td>0</td>\n",
       "      <td>0</td>\n",
       "      <td>0</td>\n",
       "      <td>0</td>\n",
       "      <td>0</td>\n",
       "      <td>0</td>\n",
       "    </tr>\n",
       "    <tr>\n",
       "      <th>4</th>\n",
       "      <td>0</td>\n",
       "      <td>0</td>\n",
       "      <td>0</td>\n",
       "      <td>0</td>\n",
       "      <td>0</td>\n",
       "      <td>0</td>\n",
       "      <td>0</td>\n",
       "      <td>0</td>\n",
       "      <td>0</td>\n",
       "      <td>0</td>\n",
       "      <td>...</td>\n",
       "      <td>0</td>\n",
       "      <td>0</td>\n",
       "      <td>0</td>\n",
       "      <td>0</td>\n",
       "      <td>0</td>\n",
       "      <td>0</td>\n",
       "      <td>0</td>\n",
       "      <td>0</td>\n",
       "      <td>0</td>\n",
       "      <td>0</td>\n",
       "    </tr>\n",
       "  </tbody>\n",
       "</table>\n",
       "<p>5 rows × 480 columns</p>\n",
       "</div>"
      ],
      "text/plain": [
       "   banca  varón  lucha  maternidad  compañera  siglo  abortar  gestar  \\\n",
       "0      0      0      0           0          0      0        0       0   \n",
       "1      0      0      0           0          0      0        0       1   \n",
       "2      0      0      0           0          0      0        0       0   \n",
       "3      0      0      0           0          0      0        0       0   \n",
       "4      0      0      0           0          0      0        0       0   \n",
       "\n",
       "   criminalización  colectivo  ...  tono  tradición  transmisión  \\\n",
       "0                0          0  ...     0          0            0   \n",
       "1                0          0  ...     0          0            0   \n",
       "2                0          0  ...     0          0            0   \n",
       "3                0          0  ...     0          0            0   \n",
       "4                0          0  ...     0          0            0   \n",
       "\n",
       "   tremendamente  vacunación  velocidad  verdadero  vestidura  ángela  énfasis  \n",
       "0              0           0          0          0          0       0        0  \n",
       "1              0           0          0          0          0       0        0  \n",
       "2              0           0          0          0          0       0        0  \n",
       "3              0           0          0          0          0       0        0  \n",
       "4              0           0          0          0          0       0        0  \n",
       "\n",
       "[5 rows x 480 columns]"
      ]
     },
     "execution_count": 99,
     "metadata": {},
     "output_type": "execute_result"
    }
   ],
   "source": [
    "logodds_vectorizer = CountVectorizer(\n",
    "    vocabulary=logodds_words\n",
    ")\n",
    "X = logodds_vectorizer.fit_transform(data.loc[X_train_index, \"speech_lemmas\"])\n",
    "logodds_lemmas = (\n",
    "    pd\n",
    "    .DataFrame(\n",
    "        X.toarray(),\n",
    "        columns=logodds_vectorizer.get_feature_names_out()\n",
    "    )\n",
    ")\n",
    "logodds_lemmas.head()"
   ]
  },
  {
   "cell_type": "code",
   "execution_count": 101,
   "metadata": {},
   "outputs": [],
   "source": [
    "logodds_vectorizer_path = os.path.join(VECTORIZERS, \"logodds_vectorizer.pkl\")\n",
    "_ = joblib.dump(logodds_vectorizer, logodds_vectorizer_path, compress=True)"
   ]
  },
  {
   "cell_type": "markdown",
   "metadata": {},
   "source": [
    "### Variable _target_"
   ]
  },
  {
   "cell_type": "code",
   "execution_count": 102,
   "metadata": {},
   "outputs": [],
   "source": [
    "le = LabelEncoder()\n",
    "\n",
    "data[\"target\"] = le.fit_transform(data.vote)"
   ]
  },
  {
   "cell_type": "code",
   "execution_count": 103,
   "metadata": {},
   "outputs": [
    {
     "name": "stdout",
     "output_type": "stream",
     "text": [
      "Categoría positivo ---> 1\n",
      "Categoría negativo ---> 0\n"
     ]
    }
   ],
   "source": [
    "for value in data.vote.unique():\n",
    "    print(f\"Categoría {value} ---> {le.transform([value])[0]}\")"
   ]
  },
  {
   "cell_type": "code",
   "execution_count": 105,
   "metadata": {},
   "outputs": [],
   "source": [
    "le_path = os.path.join(MODELS_PATH, \"labelencoder.pkl\")\n",
    "_ = joblib.dump(le, le_path)"
   ]
  }
 ],
 "metadata": {
  "kernelspec": {
   "display_name": "venv",
   "language": "python",
   "name": "python3"
  },
  "language_info": {
   "codemirror_mode": {
    "name": "ipython",
    "version": 3
   },
   "file_extension": ".py",
   "mimetype": "text/x-python",
   "name": "python",
   "nbconvert_exporter": "python",
   "pygments_lexer": "ipython3",
   "version": "3.11.4"
  },
  "orig_nbformat": 4
 },
 "nbformat": 4,
 "nbformat_minor": 2
}
