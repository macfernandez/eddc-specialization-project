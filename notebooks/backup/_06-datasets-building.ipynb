{
 "cells": [
  {
   "cell_type": "markdown",
   "metadata": {},
   "source": [
    "# _Datasets_ de entrenamiento y testeo"
   ]
  },
  {
   "cell_type": "code",
   "execution_count": 1,
   "metadata": {},
   "outputs": [],
   "source": [
    "import math\n",
    "import os\n",
    "\n",
    "import joblib\n",
    "import pandas as pd\n",
    "from sklearn.preprocessing import LabelEncoder\n",
    "from sklearn.feature_extraction.text import CountVectorizer, TfidfVectorizer\n",
    "from sklearn.model_selection import train_test_split\n",
    "\n",
    "from config import DATA_PATH, MODELS_PATH, VISUALIZATIONS_PATH"
   ]
  },
  {
   "cell_type": "code",
   "execution_count": 2,
   "metadata": {},
   "outputs": [],
   "source": [
    "os.makedirs(MODELS_PATH, exist_ok=True)"
   ]
  },
  {
   "cell_type": "code",
   "execution_count": 3,
   "metadata": {},
   "outputs": [
    {
     "data": {
      "text/plain": [
       "Index(['name', 'vote', 'senator', 'province', 'party', 'party_family',\n",
       "       'speaker', 'speech', 'speech_preprocessed', 'speech_lemmas',\n",
       "       'speech_pos', 'speech_lemma_pos', 'speech_preprocessed_count',\n",
       "       'speech_preprocessed_count_unique', 'speech_lemmas_count',\n",
       "       'speech_lemmas_count_unique', 'speech_pos_count',\n",
       "       'speech_pos_count_unique', 'speech_lemma_pos_count_unique'],\n",
       "      dtype='object')"
      ]
     },
     "execution_count": 3,
     "metadata": {},
     "output_type": "execute_result"
    }
   ],
   "source": [
    "data_path = os.path.join(DATA_PATH, \"session_speech.csv\")\n",
    "data = pd.read_csv(data_path, converters={\"speech_lemma_pos\":eval})\n",
    "data.columns"
   ]
  },
  {
   "cell_type": "code",
   "execution_count": 4,
   "metadata": {},
   "outputs": [
    {
     "data": {
      "text/html": [
       "<div>\n",
       "<style scoped>\n",
       "    .dataframe tbody tr th:only-of-type {\n",
       "        vertical-align: middle;\n",
       "    }\n",
       "\n",
       "    .dataframe tbody tr th {\n",
       "        vertical-align: top;\n",
       "    }\n",
       "\n",
       "    .dataframe thead th {\n",
       "        text-align: right;\n",
       "    }\n",
       "</style>\n",
       "<table border=\"1\" class=\"dataframe\">\n",
       "  <thead>\n",
       "    <tr style=\"text-align: right;\">\n",
       "      <th></th>\n",
       "      <th>name</th>\n",
       "      <th>vote</th>\n",
       "      <th>senator</th>\n",
       "      <th>province</th>\n",
       "      <th>party</th>\n",
       "      <th>party_family</th>\n",
       "      <th>speaker</th>\n",
       "      <th>speech</th>\n",
       "      <th>speech_preprocessed</th>\n",
       "      <th>speech_lemmas</th>\n",
       "      <th>speech_pos</th>\n",
       "      <th>speech_lemma_pos</th>\n",
       "      <th>speech_preprocessed_count</th>\n",
       "      <th>speech_preprocessed_count_unique</th>\n",
       "      <th>speech_lemmas_count</th>\n",
       "      <th>speech_lemmas_count_unique</th>\n",
       "      <th>speech_pos_count</th>\n",
       "      <th>speech_pos_count_unique</th>\n",
       "      <th>speech_lemma_pos_count_unique</th>\n",
       "    </tr>\n",
       "  </thead>\n",
       "  <tbody>\n",
       "    <tr>\n",
       "      <th>0</th>\n",
       "      <td>Ana Claudia Almirón</td>\n",
       "      <td>positivo</td>\n",
       "      <td>ALMIRÓN ANA CLAUDIA</td>\n",
       "      <td>CORRIENTES</td>\n",
       "      <td>ALIANZA FRENTE PARA LA VICTORIA</td>\n",
       "      <td>Frente para la victoria</td>\n",
       "      <td>Almirón</td>\n",
       "      <td>Hace dos años, tuvimos una sesión histórica cu...</td>\n",
       "      <td>hace dos años tuvimos una sesión histórica cua...</td>\n",
       "      <td>hacer año tener una sesión histórica cuando de...</td>\n",
       "      <td>VERB NOUN VERB DET NOUN ADJ SCONJ VERB ADP ADJ...</td>\n",
       "      <td>[(hacer, VERB), (año, NOUN), (tener, VERB), (u...</td>\n",
       "      <td>1723</td>\n",
       "      <td>602</td>\n",
       "      <td>1684</td>\n",
       "      <td>459</td>\n",
       "      <td>1684</td>\n",
       "      <td>10</td>\n",
       "      <td>462</td>\n",
       "    </tr>\n",
       "    <tr>\n",
       "      <th>1</th>\n",
       "      <td>Roberto Gustavo Basualdo</td>\n",
       "      <td>negativo</td>\n",
       "      <td>BASUALDO ROBERTO GUSTAVO</td>\n",
       "      <td>SAN JUAN</td>\n",
       "      <td>ALIANZA CAMBIEMOS SAN JUAN</td>\n",
       "      <td>Juntos por el cambio</td>\n",
       "      <td>Basualdo</td>\n",
       "      <td>Gracias, señor presidente. Hoy es un día en el...</td>\n",
       "      <td>gracias señor presidente hoy es un día en el q...</td>\n",
       "      <td>gracia señor presidente hoy ser un día en el q...</td>\n",
       "      <td>NOUN NOUN NOUN ADV VERB DET NOUN ADP DET SCONJ...</td>\n",
       "      <td>[(gracia, NOUN), (señor, NOUN), (presidente, N...</td>\n",
       "      <td>411</td>\n",
       "      <td>187</td>\n",
       "      <td>405</td>\n",
       "      <td>146</td>\n",
       "      <td>405</td>\n",
       "      <td>10</td>\n",
       "      <td>147</td>\n",
       "    </tr>\n",
       "  </tbody>\n",
       "</table>\n",
       "</div>"
      ],
      "text/plain": [
       "                       name      vote                   senator    province  \\\n",
       "0       Ana Claudia Almirón  positivo       ALMIRÓN ANA CLAUDIA  CORRIENTES   \n",
       "1  Roberto Gustavo Basualdo  negativo  BASUALDO ROBERTO GUSTAVO    SAN JUAN   \n",
       "\n",
       "                             party             party_family   speaker  \\\n",
       "0  ALIANZA FRENTE PARA LA VICTORIA  Frente para la victoria   Almirón   \n",
       "1       ALIANZA CAMBIEMOS SAN JUAN     Juntos por el cambio  Basualdo   \n",
       "\n",
       "                                              speech  \\\n",
       "0  Hace dos años, tuvimos una sesión histórica cu...   \n",
       "1  Gracias, señor presidente. Hoy es un día en el...   \n",
       "\n",
       "                                 speech_preprocessed  \\\n",
       "0  hace dos años tuvimos una sesión histórica cua...   \n",
       "1  gracias señor presidente hoy es un día en el q...   \n",
       "\n",
       "                                       speech_lemmas  \\\n",
       "0  hacer año tener una sesión histórica cuando de...   \n",
       "1  gracia señor presidente hoy ser un día en el q...   \n",
       "\n",
       "                                          speech_pos  \\\n",
       "0  VERB NOUN VERB DET NOUN ADJ SCONJ VERB ADP ADJ...   \n",
       "1  NOUN NOUN NOUN ADV VERB DET NOUN ADP DET SCONJ...   \n",
       "\n",
       "                                    speech_lemma_pos  \\\n",
       "0  [(hacer, VERB), (año, NOUN), (tener, VERB), (u...   \n",
       "1  [(gracia, NOUN), (señor, NOUN), (presidente, N...   \n",
       "\n",
       "   speech_preprocessed_count  speech_preprocessed_count_unique  \\\n",
       "0                       1723                               602   \n",
       "1                        411                               187   \n",
       "\n",
       "   speech_lemmas_count  speech_lemmas_count_unique  speech_pos_count  \\\n",
       "0                 1684                         459              1684   \n",
       "1                  405                         146               405   \n",
       "\n",
       "   speech_pos_count_unique  speech_lemma_pos_count_unique  \n",
       "0                       10                            462  \n",
       "1                       10                            147  "
      ]
     },
     "execution_count": 4,
     "metadata": {},
     "output_type": "execute_result"
    }
   ],
   "source": [
    "data.head(2)"
   ]
  },
  {
   "cell_type": "code",
   "execution_count": 5,
   "metadata": {},
   "outputs": [
    {
     "data": {
      "text/plain": [
       "(199, 19)"
      ]
     },
     "execution_count": 5,
     "metadata": {},
     "output_type": "execute_result"
    }
   ],
   "source": [
    "data = (\n",
    "    data[(data.speech.notna()) & (~data.vote.isin([\"abstención\", \"ausente\"]))]\n",
    "    .reset_index(drop=True)\n",
    ")\n",
    "data.shape"
   ]
  },
  {
   "cell_type": "code",
   "execution_count": 6,
   "metadata": {},
   "outputs": [
    {
     "data": {
      "text/plain": [
       "vote\n",
       "positivo    0.557789\n",
       "negativo    0.442211\n",
       "Name: proportion, dtype: float64"
      ]
     },
     "execution_count": 6,
     "metadata": {},
     "output_type": "execute_result"
    }
   ],
   "source": [
    "data.vote.value_counts(normalize=True)"
   ]
  },
  {
   "cell_type": "markdown",
   "metadata": {},
   "source": [
    "## Separación en _train_ y _test_"
   ]
  },
  {
   "cell_type": "code",
   "execution_count": 7,
   "metadata": {},
   "outputs": [],
   "source": [
    "INDEX = os.path.join(MODELS_PATH, \"index\")\n",
    "\n",
    "X_train_index = (\n",
    "    pd\n",
    "    .read_csv(os.path.join(INDEX, f\"X_train_index.csv\"), header=None, index_col=0)\n",
    "    .index\n",
    ")\n",
    "X_test_index = (\n",
    "    pd\n",
    "    .read_csv(os.path.join(INDEX, f\"X_test_index.csv\"), header=None, index_col=0)\n",
    "    .index\n",
    ")"
   ]
  },
  {
   "cell_type": "code",
   "execution_count": 8,
   "metadata": {},
   "outputs": [
    {
     "name": "stdout",
     "output_type": "stream",
     "text": [
      "** Cantidad de datos en conjunto de entrenamiento: 159\n",
      "** Distribución de la variable target:\n",
      "          proportion\n",
      "vote                \n",
      "positivo    0.559748\n",
      "negativo    0.440252\n",
      "\n",
      "** Cantidad de datos en conjunto de testeo: 40\n",
      "** Distribución de la variable target:\n",
      "          proportion\n",
      "vote                \n",
      "positivo        0.55\n",
      "negativo        0.45\n",
      "\n"
     ]
    }
   ],
   "source": [
    "for index, name in zip([X_train_index, X_test_index], [\"entrenamiento\", \"testeo\"]):\n",
    "    print(f\"** Cantidad de datos en conjunto de {name}: {index.shape[0]}\")\n",
    "    print(\"** Distribución de la variable target:\")\n",
    "    print(f\"{data.loc[index, 'vote'].value_counts(normalize=True).to_frame()}\", end=\"\\n\\n\")"
   ]
  },
  {
   "cell_type": "markdown",
   "metadata": {},
   "source": [
    "## _Encoding_ de variables"
   ]
  },
  {
   "cell_type": "code",
   "execution_count": 9,
   "metadata": {},
   "outputs": [],
   "source": [
    "VECTORIZERS = os.path.join(MODELS_PATH, \"vectorizers\")\n",
    "os.makedirs(VECTORIZERS, exist_ok=True)"
   ]
  },
  {
   "cell_type": "markdown",
   "metadata": {},
   "source": [
    "### Predictoras"
   ]
  },
  {
   "cell_type": "markdown",
   "metadata": {},
   "source": [
    "#### Lemmas: Proporciones sin _stopwords_ (Zipf)"
   ]
  },
  {
   "cell_type": "code",
   "execution_count": 10,
   "metadata": {},
   "outputs": [],
   "source": [
    "STATS = os.path.join(VISUALIZATIONS_PATH, \"stats\")"
   ]
  },
  {
   "cell_type": "code",
   "execution_count": 19,
   "metadata": {},
   "outputs": [
    {
     "data": {
      "text/html": [
       "<div>\n",
       "<style scoped>\n",
       "    .dataframe tbody tr th:only-of-type {\n",
       "        vertical-align: middle;\n",
       "    }\n",
       "\n",
       "    .dataframe tbody tr th {\n",
       "        vertical-align: top;\n",
       "    }\n",
       "\n",
       "    .dataframe thead th {\n",
       "        text-align: right;\n",
       "    }\n",
       "</style>\n",
       "<table border=\"1\" class=\"dataframe\">\n",
       "  <thead>\n",
       "    <tr style=\"text-align: right;\">\n",
       "      <th></th>\n",
       "      <th>word</th>\n",
       "      <th>total</th>\n",
       "      <th>diff</th>\n",
       "      <th>pos</th>\n",
       "      <th>neg</th>\n",
       "    </tr>\n",
       "  </thead>\n",
       "  <tbody>\n",
       "    <tr>\n",
       "      <th>0</th>\n",
       "      <td>abajo_adv</td>\n",
       "      <td>0.0</td>\n",
       "      <td>-0.000117</td>\n",
       "      <td>0.000000</td>\n",
       "      <td>0.000117</td>\n",
       "    </tr>\n",
       "    <tr>\n",
       "      <th>1</th>\n",
       "      <td>abandonada_adj</td>\n",
       "      <td>0.0</td>\n",
       "      <td>0.000062</td>\n",
       "      <td>0.000062</td>\n",
       "      <td>0.000000</td>\n",
       "    </tr>\n",
       "    <tr>\n",
       "      <th>2</th>\n",
       "      <td>abandonado_adj</td>\n",
       "      <td>0.0</td>\n",
       "      <td>0.000062</td>\n",
       "      <td>0.000062</td>\n",
       "      <td>0.000000</td>\n",
       "    </tr>\n",
       "    <tr>\n",
       "      <th>3</th>\n",
       "      <td>abandonar_verb</td>\n",
       "      <td>0.0</td>\n",
       "      <td>-0.000117</td>\n",
       "      <td>0.000000</td>\n",
       "      <td>0.000117</td>\n",
       "    </tr>\n",
       "    <tr>\n",
       "      <th>4</th>\n",
       "      <td>abandono_noun</td>\n",
       "      <td>0.0</td>\n",
       "      <td>-0.000117</td>\n",
       "      <td>0.000000</td>\n",
       "      <td>0.000117</td>\n",
       "    </tr>\n",
       "  </tbody>\n",
       "</table>\n",
       "</div>"
      ],
      "text/plain": [
       "             word  total      diff       pos       neg\n",
       "0       abajo_adv    0.0 -0.000117  0.000000  0.000117\n",
       "1  abandonada_adj    0.0  0.000062  0.000062  0.000000\n",
       "2  abandonado_adj    0.0  0.000062  0.000062  0.000000\n",
       "3  abandonar_verb    0.0 -0.000117  0.000000  0.000117\n",
       "4   abandono_noun    0.0 -0.000117  0.000000  0.000117"
      ]
     },
     "execution_count": 19,
     "metadata": {},
     "output_type": "execute_result"
    }
   ],
   "source": [
    "proportions = pd.read_csv(os.path.join(STATS, \"proporciones_sin_stopwords_zipf.csv\"))\n",
    "proportions.head()"
   ]
  },
  {
   "cell_type": "code",
   "execution_count": 20,
   "metadata": {},
   "outputs": [
    {
     "data": {
      "text/plain": [
       "(4380, 5)"
      ]
     },
     "execution_count": 20,
     "metadata": {},
     "output_type": "execute_result"
    }
   ],
   "source": [
    "proportions.shape"
   ]
  },
  {
   "cell_type": "code",
   "execution_count": 21,
   "metadata": {},
   "outputs": [
    {
     "data": {
      "text/html": [
       "<div>\n",
       "<style scoped>\n",
       "    .dataframe tbody tr th:only-of-type {\n",
       "        vertical-align: middle;\n",
       "    }\n",
       "\n",
       "    .dataframe tbody tr th {\n",
       "        vertical-align: top;\n",
       "    }\n",
       "\n",
       "    .dataframe thead th {\n",
       "        text-align: right;\n",
       "    }\n",
       "</style>\n",
       "<table border=\"1\" class=\"dataframe\">\n",
       "  <thead>\n",
       "    <tr style=\"text-align: right;\">\n",
       "      <th></th>\n",
       "      <th>word</th>\n",
       "      <th>total</th>\n",
       "      <th>diff</th>\n",
       "      <th>pos</th>\n",
       "      <th>neg</th>\n",
       "      <th>group</th>\n",
       "    </tr>\n",
       "  </thead>\n",
       "  <tbody>\n",
       "    <tr>\n",
       "      <th>0</th>\n",
       "      <td>abajo_adv</td>\n",
       "      <td>0.0</td>\n",
       "      <td>-0.000117</td>\n",
       "      <td>0.000000</td>\n",
       "      <td>0.000117</td>\n",
       "      <td>neg</td>\n",
       "    </tr>\n",
       "    <tr>\n",
       "      <th>1</th>\n",
       "      <td>abandonada_adj</td>\n",
       "      <td>0.0</td>\n",
       "      <td>0.000062</td>\n",
       "      <td>0.000062</td>\n",
       "      <td>0.000000</td>\n",
       "      <td>pos</td>\n",
       "    </tr>\n",
       "    <tr>\n",
       "      <th>2</th>\n",
       "      <td>abandonado_adj</td>\n",
       "      <td>0.0</td>\n",
       "      <td>0.000062</td>\n",
       "      <td>0.000062</td>\n",
       "      <td>0.000000</td>\n",
       "      <td>pos</td>\n",
       "    </tr>\n",
       "    <tr>\n",
       "      <th>3</th>\n",
       "      <td>abandonar_verb</td>\n",
       "      <td>0.0</td>\n",
       "      <td>-0.000117</td>\n",
       "      <td>0.000000</td>\n",
       "      <td>0.000117</td>\n",
       "      <td>neg</td>\n",
       "    </tr>\n",
       "    <tr>\n",
       "      <th>4</th>\n",
       "      <td>abandono_noun</td>\n",
       "      <td>0.0</td>\n",
       "      <td>-0.000117</td>\n",
       "      <td>0.000000</td>\n",
       "      <td>0.000117</td>\n",
       "      <td>neg</td>\n",
       "    </tr>\n",
       "  </tbody>\n",
       "</table>\n",
       "</div>"
      ],
      "text/plain": [
       "             word  total      diff       pos       neg group\n",
       "0       abajo_adv    0.0 -0.000117  0.000000  0.000117   neg\n",
       "1  abandonada_adj    0.0  0.000062  0.000062  0.000000   pos\n",
       "2  abandonado_adj    0.0  0.000062  0.000062  0.000000   pos\n",
       "3  abandonar_verb    0.0 -0.000117  0.000000  0.000117   neg\n",
       "4   abandono_noun    0.0 -0.000117  0.000000  0.000117   neg"
      ]
     },
     "execution_count": 21,
     "metadata": {},
     "output_type": "execute_result"
    }
   ],
   "source": [
    "proportions[\"group\"] = proportions[\"diff\"].apply(lambda x:\"pos\" if x>= 0 else \"neg\")\n",
    "proportions.head()"
   ]
  },
  {
   "cell_type": "code",
   "execution_count": 22,
   "metadata": {},
   "outputs": [
    {
     "data": {
      "text/plain": [
       "500"
      ]
     },
     "execution_count": 22,
     "metadata": {},
     "output_type": "execute_result"
    }
   ],
   "source": [
    "proportions_words = list()\n",
    "\n",
    "for key, df in proportions.groupby(\"group\"):\n",
    "    if key == \"neg\":\n",
    "        df.sort_values(by=[\"diff\", key], ascending=[True,False], inplace=True)\n",
    "    else:\n",
    "        df.sort_values(by=[\"diff\", key], ascending=[False,False], inplace=True)\n",
    "    words = df.word.to_list()[:250]\n",
    "    proportions_words.extend(words)\n",
    "\n",
    "len(proportions_words)"
   ]
  },
  {
   "cell_type": "code",
   "execution_count": 23,
   "metadata": {},
   "outputs": [
    {
     "data": {
      "text/html": [
       "<div>\n",
       "<style scoped>\n",
       "    .dataframe tbody tr th:only-of-type {\n",
       "        vertical-align: middle;\n",
       "    }\n",
       "\n",
       "    .dataframe tbody tr th {\n",
       "        vertical-align: top;\n",
       "    }\n",
       "\n",
       "    .dataframe thead th {\n",
       "        text-align: right;\n",
       "    }\n",
       "</style>\n",
       "<table border=\"1\" class=\"dataframe\">\n",
       "  <thead>\n",
       "    <tr style=\"text-align: right;\">\n",
       "      <th></th>\n",
       "      <th>concepción_noun</th>\n",
       "      <th>constitución_propn</th>\n",
       "      <th>artículo_noun</th>\n",
       "      <th>nacer_verb</th>\n",
       "      <th>internacional_adj</th>\n",
       "      <th>persona_noun</th>\n",
       "      <th>convicción_noun</th>\n",
       "      <th>humano_adj</th>\n",
       "      <th>palabra_noun</th>\n",
       "      <th>convención_propn</th>\n",
       "      <th>...</th>\n",
       "      <th>pareja_noun</th>\n",
       "      <th>religioso_adj</th>\n",
       "      <th>sensible_adj</th>\n",
       "      <th>transitar_verb</th>\n",
       "      <th>transversal_adj</th>\n",
       "      <th>uno_adj</th>\n",
       "      <th>varios_adj</th>\n",
       "      <th>e_cconj</th>\n",
       "      <th>solamente_adv</th>\n",
       "      <th>agosto_noun</th>\n",
       "    </tr>\n",
       "  </thead>\n",
       "  <tbody>\n",
       "    <tr>\n",
       "      <th>0</th>\n",
       "      <td>0</td>\n",
       "      <td>0</td>\n",
       "      <td>0</td>\n",
       "      <td>0</td>\n",
       "      <td>0</td>\n",
       "      <td>0</td>\n",
       "      <td>0</td>\n",
       "      <td>0</td>\n",
       "      <td>0</td>\n",
       "      <td>0</td>\n",
       "      <td>...</td>\n",
       "      <td>0</td>\n",
       "      <td>0</td>\n",
       "      <td>0</td>\n",
       "      <td>0</td>\n",
       "      <td>0</td>\n",
       "      <td>0</td>\n",
       "      <td>0</td>\n",
       "      <td>0</td>\n",
       "      <td>0</td>\n",
       "      <td>0</td>\n",
       "    </tr>\n",
       "    <tr>\n",
       "      <th>1</th>\n",
       "      <td>0</td>\n",
       "      <td>3</td>\n",
       "      <td>1</td>\n",
       "      <td>1</td>\n",
       "      <td>0</td>\n",
       "      <td>2</td>\n",
       "      <td>0</td>\n",
       "      <td>0</td>\n",
       "      <td>2</td>\n",
       "      <td>0</td>\n",
       "      <td>...</td>\n",
       "      <td>0</td>\n",
       "      <td>0</td>\n",
       "      <td>0</td>\n",
       "      <td>0</td>\n",
       "      <td>0</td>\n",
       "      <td>0</td>\n",
       "      <td>0</td>\n",
       "      <td>0</td>\n",
       "      <td>0</td>\n",
       "      <td>0</td>\n",
       "    </tr>\n",
       "    <tr>\n",
       "      <th>2</th>\n",
       "      <td>0</td>\n",
       "      <td>0</td>\n",
       "      <td>0</td>\n",
       "      <td>0</td>\n",
       "      <td>0</td>\n",
       "      <td>0</td>\n",
       "      <td>0</td>\n",
       "      <td>0</td>\n",
       "      <td>0</td>\n",
       "      <td>0</td>\n",
       "      <td>...</td>\n",
       "      <td>0</td>\n",
       "      <td>0</td>\n",
       "      <td>0</td>\n",
       "      <td>0</td>\n",
       "      <td>0</td>\n",
       "      <td>0</td>\n",
       "      <td>0</td>\n",
       "      <td>0</td>\n",
       "      <td>0</td>\n",
       "      <td>0</td>\n",
       "    </tr>\n",
       "    <tr>\n",
       "      <th>3</th>\n",
       "      <td>1</td>\n",
       "      <td>2</td>\n",
       "      <td>2</td>\n",
       "      <td>0</td>\n",
       "      <td>2</td>\n",
       "      <td>1</td>\n",
       "      <td>0</td>\n",
       "      <td>1</td>\n",
       "      <td>0</td>\n",
       "      <td>0</td>\n",
       "      <td>...</td>\n",
       "      <td>0</td>\n",
       "      <td>0</td>\n",
       "      <td>0</td>\n",
       "      <td>0</td>\n",
       "      <td>0</td>\n",
       "      <td>0</td>\n",
       "      <td>0</td>\n",
       "      <td>0</td>\n",
       "      <td>3</td>\n",
       "      <td>0</td>\n",
       "    </tr>\n",
       "    <tr>\n",
       "      <th>4</th>\n",
       "      <td>0</td>\n",
       "      <td>0</td>\n",
       "      <td>0</td>\n",
       "      <td>0</td>\n",
       "      <td>0</td>\n",
       "      <td>0</td>\n",
       "      <td>0</td>\n",
       "      <td>0</td>\n",
       "      <td>1</td>\n",
       "      <td>0</td>\n",
       "      <td>...</td>\n",
       "      <td>0</td>\n",
       "      <td>0</td>\n",
       "      <td>0</td>\n",
       "      <td>0</td>\n",
       "      <td>0</td>\n",
       "      <td>0</td>\n",
       "      <td>0</td>\n",
       "      <td>0</td>\n",
       "      <td>0</td>\n",
       "      <td>0</td>\n",
       "    </tr>\n",
       "  </tbody>\n",
       "</table>\n",
       "<p>5 rows × 500 columns</p>\n",
       "</div>"
      ],
      "text/plain": [
       "   concepción_noun  constitución_propn  artículo_noun  nacer_verb  \\\n",
       "0                0                   0              0           0   \n",
       "1                0                   3              1           1   \n",
       "2                0                   0              0           0   \n",
       "3                1                   2              2           0   \n",
       "4                0                   0              0           0   \n",
       "\n",
       "   internacional_adj  persona_noun  convicción_noun  humano_adj  palabra_noun  \\\n",
       "0                  0             0                0           0             0   \n",
       "1                  0             2                0           0             2   \n",
       "2                  0             0                0           0             0   \n",
       "3                  2             1                0           1             0   \n",
       "4                  0             0                0           0             1   \n",
       "\n",
       "   convención_propn  ...  pareja_noun  religioso_adj  sensible_adj  \\\n",
       "0                 0  ...            0              0             0   \n",
       "1                 0  ...            0              0             0   \n",
       "2                 0  ...            0              0             0   \n",
       "3                 0  ...            0              0             0   \n",
       "4                 0  ...            0              0             0   \n",
       "\n",
       "   transitar_verb  transversal_adj  uno_adj  varios_adj  e_cconj  \\\n",
       "0               0                0        0           0        0   \n",
       "1               0                0        0           0        0   \n",
       "2               0                0        0           0        0   \n",
       "3               0                0        0           0        0   \n",
       "4               0                0        0           0        0   \n",
       "\n",
       "   solamente_adv  agosto_noun  \n",
       "0              0            0  \n",
       "1              0            0  \n",
       "2              0            0  \n",
       "3              3            0  \n",
       "4              0            0  \n",
       "\n",
       "[5 rows x 500 columns]"
      ]
     },
     "execution_count": 23,
     "metadata": {},
     "output_type": "execute_result"
    }
   ],
   "source": [
    "proportions_vectorizer = CountVectorizer(\n",
    "    vocabulary=proportions_words\n",
    ")\n",
    "X = proportions_vectorizer.fit_transform(data.loc[X_train_index, \"speech_lemma_pos\"])\n",
    "proportions_lemmas = (\n",
    "    pd\n",
    "    .DataFrame(\n",
    "        X.toarray(),\n",
    "        columns=proportions_vectorizer.get_feature_names_out()\n",
    "    )\n",
    ")\n",
    "proportions_lemmas.head()"
   ]
  },
  {
   "cell_type": "code",
   "execution_count": 24,
   "metadata": {},
   "outputs": [],
   "source": [
    "proportions_vectorizer_path = os.path.join(VECTORIZERS, \"proporciones_vectorizer.pkl\")\n",
    "_ = joblib.dump(proportions_vectorizer, proportions_vectorizer_path, compress=True)"
   ]
  },
  {
   "cell_type": "markdown",
   "metadata": {},
   "source": [
    "### Variable _target_"
   ]
  },
  {
   "cell_type": "code",
   "execution_count": 61,
   "metadata": {},
   "outputs": [],
   "source": [
    "le = LabelEncoder()\n",
    "\n",
    "data[\"target\"] = le.fit_transform(data.vote)"
   ]
  },
  {
   "cell_type": "code",
   "execution_count": 62,
   "metadata": {},
   "outputs": [
    {
     "name": "stdout",
     "output_type": "stream",
     "text": [
      "Categoría positivo ---> 1\n",
      "Categoría negativo ---> 0\n"
     ]
    }
   ],
   "source": [
    "for value in data.vote.unique():\n",
    "    print(f\"Categoría {value} ---> {le.transform([value])[0]}\")"
   ]
  },
  {
   "cell_type": "code",
   "execution_count": 63,
   "metadata": {},
   "outputs": [],
   "source": [
    "le_path = os.path.join(MODELS_PATH, \"labelencoder.pkl\")\n",
    "_ = joblib.dump(le, le_path)"
   ]
  }
 ],
 "metadata": {
  "kernelspec": {
   "display_name": "eddc-tp",
   "language": "python",
   "name": "python3"
  },
  "language_info": {
   "codemirror_mode": {
    "name": "ipython",
    "version": 3
   },
   "file_extension": ".py",
   "mimetype": "text/x-python",
   "name": "python",
   "nbconvert_exporter": "python",
   "pygments_lexer": "ipython3",
   "version": "3.11.4"
  },
  "orig_nbformat": 4
 },
 "nbformat": 4,
 "nbformat_minor": 2
}
